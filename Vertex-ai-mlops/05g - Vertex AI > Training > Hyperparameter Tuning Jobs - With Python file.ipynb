{
 "cells": [
  {
   "cell_type": "markdown",
   "id": "08b4010a",
   "metadata": {},
   "source": [
    "# 05g - Vertex AI > Training > Hyperparameter Tuning Jobs\n",
    "\n",
    "### 05 Series Overview\n",
    "Where a model gets trained is where it consumes computing resources.  With Vertex AI, you have choices for configuring the computing resources available at training.  This notebook is an example of an execution environment.  When it was set up there were choices for machine type and accelerators (GPUs).  \n",
    "\n",
    "In the `05` notebook, the model training happened directly in the notebook.  The models were then imported to Vertex AI and deployed to an endpoint for online predictions. \n",
    "\n",
    "In this `05a-05i` series of demonstrations, the same model is trained using managed computing resources in Vertex AI as custom training jobs.  These jobs will be demonstrated as:\n",
    "\n",
    "-  Custom Job from a python script (`05a`), python source distribution (`05b`), and custom container (`05c`)\n",
    "-  Training Pipeline that trains and saves models from a python script (`05d`), python source distribution (`05e`), and custom container (`05f`)\n",
    "-  Hyperparameter Tuning Jobs from a python script (`05g`), python source distribution (`05h`), and custom container (`05i`)\n",
    "\n",
    "### This Notebook (`05g`): An extension of `05a` with Hyperparameter Tuning\n",
    "This notebook trains the same Tensorflow Keras model from `05` by first modifying and saving the training code to a python script (same as `05a`).\n",
    "\n",
    "The script is then used as an input for a Vertex AI > Training > Custom Job that is also assigned compute resources and a [pre-built container for custom training](https://cloud.google.com/vertex-ai/docs/training/pre-built-containers) for executing the training in a managed service. This is done with [Vertex AI Python SDK](https://googleapis.dev/python/aiplatform/latest/aiplatform.html#) using the class [`aiplatform.CustomJob.from_local_script()`](https://googleapis.dev/python/aiplatform/latest/aiplatform.html#google.cloud.aiplatform.CustomJob.from_local_script).\n",
    "\n",
    "The Custom Job is then used as the input for a Vertex AI > Training > Hyperparameter Tuning Job.  This runs and manages the tuning loops for the number of trials in each loop, collects the metric(s) and manages the parameters with the selected search algorithm for parameter modification.  This is done with the [Vertex AI Python SDK](https://googleapis.dev/python/aiplatform/latest/aiplatform.html#) using the class [`aiplatform.HyperparameterTuningJob()`](https://googleapis.dev/python/aiplatform/latest/aiplatform.html#google.cloud.aiplatform.HyperparameterTuningJob).\n",
    "\n",
    "The training can be reviewed with Vertex AI's managed Tensorboard under Vertex AI > Experiments > Experiments, or by clicking on the `05g...` job under Vertex AI > Training > Hyperparameters Tuning Jobs and then clicking the 'Open Tensorboard' link. Each set of hyperparameters tried will show up as a separate run of the model training.  Tensorboard has section called Hparams that makes comparing these runs easier and the setup and use of this feature is in the next notebooks of the series `05h` and `05i`.\n",
    "\n",
    "<img src=\"architectures/overview/Training.png\">\n",
    "\n",
    "### Prerequisites:\n",
    "-  01 - BigQuery - Table Data Source\n",
    "-  Understanding:\n",
    "    -  05 - Vertex AI > Notebooks - Models Built in Notebooks with Tensorflow\n",
    "        -  Contains a more granular review of the Tensorflow model training\n",
    "\n",
    "### Overview:\n",
    "-  Setup\n",
    "-  Connect to Tensorboard instance from 05\n",
    "-  Create a `train.py` Python script that recreates the local training in 05\n",
    "-  Use Python Client google.cloud.aiplatform for Vertex AI\n",
    "   -  Custom training job with aiplatform.CustomJob.from_local_script\n",
    "   -  Hyperparameter tuning job with aiplatform.HyperparameterTuningJob\n",
    "      -  Run job with .run\n",
    "   -  Upload best Model to Vertex AI with aiplatform.Model.upload\n",
    "   -  Create Endpoint with Vertex AI with aiplatform.Endpoint.create\n",
    "      -  Deploy model to endpoint with .deploy \n",
    "-  Online Prediction demonstrated using Vertex AI Endpoint with deployed model\n",
    "   -  Get records to score from BigQuery table\n",
    "   -  Prediction with aiplatform.Endpoint.predict\n",
    "   -  Prediction with REST\n",
    "   -  Prediction with gcloud (CLI)\n",
    "\n",
    "### Resources:\n",
    "-  [BigQuery Tensorflow Reader](https://www.tensorflow.org/io/tutorials/bigquery)\n",
    "-  [Keras Sequential](https://www.tensorflow.org/api_docs/python/tf/keras/Sequential)\n",
    "   -  [Keras API](https://www.tensorflow.org/api_docs/python/tf/keras)\n",
    "-  [Python Client For Google BigQuery](https://googleapis.dev/python/bigquery/latest/index.html)\n",
    "-  [Tensorflow Python Client](https://www.tensorflow.org/api_docs/python/tf)\n",
    "-  [Tensorflow I/O Python Client](https://www.tensorflow.org/io/api_docs/python/tfio/bigquery)\n",
    "-  [Python Client for Vertex AI](https://googleapis.dev/python/aiplatform/latest/aiplatform.html)\n",
    "-  Containers for training (Pre-Built)\n",
    "   -  [Overview](https://cloud.google.com/vertex-ai/docs/training/create-python-pre-built-container)\n",
    "   -  [List](https://cloud.google.com/vertex-ai/docs/training/pre-built-containers)\n",
    "-  Vertex AI Hyperparameter Tuning\n",
    "   -  [Overview of Hyperparameter Tuning](https://cloud.google.com/vertex-ai/docs/training/hyperparameter-tuning-overview)\n",
    "   -  [Using Hyperparameter Tuning](https://cloud.google.com/vertex-ai/docs/training/using-hyperparameter-tuning)\n"
   ]
  },
  {
   "cell_type": "markdown",
   "id": "de1da57d",
   "metadata": {},
   "source": [
    "---\n",
    "## Vertex AI - Conceptual Flow\n",
    "\n",
    "<img src=\"architectures/slides/05g_arch.png\">\n",
    "\n",
    "---\n",
    "## Vertex AI - Workflow\n",
    "\n",
    "<img src=\"architectures/slides/05g_console.png\">"
   ]
  },
  {
   "cell_type": "markdown",
   "id": "c6aa954d",
   "metadata": {},
   "source": [
    "---\n",
    "## Setup"
   ]
  },
  {
   "cell_type": "markdown",
   "id": "f05565fc",
   "metadata": {},
   "source": [
    "inputs:"
   ]
  },
  {
   "cell_type": "code",
   "execution_count": 1,
   "id": "5cbb3331",
   "metadata": {},
   "outputs": [],
   "source": [
    "REGION = 'us-central1'\n",
    "PROJECT_ID='statmike-demo3'\n",
    "DATANAME = 'fraud'\n",
    "NOTEBOOK = '05g'\n",
    "\n",
    "# Resources\n",
    "TRAIN_IMAGE = 'us-docker.pkg.dev/vertex-ai/training/tf-cpu.2-7:latest'\n",
    "DEPLOY_IMAGE ='us-docker.pkg.dev/vertex-ai/prediction/tf2-cpu.2-7:latest'\n",
    "TRAIN_COMPUTE = 'n1-standard-4'\n",
    "DEPLOY_COMPUTE = 'n1-standard-4'\n",
    "\n",
    "# Model Training\n",
    "VAR_TARGET = 'Class'\n",
    "VAR_OMIT = 'transaction_id' # add more variables to the string with space delimiters\n",
    "EPOCHS = 10\n",
    "BATCH_SIZE = 100"
   ]
  },
  {
   "cell_type": "markdown",
   "id": "9328f759",
   "metadata": {},
   "source": [
    "packages:"
   ]
  },
  {
   "cell_type": "code",
   "execution_count": 2,
   "id": "2b9e6218",
   "metadata": {},
   "outputs": [],
   "source": [
    "from google.cloud import aiplatform\n",
    "from datetime import datetime\n",
    "\n",
    "from google.cloud import bigquery\n",
    "from google.protobuf import json_format\n",
    "from google.protobuf.struct_pb2 import Value\n",
    "import json\n",
    "import numpy as np"
   ]
  },
  {
   "cell_type": "markdown",
   "id": "0ca8d5b7",
   "metadata": {},
   "source": [
    "clients:"
   ]
  },
  {
   "cell_type": "code",
   "execution_count": 3,
   "id": "d7f7b473",
   "metadata": {},
   "outputs": [],
   "source": [
    "aiplatform.init(project=PROJECT_ID, location=REGION)\n",
    "bigquery = bigquery.Client()"
   ]
  },
  {
   "cell_type": "markdown",
   "id": "741ed844",
   "metadata": {},
   "source": [
    "parameters:"
   ]
  },
  {
   "cell_type": "code",
   "execution_count": 4,
   "id": "f2c63af6",
   "metadata": {},
   "outputs": [],
   "source": [
    "TIMESTAMP = datetime.now().strftime(\"%Y%m%d%H%M%S\")\n",
    "BUCKET = PROJECT_ID\n",
    "URI = f\"gs://{BUCKET}/{DATANAME}/models/{NOTEBOOK}\"\n",
    "DIR = f\"temp/{NOTEBOOK}\""
   ]
  },
  {
   "cell_type": "code",
   "execution_count": 5,
   "id": "1be55ce8",
   "metadata": {},
   "outputs": [
    {
     "data": {
      "text/plain": [
       "'715288179162-compute@developer.gserviceaccount.com'"
      ]
     },
     "execution_count": 5,
     "metadata": {},
     "output_type": "execute_result"
    }
   ],
   "source": [
    "# Give service account roles/storage.objectAdmin permissions\n",
    "# Console > IMA > Select Account <projectnumber>-compute@developer.gserviceaccount.com > edit - give role\n",
    "SERVICE_ACCOUNT = !gcloud config list --format='value(core.account)' \n",
    "SERVICE_ACCOUNT = SERVICE_ACCOUNT[0]\n",
    "SERVICE_ACCOUNT"
   ]
  },
  {
   "cell_type": "markdown",
   "id": "476af43c",
   "metadata": {},
   "source": [
    "environment:"
   ]
  },
  {
   "cell_type": "code",
   "execution_count": 6,
   "id": "194cf496",
   "metadata": {},
   "outputs": [],
   "source": [
    "!rm -rf {DIR}\n",
    "!mkdir -p {DIR}"
   ]
  },
  {
   "cell_type": "markdown",
   "id": "351c17fe-cf92-4014-be03-0c711a4fba9c",
   "metadata": {
    "tags": []
   },
   "source": [
    "---\n",
    "## Get Vertex AI Experiments Tensorboard Instance Name\n",
    "[Vertex AI Experiments](https://cloud.google.com/vertex-ai/docs/experiments/tensorboard-overview) has managed [Tensorboard](https://www.tensorflow.org/tensorboard) instances that you can track Tensorboard Experiments (a training run or hyperparameter tuning sweep).  \n",
    "\n",
    "The training job will show up as an experiment for the Tensorboard instance and have the same name as the training job ID.\n",
    "\n",
    "This code checks to see if a Tensorboard Instance has been created in the project, retrieves it if so, creates it otherwise:"
   ]
  },
  {
   "cell_type": "code",
   "execution_count": 7,
   "id": "b930b1c6-2891-4ae3-9ac6-50bdffcb0122",
   "metadata": {},
   "outputs": [],
   "source": [
    "tb = aiplatform.Tensorboard.list(filter=f'display_name={DATANAME}')\n",
    "if tb:\n",
    "    tb = tb[0]\n",
    "else:\n",
    "    tb = aiplatform.Tensorboard.create(display_name = DATANAME, labels = {'notebook':f'{DATANAME}'})"
   ]
  },
  {
   "cell_type": "code",
   "execution_count": 8,
   "id": "76a7716d-7645-48dd-8398-e7e70ad739e1",
   "metadata": {
    "tags": []
   },
   "outputs": [
    {
     "data": {
      "text/plain": [
       "'projects/715288179162/locations/us-central1/tensorboards/6212451803166932992'"
      ]
     },
     "execution_count": 8,
     "metadata": {},
     "output_type": "execute_result"
    }
   ],
   "source": [
    "tb.resource_name"
   ]
  },
  {
   "cell_type": "markdown",
   "id": "06880307",
   "metadata": {},
   "source": [
    "---\n",
    "## Training"
   ]
  },
  {
   "cell_type": "markdown",
   "id": "93c5093a",
   "metadata": {},
   "source": [
    "### Assemble Python File for Training\n",
    "\n",
    "Create the main python trainer file as `/train.py`:"
   ]
  },
  {
   "cell_type": "code",
   "execution_count": 9,
   "id": "85167018-49ea-453c-ae3a-1dad3409fe0b",
   "metadata": {},
   "outputs": [
    {
     "name": "stdout",
     "output_type": "stream",
     "text": [
      "Writing temp/05g/train.py\n"
     ]
    }
   ],
   "source": [
    "%%writefile {DIR}/train.py\n",
    "\n",
    "\n",
    "# package import\n",
    "from tensorflow.python.framework import dtypes\n",
    "from tensorflow_io.bigquery import BigQueryClient\n",
    "import tensorflow as tf\n",
    "from google.cloud import bigquery\n",
    "import argparse\n",
    "import os\n",
    "import sys\n",
    "import hypertune\n",
    "\n",
    "# import argument to local variables\n",
    "parser = argparse.ArgumentParser()\n",
    "# the passed param, dest: a name for the param, default: if absent fetch this param from the OS, type: type to convert to, help: description of argument\n",
    "parser.add_argument('--epochs', dest = 'epochs', default = 10, type = int, help = 'Number of Epochs')\n",
    "parser.add_argument('--batch_size', dest = 'batch_size', default = 32, type = int, help = 'Batch Size')\n",
    "parser.add_argument('--var_target', dest = 'var_target', type=str)\n",
    "parser.add_argument('--var_omit', dest = 'var_omit', type=str, nargs='*')\n",
    "parser.add_argument('--project_id', dest = 'project_id', type=str)\n",
    "parser.add_argument('--dataname', dest = 'dataname', type=str)\n",
    "parser.add_argument('--region', dest = 'region', type=str)\n",
    "parser.add_argument('--notebook', dest = 'notebook', type=str)\n",
    "# hyperparameters\n",
    "parser.add_argument('--lr',dest='learning_rate', required=True, type=float, help='Learning Rate')\n",
    "parser.add_argument('--m',dest='momentum', required=True, type=float, help='Momentum')\n",
    "args = parser.parse_args()\n",
    "\n",
    "# built in parameters for data source:\n",
    "PROJECT_ID = args.project_id\n",
    "DATANAME = args.dataname\n",
    "REGION = args.region\n",
    "NOTEBOOK = args.notebook\n",
    "\n",
    "# clients\n",
    "bigquery = bigquery.Client(project = PROJECT_ID)\n",
    "\n",
    "# get schema from bigquery source\n",
    "query = f\"SELECT * FROM {DATANAME}.INFORMATION_SCHEMA.COLUMNS WHERE TABLE_NAME = '{DATANAME}_prepped'\"\n",
    "schema = bigquery.query(query).to_dataframe()\n",
    "\n",
    "# get number of classes from bigquery source\n",
    "nclasses = bigquery.query(query = f'SELECT DISTINCT {args.var_target} FROM {DATANAME}.{DATANAME}_prepped WHERE {args.var_target} is not null').to_dataframe()\n",
    "nclasses = nclasses.shape[0]\n",
    "\n",
    "# Make a list of columns to omit\n",
    "OMIT = args.var_omit + ['splits']\n",
    "\n",
    "# use schema to prepare a list of columns to read from BigQuery\n",
    "selected_fields = schema[~schema.column_name.isin(OMIT)].column_name.tolist()\n",
    "\n",
    "# all the columns in this data source are either float64 or int64\n",
    "output_types = [dtypes.float64 if x=='FLOAT64' else dtypes.int64 for x in schema[~schema.column_name.isin(OMIT)].data_type.tolist()]\n",
    "\n",
    "# remap input data to Tensorflow inputs of features and target\n",
    "def transTable(row_dict):\n",
    "    target=row_dict.pop(args.var_target)\n",
    "    target = tf.one_hot(tf.cast(target,tf.int64), nclasses)\n",
    "    target = tf.cast(target, tf.float32)\n",
    "    return(row_dict, target)\n",
    "\n",
    "# function to setup a bigquery reader with Tensorflow I/O\n",
    "def bq_reader(split):\n",
    "    reader = BigQueryClient()\n",
    "\n",
    "    training = reader.read_session(\n",
    "        parent = f\"projects/{PROJECT_ID}\",\n",
    "        project_id = PROJECT_ID,\n",
    "        table_id = f\"{DATANAME}_prepped\",\n",
    "        dataset_id = DATANAME,\n",
    "        selected_fields = selected_fields,\n",
    "        output_types = output_types,\n",
    "        row_restriction = f\"splits='{split}'\",\n",
    "        requested_streams = 3\n",
    "    )\n",
    "    \n",
    "    return training\n",
    "\n",
    "train = bq_reader('TRAIN').parallel_read_rows().prefetch(1).map(transTable).shuffle(args.batch_size*10).batch(args.batch_size)\n",
    "validate = bq_reader('VALIDATE').parallel_read_rows().prefetch(1).map(transTable).batch(args.batch_size)\n",
    "test = bq_reader('TEST').parallel_read_rows().prefetch(1).map(transTable).batch(args.batch_size)\n",
    "\n",
    "# Logistic Regression\n",
    "\n",
    "# model input definitions\n",
    "feature_columns = {header: tf.feature_column.numeric_column(header) for header in selected_fields if header != args.var_target}\n",
    "feature_layer_inputs = {header: tf.keras.layers.Input(shape = (1,), name = header) for header in selected_fields if header != args.var_target}\n",
    "\n",
    "# feature columns to a Dense Feature Layer\n",
    "feature_layer_outputs = tf.keras.layers.DenseFeatures(feature_columns.values())(feature_layer_inputs)\n",
    "\n",
    "# batch normalization then Dense with softmax activation to nclasses\n",
    "layers = tf.keras.layers.BatchNormalization()(feature_layer_outputs)\n",
    "layers = tf.keras.layers.Dense(nclasses, activation = tf.nn.softmax)(layers)\n",
    "\n",
    "# the model\n",
    "model = tf.keras.Model(\n",
    "    inputs = feature_layer_inputs,\n",
    "    outputs = layers\n",
    ")\n",
    "\n",
    "#opt = tf.keras.optimizers.SGD() #SGD or Adam\n",
    "opt = tf.keras.optimizers.SGD(learning_rate=args.learning_rate, momentum=args.momentum)\n",
    "\n",
    "loss = tf.keras.losses.CategoricalCrossentropy()\n",
    "model.compile(\n",
    "    optimizer = opt,\n",
    "    loss = loss,\n",
    "    metrics = ['accuracy', tf.keras.metrics.AUC(curve='PR')]\n",
    ")\n",
    "\n",
    "# setup tensorboard logs and train\n",
    "tensorboard_callback = tf.keras.callbacks.TensorBoard(log_dir=os.environ['AIP_TENSORBOARD_LOG_DIR'], histogram_freq=1)\n",
    "history = model.fit(train, epochs = args.epochs, callbacks = [tensorboard_callback], validation_data = validate)\n",
    "\n",
    "# output the model save files\n",
    "model.save(os.getenv(\"AIP_MODEL_DIR\"))\n",
    "\n",
    "# report hypertune info back to Vertex AI Training > Hyperparamter Tuning Job\n",
    "hpt = hypertune.HyperTune()\n",
    "hpt.report_hyperparameter_tuning_metric(\n",
    "    hyperparameter_metric_tag = 'loss',\n",
    "    metric_value = history.history['loss'][-1],\n",
    "    global_step = 1)"
   ]
  },
  {
   "cell_type": "markdown",
   "id": "f3ea9334",
   "metadata": {},
   "source": [
    "### Setup Training Job"
   ]
  },
  {
   "cell_type": "code",
   "execution_count": 10,
   "id": "6f99fcc8-7eaf-4086-b214-04b3159d5abf",
   "metadata": {},
   "outputs": [],
   "source": [
    "CMDARGS = [\n",
    "    \"--epochs=\" + str(EPOCHS),\n",
    "    \"--batch_size=\" + str(BATCH_SIZE),\n",
    "    \"--var_target=\" + VAR_TARGET,\n",
    "    \"--var_omit=\" + VAR_OMIT,\n",
    "    \"--project_id=\" + PROJECT_ID,\n",
    "    \"--dataname=\" + DATANAME,\n",
    "    \"--region=\" + REGION,\n",
    "    \"--notebook=\" + NOTEBOOK\n",
    "]"
   ]
  },
  {
   "cell_type": "code",
   "execution_count": 11,
   "id": "0a2b628d-f699-467e-9ca6-2e1d1080f191",
   "metadata": {},
   "outputs": [
    {
     "name": "stdout",
     "output_type": "stream",
     "text": [
      "INFO:google.cloud.aiplatform.utils.source_utils:Training script copied to:\n",
      "gs://statmike-demo3/fraud/models/05g/20220311133230/aiplatform-2022-03-11-13:37:02.109-aiplatform_custom_trainer_script-0.1.tar.gz.\n"
     ]
    }
   ],
   "source": [
    "customJob = aiplatform.CustomJob.from_local_script(\n",
    "    display_name = f'{NOTEBOOK}_{DATANAME}_{TIMESTAMP}',\n",
    "    script_path = f\"{DIR}/train.py\",\n",
    "    container_uri = TRAIN_IMAGE,\n",
    "    args = CMDARGS,\n",
    "    requirements = ['tensorflow_io'],\n",
    "    replica_count = 1,\n",
    "    machine_type = TRAIN_COMPUTE,\n",
    "    accelerator_count = 0,\n",
    "    base_output_dir = f\"{URI}/{TIMESTAMP}\",\n",
    "    staging_bucket = f\"{URI}/{TIMESTAMP}\",\n",
    "    labels = {'notebook':f'{NOTEBOOK}'}\n",
    ")"
   ]
  },
  {
   "cell_type": "markdown",
   "id": "b04b2e81",
   "metadata": {},
   "source": [
    "### Setup Hyperparameter Tuning Job"
   ]
  },
  {
   "cell_type": "code",
   "execution_count": 12,
   "id": "aea9f388-7bb8-4691-a9ef-1a46257e5d0a",
   "metadata": {},
   "outputs": [],
   "source": [
    "METRIC_SPEC = {\n",
    "    \"loss\": \"minimize\"\n",
    "}\n",
    "\n",
    "PARAMETER_SPEC = {\n",
    "    \"lr\": aiplatform.hyperparameter_tuning.DoubleParameterSpec(min=0.001, max=0.1, scale=\"log\"),\n",
    "    \"m\": aiplatform.hyperparameter_tuning.DoubleParameterSpec(min=1e-7, max=0.9, scale=\"linear\")\n",
    "}"
   ]
  },
  {
   "cell_type": "code",
   "execution_count": 13,
   "id": "c4e0035e-67fc-44e2-a8e3-0ec9da50f7b0",
   "metadata": {},
   "outputs": [],
   "source": [
    "htJob = aiplatform.HyperparameterTuningJob(\n",
    "    display_name = f'{NOTEBOOK}_{DATANAME}_{TIMESTAMP}',\n",
    "    custom_job = customJob,\n",
    "    metric_spec = METRIC_SPEC,\n",
    "    parameter_spec = PARAMETER_SPEC,\n",
    "    max_trial_count = 20,\n",
    "    parallel_trial_count = 5,\n",
    "    search_algorithm = None,\n",
    "    labels = {'notebook':f'{NOTEBOOK}'}\n",
    ")"
   ]
  },
  {
   "cell_type": "markdown",
   "id": "a6249099",
   "metadata": {},
   "source": [
    "### Run Training Job"
   ]
  },
  {
   "cell_type": "code",
   "execution_count": 14,
   "id": "1cc277b5-dfbf-4081-9610-86801aa55631",
   "metadata": {},
   "outputs": [
    {
     "name": "stdout",
     "output_type": "stream",
     "text": [
      "INFO:google.cloud.aiplatform.jobs:Creating HyperparameterTuningJob\n",
      "INFO:google.cloud.aiplatform.jobs:HyperparameterTuningJob created. Resource name: projects/715288179162/locations/us-central1/hyperparameterTuningJobs/5856367265930280960\n",
      "INFO:google.cloud.aiplatform.jobs:To use this HyperparameterTuningJob in another session:\n",
      "INFO:google.cloud.aiplatform.jobs:hpt_job = aiplatform.HyperparameterTuningJob.get('projects/715288179162/locations/us-central1/hyperparameterTuningJobs/5856367265930280960')\n",
      "INFO:google.cloud.aiplatform.jobs:View HyperparameterTuningJob:\n",
      "https://console.cloud.google.com/ai/platform/locations/us-central1/training/5856367265930280960?project=715288179162\n",
      "INFO:google.cloud.aiplatform.jobs:View Tensorboard:\n",
      "https://us-central1.tensorboard.googleusercontent.com/experiment/projects+715288179162+locations+us-central1+tensorboards+6212451803166932992+experiments+5856367265930280960\n",
      "INFO:google.cloud.aiplatform.jobs:HyperparameterTuningJob projects/715288179162/locations/us-central1/hyperparameterTuningJobs/5856367265930280960 current state:\n",
      "JobState.JOB_STATE_PENDING\n",
      "INFO:google.cloud.aiplatform.jobs:HyperparameterTuningJob projects/715288179162/locations/us-central1/hyperparameterTuningJobs/5856367265930280960 current state:\n",
      "JobState.JOB_STATE_RUNNING\n",
      "INFO:google.cloud.aiplatform.jobs:HyperparameterTuningJob projects/715288179162/locations/us-central1/hyperparameterTuningJobs/5856367265930280960 current state:\n",
      "JobState.JOB_STATE_RUNNING\n",
      "INFO:google.cloud.aiplatform.jobs:HyperparameterTuningJob projects/715288179162/locations/us-central1/hyperparameterTuningJobs/5856367265930280960 current state:\n",
      "JobState.JOB_STATE_RUNNING\n",
      "INFO:google.cloud.aiplatform.jobs:HyperparameterTuningJob projects/715288179162/locations/us-central1/hyperparameterTuningJobs/5856367265930280960 current state:\n",
      "JobState.JOB_STATE_RUNNING\n",
      "INFO:google.cloud.aiplatform.jobs:HyperparameterTuningJob projects/715288179162/locations/us-central1/hyperparameterTuningJobs/5856367265930280960 current state:\n",
      "JobState.JOB_STATE_RUNNING\n",
      "INFO:google.cloud.aiplatform.jobs:HyperparameterTuningJob projects/715288179162/locations/us-central1/hyperparameterTuningJobs/5856367265930280960 current state:\n",
      "JobState.JOB_STATE_RUNNING\n",
      "INFO:google.cloud.aiplatform.jobs:HyperparameterTuningJob projects/715288179162/locations/us-central1/hyperparameterTuningJobs/5856367265930280960 current state:\n",
      "JobState.JOB_STATE_RUNNING\n",
      "INFO:google.cloud.aiplatform.jobs:HyperparameterTuningJob projects/715288179162/locations/us-central1/hyperparameterTuningJobs/5856367265930280960 current state:\n",
      "JobState.JOB_STATE_RUNNING\n",
      "INFO:google.cloud.aiplatform.jobs:HyperparameterTuningJob projects/715288179162/locations/us-central1/hyperparameterTuningJobs/5856367265930280960 current state:\n",
      "JobState.JOB_STATE_RUNNING\n",
      "INFO:google.cloud.aiplatform.jobs:HyperparameterTuningJob projects/715288179162/locations/us-central1/hyperparameterTuningJobs/5856367265930280960 current state:\n",
      "JobState.JOB_STATE_RUNNING\n",
      "INFO:google.cloud.aiplatform.jobs:HyperparameterTuningJob projects/715288179162/locations/us-central1/hyperparameterTuningJobs/5856367265930280960 current state:\n",
      "JobState.JOB_STATE_RUNNING\n",
      "INFO:google.cloud.aiplatform.jobs:HyperparameterTuningJob projects/715288179162/locations/us-central1/hyperparameterTuningJobs/5856367265930280960 current state:\n",
      "JobState.JOB_STATE_RUNNING\n",
      "INFO:google.cloud.aiplatform.jobs:HyperparameterTuningJob projects/715288179162/locations/us-central1/hyperparameterTuningJobs/5856367265930280960 current state:\n",
      "JobState.JOB_STATE_RUNNING\n",
      "INFO:google.cloud.aiplatform.jobs:HyperparameterTuningJob projects/715288179162/locations/us-central1/hyperparameterTuningJobs/5856367265930280960 current state:\n",
      "JobState.JOB_STATE_RUNNING\n",
      "INFO:google.cloud.aiplatform.jobs:HyperparameterTuningJob projects/715288179162/locations/us-central1/hyperparameterTuningJobs/5856367265930280960 current state:\n",
      "JobState.JOB_STATE_SUCCEEDED\n",
      "INFO:google.cloud.aiplatform.jobs:HyperparameterTuningJob run completed. Resource name: projects/715288179162/locations/us-central1/hyperparameterTuningJobs/5856367265930280960\n"
     ]
    }
   ],
   "source": [
    "htJob.run(\n",
    "    service_account = SERVICE_ACCOUNT,\n",
    "    tensorboard = tb.resource_name\n",
    ")"
   ]
  },
  {
   "cell_type": "code",
   "execution_count": 17,
   "id": "faed179a",
   "metadata": {},
   "outputs": [
    {
     "data": {
      "text/plain": [
       "[0.006363454274833202,\n",
       " 0.007077287416905165,\n",
       " 0.00444474583491683,\n",
       " 0.004116846714168787,\n",
       " 0.011288979090750217,\n",
       " 0.0039041812997311354,\n",
       " 0.004485848359763622,\n",
       " 0.003924079705029726,\n",
       " 0.004134172573685646,\n",
       " 0.0040971399284899235,\n",
       " 0.003585193306207657,\n",
       " 0.0035061598755419254,\n",
       " 0.003902019700035453,\n",
       " 0.0036162002943456173,\n",
       " 0.0036792096216231585,\n",
       " 0.003516102209687233,\n",
       " 0.003575635142624378,\n",
       " 0.003391080303117633,\n",
       " 0.0036769655998796225,\n",
       " 0.003585224272683263]"
      ]
     },
     "execution_count": 17,
     "metadata": {},
     "output_type": "execute_result"
    }
   ],
   "source": [
    "# if trial.state.name == 'SUCCEEDED'\n",
    "losses = [trial.final_measurement.metrics[0].value if trial.state.name == 'SUCCEEDED' else 1 for trial in htJob.trials]\n",
    "losses"
   ]
  },
  {
   "cell_type": "code",
   "execution_count": 18,
   "id": "5e699294",
   "metadata": {},
   "outputs": [
    {
     "data": {
      "text/plain": [
       "id: \"18\"\n",
       "state: SUCCEEDED\n",
       "parameters {\n",
       "  parameter_id: \"lr\"\n",
       "  value {\n",
       "    number_value: 0.1\n",
       "  }\n",
       "}\n",
       "parameters {\n",
       "  parameter_id: \"m\"\n",
       "  value {\n",
       "    number_value: 0.6393941298562111\n",
       "  }\n",
       "}\n",
       "final_measurement {\n",
       "  step_count: 1\n",
       "  metrics {\n",
       "    metric_id: \"loss\"\n",
       "    value: 0.003391080303117633\n",
       "  }\n",
       "}\n",
       "start_time {\n",
       "  seconds: 1649211640\n",
       "  nanos: 834104264\n",
       "}\n",
       "end_time {\n",
       "  seconds: 1649212011\n",
       "}"
      ]
     },
     "execution_count": 18,
     "metadata": {},
     "output_type": "execute_result"
    }
   ],
   "source": [
    "best = htJob.trials[losses.index(min(losses))]\n",
    "best"
   ]
  },
  {
   "cell_type": "markdown",
   "id": "0e4dbb03-a659-4428-a168-83c520f9a4ee",
   "metadata": {},
   "source": [
    "### TensorBoard"
   ]
  },
  {
   "cell_type": "code",
   "execution_count": 20,
   "id": "87acff95-c7fc-4092-968c-537152641822",
   "metadata": {},
   "outputs": [
    {
     "data": {
      "text/plain": [
       "'temp/05g'"
      ]
     },
     "execution_count": 20,
     "metadata": {},
     "output_type": "execute_result"
    }
   ],
   "source": [
    "DIR"
   ]
  },
  {
   "cell_type": "code",
   "execution_count": 22,
   "id": "24421e63-5957-4a46-bdb8-b04a05633d91",
   "metadata": {},
   "outputs": [],
   "source": [
    "!mkdir $DIR/all_logs"
   ]
  },
  {
   "cell_type": "code",
   "execution_count": 23,
   "id": "5a322945-042a-4dfe-9dd8-d026e0449592",
   "metadata": {},
   "outputs": [
    {
     "name": "stdout",
     "output_type": "stream",
     "text": [
      "Copying gs://vertex-ai-mlops-bucket/fraud/models/05g/20220406015150/aiplatform-2022-04-06-01:51:56.624-aiplatform_custom_trainer_script-0.1.tar.gz...\n",
      "/ [1 files][  2.7 KiB/  2.7 KiB]                                                \n",
      "==> NOTE: You are performing a sequence of gsutil operations that may\n",
      "run significantly faster if you instead use gsutil -m cp ... Please\n",
      "see the -m section under \"gsutil help options\" for further information\n",
      "about when gsutil -m can be advantageous.\n",
      "\n",
      "Copying gs://vertex-ai-mlops-bucket/fraud/models/05g/20220406015150/1/logs/train/events.out.tfevents.1649210102.d51d288d6eb9.378.0.v2...\n",
      "Copying gs://vertex-ai-mlops-bucket/fraud/models/05g/20220406015150/1/logs/validation/events.out.tfevents.1649210133.d51d288d6eb9.378.1.v2...\n",
      "Copying gs://vertex-ai-mlops-bucket/fraud/models/05g/20220406015150/1/model/keras_metadata.pb...\n",
      "Copying gs://vertex-ai-mlops-bucket/fraud/models/05g/20220406015150/1/model/saved_model.pb...\n",
      "Copying gs://vertex-ai-mlops-bucket/fraud/models/05g/20220406015150/1/model/variables/variables.data-00000-of-00001...\n",
      "Copying gs://vertex-ai-mlops-bucket/fraud/models/05g/20220406015150/1/model/variables/variables.index...\n",
      "Copying gs://vertex-ai-mlops-bucket/fraud/models/05g/20220406015150/10/logs/train/events.out.tfevents.1649210735.10d29351b84c.378.0.v2...\n",
      "Copying gs://vertex-ai-mlops-bucket/fraud/models/05g/20220406015150/10/logs/validation/events.out.tfevents.1649210770.10d29351b84c.378.1.v2...\n",
      "Copying gs://vertex-ai-mlops-bucket/fraud/models/05g/20220406015150/10/model/keras_metadata.pb...\n",
      "Copying gs://vertex-ai-mlops-bucket/fraud/models/05g/20220406015150/10/model/saved_model.pb...\n",
      "Copying gs://vertex-ai-mlops-bucket/fraud/models/05g/20220406015150/10/model/variables/variables.data-00000-of-00001...\n",
      "Copying gs://vertex-ai-mlops-bucket/fraud/models/05g/20220406015150/10/model/variables/variables.index...\n",
      "Copying gs://vertex-ai-mlops-bucket/fraud/models/05g/20220406015150/11/logs/train/events.out.tfevents.1649211265.5fea6e14fd57.378.0.v2...\n",
      "Copying gs://vertex-ai-mlops-bucket/fraud/models/05g/20220406015150/11/logs/validation/events.out.tfevents.1649211291.5fea6e14fd57.378.1.v2...\n",
      "Copying gs://vertex-ai-mlops-bucket/fraud/models/05g/20220406015150/11/model/keras_metadata.pb...\n",
      "Copying gs://vertex-ai-mlops-bucket/fraud/models/05g/20220406015150/11/model/saved_model.pb...\n",
      "Copying gs://vertex-ai-mlops-bucket/fraud/models/05g/20220406015150/11/model/variables/variables.data-00000-of-00001...\n",
      "Copying gs://vertex-ai-mlops-bucket/fraud/models/05g/20220406015150/11/model/variables/variables.index...\n",
      "Copying gs://vertex-ai-mlops-bucket/fraud/models/05g/20220406015150/12/logs/train/events.out.tfevents.1649211261.dd046169d338.378.0.v2...\n",
      "Copying gs://vertex-ai-mlops-bucket/fraud/models/05g/20220406015150/12/logs/validation/events.out.tfevents.1649211288.dd046169d338.378.1.v2...\n",
      "Copying gs://vertex-ai-mlops-bucket/fraud/models/05g/20220406015150/12/model/keras_metadata.pb...\n",
      "Copying gs://vertex-ai-mlops-bucket/fraud/models/05g/20220406015150/12/model/saved_model.pb...\n",
      "Copying gs://vertex-ai-mlops-bucket/fraud/models/05g/20220406015150/12/model/variables/variables.data-00000-of-00001...\n",
      "Copying gs://vertex-ai-mlops-bucket/fraud/models/05g/20220406015150/12/model/variables/variables.index...\n",
      "Copying gs://vertex-ai-mlops-bucket/fraud/models/05g/20220406015150/13/logs/train/events.out.tfevents.1649211282.061ecb29eb1f.378.0.v2...\n",
      "Copying gs://vertex-ai-mlops-bucket/fraud/models/05g/20220406015150/13/logs/validation/events.out.tfevents.1649211315.061ecb29eb1f.378.1.v2...\n",
      "Copying gs://vertex-ai-mlops-bucket/fraud/models/05g/20220406015150/13/model/keras_metadata.pb...\n",
      "Copying gs://vertex-ai-mlops-bucket/fraud/models/05g/20220406015150/13/model/saved_model.pb...\n",
      "Copying gs://vertex-ai-mlops-bucket/fraud/models/05g/20220406015150/13/model/variables/variables.data-00000-of-00001...\n",
      "Copying gs://vertex-ai-mlops-bucket/fraud/models/05g/20220406015150/13/model/variables/variables.index...\n",
      "Copying gs://vertex-ai-mlops-bucket/fraud/models/05g/20220406015150/14/logs/train/events.out.tfevents.1649211266.5b66ecd99a60.378.0.v2...\n",
      "Copying gs://vertex-ai-mlops-bucket/fraud/models/05g/20220406015150/14/logs/validation/events.out.tfevents.1649211292.5b66ecd99a60.378.1.v2...\n",
      "Copying gs://vertex-ai-mlops-bucket/fraud/models/05g/20220406015150/14/model/keras_metadata.pb...\n",
      "Copying gs://vertex-ai-mlops-bucket/fraud/models/05g/20220406015150/14/model/saved_model.pb...\n",
      "Copying gs://vertex-ai-mlops-bucket/fraud/models/05g/20220406015150/14/model/variables/variables.data-00000-of-00001...\n",
      "Copying gs://vertex-ai-mlops-bucket/fraud/models/05g/20220406015150/14/model/variables/variables.index...\n",
      "Copying gs://vertex-ai-mlops-bucket/fraud/models/05g/20220406015150/15/logs/train/events.out.tfevents.1649211389.d9b9e3682eca.378.0.v2...\n",
      "Copying gs://vertex-ai-mlops-bucket/fraud/models/05g/20220406015150/15/logs/validation/events.out.tfevents.1649211420.d9b9e3682eca.378.1.v2...\n",
      "Copying gs://vertex-ai-mlops-bucket/fraud/models/05g/20220406015150/15/model/keras_metadata.pb...\n",
      "Copying gs://vertex-ai-mlops-bucket/fraud/models/05g/20220406015150/15/model/saved_model.pb...\n",
      "Copying gs://vertex-ai-mlops-bucket/fraud/models/05g/20220406015150/15/model/variables/variables.data-00000-of-00001...\n",
      "Copying gs://vertex-ai-mlops-bucket/fraud/models/05g/20220406015150/15/model/variables/variables.index...\n",
      "Copying gs://vertex-ai-mlops-bucket/fraud/models/05g/20220406015150/16/logs/train/events.out.tfevents.1649211813.9b1475ec27a7.379.0.v2...\n",
      "Copying gs://vertex-ai-mlops-bucket/fraud/models/05g/20220406015150/16/logs/validation/events.out.tfevents.1649211846.9b1475ec27a7.379.1.v2...\n",
      "Copying gs://vertex-ai-mlops-bucket/fraud/models/05g/20220406015150/16/model/keras_metadata.pb...\n",
      "Copying gs://vertex-ai-mlops-bucket/fraud/models/05g/20220406015150/16/model/saved_model.pb...\n",
      "Copying gs://vertex-ai-mlops-bucket/fraud/models/05g/20220406015150/16/model/variables/variables.data-00000-of-00001...\n",
      "Copying gs://vertex-ai-mlops-bucket/fraud/models/05g/20220406015150/16/model/variables/variables.index...\n",
      "Copying gs://vertex-ai-mlops-bucket/fraud/models/05g/20220406015150/17/logs/train/events.out.tfevents.1649211807.e36d545182af.379.0.v2...\n",
      "Copying gs://vertex-ai-mlops-bucket/fraud/models/05g/20220406015150/17/logs/validation/events.out.tfevents.1649211836.e36d545182af.379.1.v2...\n",
      "Copying gs://vertex-ai-mlops-bucket/fraud/models/05g/20220406015150/17/model/keras_metadata.pb...\n",
      "Copying gs://vertex-ai-mlops-bucket/fraud/models/05g/20220406015150/17/model/saved_model.pb...\n",
      "Copying gs://vertex-ai-mlops-bucket/fraud/models/05g/20220406015150/17/model/variables/variables.data-00000-of-00001...\n",
      "Copying gs://vertex-ai-mlops-bucket/fraud/models/05g/20220406015150/17/model/variables/variables.index...\n",
      "Copying gs://vertex-ai-mlops-bucket/fraud/models/05g/20220406015150/18/logs/train/events.out.tfevents.1649211816.9c3c26990aeb.378.0.v2...\n",
      "Copying gs://vertex-ai-mlops-bucket/fraud/models/05g/20220406015150/18/logs/validation/events.out.tfevents.1649211845.9c3c26990aeb.378.1.v2...\n",
      "Copying gs://vertex-ai-mlops-bucket/fraud/models/05g/20220406015150/18/model/keras_metadata.pb...\n",
      "Copying gs://vertex-ai-mlops-bucket/fraud/models/05g/20220406015150/18/model/saved_model.pb...\n",
      "Copying gs://vertex-ai-mlops-bucket/fraud/models/05g/20220406015150/18/model/variables/variables.data-00000-of-00001...\n",
      "Copying gs://vertex-ai-mlops-bucket/fraud/models/05g/20220406015150/18/model/variables/variables.index...\n",
      "Copying gs://vertex-ai-mlops-bucket/fraud/models/05g/20220406015150/19/logs/train/events.out.tfevents.1649211909.48fa0ecdb821.378.0.v2...\n",
      "Copying gs://vertex-ai-mlops-bucket/fraud/models/05g/20220406015150/19/logs/validation/events.out.tfevents.1649211936.48fa0ecdb821.378.1.v2...\n",
      "Copying gs://vertex-ai-mlops-bucket/fraud/models/05g/20220406015150/19/model/keras_metadata.pb...\n",
      "Copying gs://vertex-ai-mlops-bucket/fraud/models/05g/20220406015150/19/model/saved_model.pb...\n",
      "Copying gs://vertex-ai-mlops-bucket/fraud/models/05g/20220406015150/19/model/variables/variables.data-00000-of-00001...\n",
      "Copying gs://vertex-ai-mlops-bucket/fraud/models/05g/20220406015150/19/model/variables/variables.index...\n",
      "Copying gs://vertex-ai-mlops-bucket/fraud/models/05g/20220406015150/2/logs/train/events.out.tfevents.1649210099.58f877d977c8.378.0.v2...\n",
      "Copying gs://vertex-ai-mlops-bucket/fraud/models/05g/20220406015150/2/logs/validation/events.out.tfevents.1649210129.58f877d977c8.378.1.v2...\n",
      "Copying gs://vertex-ai-mlops-bucket/fraud/models/05g/20220406015150/2/model/keras_metadata.pb...\n",
      "Copying gs://vertex-ai-mlops-bucket/fraud/models/05g/20220406015150/2/model/saved_model.pb...\n",
      "Copying gs://vertex-ai-mlops-bucket/fraud/models/05g/20220406015150/2/model/variables/variables.data-00000-of-00001...\n",
      "Copying gs://vertex-ai-mlops-bucket/fraud/models/05g/20220406015150/2/model/variables/variables.index...\n",
      "Copying gs://vertex-ai-mlops-bucket/fraud/models/05g/20220406015150/20/logs/train/events.out.tfevents.1649212007.e7bbcbdf539d.379.0.v2...\n",
      "Copying gs://vertex-ai-mlops-bucket/fraud/models/05g/20220406015150/20/logs/validation/events.out.tfevents.1649212035.e7bbcbdf539d.379.1.v2...\n",
      "Copying gs://vertex-ai-mlops-bucket/fraud/models/05g/20220406015150/20/model/keras_metadata.pb...\n",
      "Copying gs://vertex-ai-mlops-bucket/fraud/models/05g/20220406015150/20/model/saved_model.pb...\n",
      "Copying gs://vertex-ai-mlops-bucket/fraud/models/05g/20220406015150/20/model/variables/variables.data-00000-of-00001...\n",
      "Copying gs://vertex-ai-mlops-bucket/fraud/models/05g/20220406015150/20/model/variables/variables.index...\n",
      "Copying gs://vertex-ai-mlops-bucket/fraud/models/05g/20220406015150/3/logs/train/events.out.tfevents.1649210099.f2d120c26102.378.0.v2...\n",
      "Copying gs://vertex-ai-mlops-bucket/fraud/models/05g/20220406015150/3/logs/validation/events.out.tfevents.1649210127.f2d120c26102.378.1.v2...\n",
      "Copying gs://vertex-ai-mlops-bucket/fraud/models/05g/20220406015150/3/model/keras_metadata.pb...\n",
      "Copying gs://vertex-ai-mlops-bucket/fraud/models/05g/20220406015150/3/model/saved_model.pb...\n",
      "Copying gs://vertex-ai-mlops-bucket/fraud/models/05g/20220406015150/3/model/variables/variables.data-00000-of-00001...\n",
      "Copying gs://vertex-ai-mlops-bucket/fraud/models/05g/20220406015150/3/model/variables/variables.index...\n",
      "Copying gs://vertex-ai-mlops-bucket/fraud/models/05g/20220406015150/4/logs/train/events.out.tfevents.1649210096.6f88fedcb97c.378.0.v2...\n",
      "Copying gs://vertex-ai-mlops-bucket/fraud/models/05g/20220406015150/4/logs/validation/events.out.tfevents.1649210122.6f88fedcb97c.378.1.v2...\n",
      "Copying gs://vertex-ai-mlops-bucket/fraud/models/05g/20220406015150/4/model/keras_metadata.pb...\n",
      "Copying gs://vertex-ai-mlops-bucket/fraud/models/05g/20220406015150/4/model/saved_model.pb...\n",
      "Copying gs://vertex-ai-mlops-bucket/fraud/models/05g/20220406015150/4/model/variables/variables.data-00000-of-00001...\n",
      "Copying gs://vertex-ai-mlops-bucket/fraud/models/05g/20220406015150/4/model/variables/variables.index...\n",
      "Copying gs://vertex-ai-mlops-bucket/fraud/models/05g/20220406015150/5/logs/train/events.out.tfevents.1649210102.be388d97c93c.379.0.v2...\n",
      "Copying gs://vertex-ai-mlops-bucket/fraud/models/05g/20220406015150/5/logs/validation/events.out.tfevents.1649210132.be388d97c93c.379.1.v2...\n",
      "Copying gs://vertex-ai-mlops-bucket/fraud/models/05g/20220406015150/5/model/keras_metadata.pb...\n",
      "Copying gs://vertex-ai-mlops-bucket/fraud/models/05g/20220406015150/5/model/saved_model.pb...\n",
      "Copying gs://vertex-ai-mlops-bucket/fraud/models/05g/20220406015150/5/model/variables/variables.data-00000-of-00001...\n",
      "Copying gs://vertex-ai-mlops-bucket/fraud/models/05g/20220406015150/5/model/variables/variables.index...\n",
      "Copying gs://vertex-ai-mlops-bucket/fraud/models/05g/20220406015150/6/logs/train/events.out.tfevents.1649210714.a355f8c09683.379.0.v2...\n",
      "Copying gs://vertex-ai-mlops-bucket/fraud/models/05g/20220406015150/6/logs/validation/events.out.tfevents.1649210739.a355f8c09683.379.1.v2...\n",
      "Copying gs://vertex-ai-mlops-bucket/fraud/models/05g/20220406015150/6/model/keras_metadata.pb...\n",
      "Copying gs://vertex-ai-mlops-bucket/fraud/models/05g/20220406015150/6/model/saved_model.pb...\n",
      "Copying gs://vertex-ai-mlops-bucket/fraud/models/05g/20220406015150/6/model/variables/variables.data-00000-of-00001...\n",
      "Copying gs://vertex-ai-mlops-bucket/fraud/models/05g/20220406015150/6/model/variables/variables.index...\n",
      "Copying gs://vertex-ai-mlops-bucket/fraud/models/05g/20220406015150/7/logs/train/events.out.tfevents.1649210714.77d730d1bee9.378.0.v2...\n",
      "Copying gs://vertex-ai-mlops-bucket/fraud/models/05g/20220406015150/7/logs/validation/events.out.tfevents.1649210744.77d730d1bee9.378.1.v2...\n",
      "Copying gs://vertex-ai-mlops-bucket/fraud/models/05g/20220406015150/7/model/keras_metadata.pb...\n",
      "Copying gs://vertex-ai-mlops-bucket/fraud/models/05g/20220406015150/7/model/saved_model.pb...\n",
      "Copying gs://vertex-ai-mlops-bucket/fraud/models/05g/20220406015150/7/model/variables/variables.data-00000-of-00001...\n",
      "Copying gs://vertex-ai-mlops-bucket/fraud/models/05g/20220406015150/7/model/variables/variables.index...\n",
      "Copying gs://vertex-ai-mlops-bucket/fraud/models/05g/20220406015150/8/logs/train/events.out.tfevents.1649210716.75a77ba40ca1.378.0.v2...\n",
      "Copying gs://vertex-ai-mlops-bucket/fraud/models/05g/20220406015150/8/logs/validation/events.out.tfevents.1649210746.75a77ba40ca1.378.1.v2...\n",
      "Copying gs://vertex-ai-mlops-bucket/fraud/models/05g/20220406015150/8/model/keras_metadata.pb...\n",
      "Copying gs://vertex-ai-mlops-bucket/fraud/models/05g/20220406015150/8/model/saved_model.pb...\n",
      "Copying gs://vertex-ai-mlops-bucket/fraud/models/05g/20220406015150/8/model/variables/variables.data-00000-of-00001...\n",
      "Copying gs://vertex-ai-mlops-bucket/fraud/models/05g/20220406015150/8/model/variables/variables.index...\n",
      "Copying gs://vertex-ai-mlops-bucket/fraud/models/05g/20220406015150/9/logs/train/events.out.tfevents.1649210713.e0de3f909ecb.379.0.v2...\n",
      "Copying gs://vertex-ai-mlops-bucket/fraud/models/05g/20220406015150/9/logs/validation/events.out.tfevents.1649210743.e0de3f909ecb.379.1.v2...\n",
      "Copying gs://vertex-ai-mlops-bucket/fraud/models/05g/20220406015150/9/model/keras_metadata.pb...\n",
      "Copying gs://vertex-ai-mlops-bucket/fraud/models/05g/20220406015150/9/model/saved_model.pb...\n",
      "Copying gs://vertex-ai-mlops-bucket/fraud/models/05g/20220406015150/9/model/variables/variables.data-00000-of-00001...\n",
      "Copying gs://vertex-ai-mlops-bucket/fraud/models/05g/20220406015150/9/model/variables/variables.index...\n",
      "/ [121 files][ 12.5 MiB/ 12.5 MiB]    1.2 MiB/s                                 \n",
      "==> NOTE: You are performing a sequence of gsutil operations that may\n",
      "run significantly faster if you instead use gsutil -m cp ... Please\n",
      "see the -m section under \"gsutil help options\" for further information\n",
      "about when gsutil -m can be advantageous.\n",
      "\n",
      "\n",
      "Operation completed over 121 objects/12.5 MiB.                                   \n"
     ]
    }
   ],
   "source": [
    "!gsutil cp -r gs://vertex-ai-mlops-bucket/fraud/models/05g/20220406015150/* $DIR/all_logs"
   ]
  },
  {
   "cell_type": "code",
   "execution_count": 25,
   "id": "0f3c4950-9c74-4e5b-89cf-2d003ce6c884",
   "metadata": {},
   "outputs": [],
   "source": [
    "%load_ext tensorboard"
   ]
  },
  {
   "cell_type": "code",
   "execution_count": 26,
   "id": "92c94a10-824f-4a1a-b696-cb32db746f1b",
   "metadata": {},
   "outputs": [
    {
     "data": {
      "text/html": [
       "\n",
       "      <iframe id=\"tensorboard-frame-f0b1fb932b1f7165\" width=\"100%\" height=\"800\" frameborder=\"0\">\n",
       "      </iframe>\n",
       "      <script>\n",
       "        (function() {\n",
       "          const frame = document.getElementById(\"tensorboard-frame-f0b1fb932b1f7165\");\n",
       "          const url = new URL(\"/proxy/6006/\", window.location);\n",
       "          const port = 0;\n",
       "          if (port) {\n",
       "            url.port = port;\n",
       "          }\n",
       "          frame.src = url;\n",
       "        })();\n",
       "      </script>\n",
       "    "
      ],
      "text/plain": [
       "<IPython.core.display.HTML object>"
      ]
     },
     "metadata": {},
     "output_type": "display_data"
    }
   ],
   "source": [
    "%tensorboard --logdir $DIR/all_logs"
   ]
  },
  {
   "cell_type": "markdown",
   "id": "5da64ff0",
   "metadata": {},
   "source": [
    "## Review Results in Tensorboard\n",
    "- In Console, go to Vertex AI > Training > Hyperparameter Tuning Jobs\n",
    "- Click the `05g_` job\n",
    "- Click `Open Tensorboard` at the top of the screen\n",
    "\n",
    "<img src=\"architectures/notebooks/05g_screenshots/console_hpjob.png\">\n",
    "\n",
    "<img src=\"architectures/notebooks/05g_screenshots/console_hpjob2.png\">\n",
    "\n",
    "<img src=\"architectures/notebooks/05g_screenshots/tb_scalars.png\">\n",
    "\n",
    "<img src=\"architectures/notebooks/05g_screenshots/tb_histograms.png\">\n",
    "\n",
    "<img src=\"architectures/notebooks/05g_screenshots/tb_graphs.png\">"
   ]
  },
  {
   "cell_type": "markdown",
   "id": "bb4bf665",
   "metadata": {},
   "source": [
    "---\n",
    "## Serving"
   ]
  },
  {
   "cell_type": "markdown",
   "id": "1bda4198",
   "metadata": {},
   "source": [
    "### Upload The Model"
   ]
  },
  {
   "cell_type": "code",
   "execution_count": 17,
   "id": "af63fd1e",
   "metadata": {},
   "outputs": [
    {
     "name": "stdout",
     "output_type": "stream",
     "text": [
      "INFO:google.cloud.aiplatform.models:Creating Model\n",
      "INFO:google.cloud.aiplatform.models:Create Model backing LRO: projects/715288179162/locations/us-central1/models/4199628642755543040/operations/3707575817568518144\n",
      "INFO:google.cloud.aiplatform.models:Model created. Resource name: projects/715288179162/locations/us-central1/models/4199628642755543040\n",
      "INFO:google.cloud.aiplatform.models:To use this Model in another session:\n",
      "INFO:google.cloud.aiplatform.models:model = aiplatform.Model('projects/715288179162/locations/us-central1/models/4199628642755543040')\n"
     ]
    }
   ],
   "source": [
    "model = aiplatform.Model.upload(\n",
    "    display_name = f'{NOTEBOOK}_{DATANAME}_{TIMESTAMP}',\n",
    "    serving_container_image_uri = DEPLOY_IMAGE,\n",
    "    artifact_uri = f\"{URI}/{TIMESTAMP}/{best.id}/model\",\n",
    "    labels = {'notebook':f'{NOTEBOOK}'}\n",
    ")"
   ]
  },
  {
   "cell_type": "code",
   "execution_count": 18,
   "id": "dc52b1b0",
   "metadata": {},
   "outputs": [
    {
     "data": {
      "text/plain": [
       "'05g_fraud_20220311133230'"
      ]
     },
     "execution_count": 18,
     "metadata": {},
     "output_type": "execute_result"
    }
   ],
   "source": [
    "model.display_name"
   ]
  },
  {
   "cell_type": "markdown",
   "id": "a343cbe0",
   "metadata": {},
   "source": [
    "### Create An Endpoint"
   ]
  },
  {
   "cell_type": "code",
   "execution_count": 19,
   "id": "96698bc8",
   "metadata": {},
   "outputs": [
    {
     "name": "stdout",
     "output_type": "stream",
     "text": [
      "INFO:google.cloud.aiplatform.models:Creating Endpoint\n",
      "INFO:google.cloud.aiplatform.models:Create Endpoint backing LRO: projects/715288179162/locations/us-central1/endpoints/761293054979080192/operations/9174945765196300288\n",
      "INFO:google.cloud.aiplatform.models:Endpoint created. Resource name: projects/715288179162/locations/us-central1/endpoints/761293054979080192\n",
      "INFO:google.cloud.aiplatform.models:To use this Endpoint in another session:\n",
      "INFO:google.cloud.aiplatform.models:endpoint = aiplatform.Endpoint('projects/715288179162/locations/us-central1/endpoints/761293054979080192')\n"
     ]
    }
   ],
   "source": [
    "endpoint = aiplatform.Endpoint.create(\n",
    "    display_name = f'{NOTEBOOK}_{DATANAME}_{TIMESTAMP}',\n",
    "    labels = {'notebook':f'{NOTEBOOK}'}\n",
    ")"
   ]
  },
  {
   "cell_type": "code",
   "execution_count": 20,
   "id": "128a75f9",
   "metadata": {},
   "outputs": [
    {
     "data": {
      "text/plain": [
       "'05g_fraud_20220311133230'"
      ]
     },
     "execution_count": 20,
     "metadata": {},
     "output_type": "execute_result"
    }
   ],
   "source": [
    "endpoint.display_name"
   ]
  },
  {
   "cell_type": "markdown",
   "id": "03031992",
   "metadata": {},
   "source": [
    "### Deploy Model To Endpoint"
   ]
  },
  {
   "cell_type": "code",
   "execution_count": 21,
   "id": "f247d902",
   "metadata": {},
   "outputs": [
    {
     "name": "stdout",
     "output_type": "stream",
     "text": [
      "INFO:google.cloud.aiplatform.models:Deploying Model projects/715288179162/locations/us-central1/models/4199628642755543040 to Endpoint : projects/715288179162/locations/us-central1/endpoints/761293054979080192\n",
      "INFO:google.cloud.aiplatform.models:Deploy Endpoint model backing LRO: projects/715288179162/locations/us-central1/endpoints/761293054979080192/operations/4518223750495207424\n",
      "INFO:google.cloud.aiplatform.models:Endpoint model deployed. Resource name: projects/715288179162/locations/us-central1/endpoints/761293054979080192\n"
     ]
    }
   ],
   "source": [
    "endpoint.deploy(\n",
    "    model = model,\n",
    "    deployed_model_display_name = f'{NOTEBOOK}_{DATANAME}_{TIMESTAMP}',\n",
    "    traffic_percentage = 100,\n",
    "    machine_type = DEPLOY_COMPUTE,\n",
    "    min_replica_count = 1,\n",
    "    max_replica_count = 1\n",
    ")"
   ]
  },
  {
   "cell_type": "markdown",
   "id": "2cb7c8e3",
   "metadata": {},
   "source": [
    "---\n",
    "## Prediction"
   ]
  },
  {
   "cell_type": "markdown",
   "id": "eecf2691",
   "metadata": {},
   "source": [
    "### Prepare a record for prediction: instance and parameters lists"
   ]
  },
  {
   "cell_type": "code",
   "execution_count": 22,
   "id": "4d08dddc",
   "metadata": {},
   "outputs": [],
   "source": [
    "pred = bigquery.query(query = f\"SELECT * FROM {DATANAME}.{DATANAME}_prepped WHERE splits='TEST' LIMIT 10\").to_dataframe()"
   ]
  },
  {
   "cell_type": "code",
   "execution_count": 23,
   "id": "8dff5477",
   "metadata": {},
   "outputs": [
    {
     "data": {
      "text/html": [
       "<div>\n",
       "<style scoped>\n",
       "    .dataframe tbody tr th:only-of-type {\n",
       "        vertical-align: middle;\n",
       "    }\n",
       "\n",
       "    .dataframe tbody tr th {\n",
       "        vertical-align: top;\n",
       "    }\n",
       "\n",
       "    .dataframe thead th {\n",
       "        text-align: right;\n",
       "    }\n",
       "</style>\n",
       "<table border=\"1\" class=\"dataframe\">\n",
       "  <thead>\n",
       "    <tr style=\"text-align: right;\">\n",
       "      <th></th>\n",
       "      <th>Time</th>\n",
       "      <th>V1</th>\n",
       "      <th>V2</th>\n",
       "      <th>V3</th>\n",
       "      <th>V4</th>\n",
       "      <th>V5</th>\n",
       "      <th>V6</th>\n",
       "      <th>V7</th>\n",
       "      <th>V8</th>\n",
       "      <th>V9</th>\n",
       "      <th>...</th>\n",
       "      <th>V23</th>\n",
       "      <th>V24</th>\n",
       "      <th>V25</th>\n",
       "      <th>V26</th>\n",
       "      <th>V27</th>\n",
       "      <th>V28</th>\n",
       "      <th>Amount</th>\n",
       "      <th>Class</th>\n",
       "      <th>transaction_id</th>\n",
       "      <th>splits</th>\n",
       "    </tr>\n",
       "  </thead>\n",
       "  <tbody>\n",
       "    <tr>\n",
       "      <th>0</th>\n",
       "      <td>7148</td>\n",
       "      <td>1.156386</td>\n",
       "      <td>0.193513</td>\n",
       "      <td>0.242220</td>\n",
       "      <td>0.660729</td>\n",
       "      <td>0.236144</td>\n",
       "      <td>0.311471</td>\n",
       "      <td>-0.088420</td>\n",
       "      <td>0.057844</td>\n",
       "      <td>1.123405</td>\n",
       "      <td>...</td>\n",
       "      <td>-0.051662</td>\n",
       "      <td>-0.262183</td>\n",
       "      <td>0.477870</td>\n",
       "      <td>0.556403</td>\n",
       "      <td>-0.046953</td>\n",
       "      <td>-0.021878</td>\n",
       "      <td>0.0</td>\n",
       "      <td>0</td>\n",
       "      <td>0eddc3ef-a61b-4fba-a3ab-0ed9a726dcf0</td>\n",
       "      <td>TEST</td>\n",
       "    </tr>\n",
       "    <tr>\n",
       "      <th>1</th>\n",
       "      <td>76311</td>\n",
       "      <td>-0.186529</td>\n",
       "      <td>0.545755</td>\n",
       "      <td>2.432618</td>\n",
       "      <td>3.266129</td>\n",
       "      <td>-0.784549</td>\n",
       "      <td>3.167033</td>\n",
       "      <td>-2.460489</td>\n",
       "      <td>-1.830983</td>\n",
       "      <td>0.389492</td>\n",
       "      <td>...</td>\n",
       "      <td>-0.400380</td>\n",
       "      <td>-1.265280</td>\n",
       "      <td>1.231000</td>\n",
       "      <td>0.749402</td>\n",
       "      <td>0.147862</td>\n",
       "      <td>0.187856</td>\n",
       "      <td>0.0</td>\n",
       "      <td>0</td>\n",
       "      <td>b1111e03-a559-4eb4-ab32-e3aea0072ef7</td>\n",
       "      <td>TEST</td>\n",
       "    </tr>\n",
       "    <tr>\n",
       "      <th>2</th>\n",
       "      <td>125139</td>\n",
       "      <td>1.879049</td>\n",
       "      <td>0.212473</td>\n",
       "      <td>-0.085529</td>\n",
       "      <td>3.554091</td>\n",
       "      <td>0.205505</td>\n",
       "      <td>1.188395</td>\n",
       "      <td>-0.672662</td>\n",
       "      <td>0.375249</td>\n",
       "      <td>-0.494351</td>\n",
       "      <td>...</td>\n",
       "      <td>0.131433</td>\n",
       "      <td>0.256023</td>\n",
       "      <td>-0.135450</td>\n",
       "      <td>0.048878</td>\n",
       "      <td>0.003082</td>\n",
       "      <td>-0.042219</td>\n",
       "      <td>0.0</td>\n",
       "      <td>0</td>\n",
       "      <td>0a0f4b69-01ee-436e-ae52-02237cd6433e</td>\n",
       "      <td>TEST</td>\n",
       "    </tr>\n",
       "    <tr>\n",
       "      <th>3</th>\n",
       "      <td>51632</td>\n",
       "      <td>1.264050</td>\n",
       "      <td>0.182193</td>\n",
       "      <td>0.020910</td>\n",
       "      <td>0.478060</td>\n",
       "      <td>-0.037823</td>\n",
       "      <td>-0.490973</td>\n",
       "      <td>0.166690</td>\n",
       "      <td>-0.130607</td>\n",
       "      <td>-0.157200</td>\n",
       "      <td>...</td>\n",
       "      <td>-0.167644</td>\n",
       "      <td>0.075563</td>\n",
       "      <td>0.698539</td>\n",
       "      <td>0.556361</td>\n",
       "      <td>-0.052595</td>\n",
       "      <td>-0.011799</td>\n",
       "      <td>0.0</td>\n",
       "      <td>0</td>\n",
       "      <td>ed678d6e-8dea-4d45-92b7-74e7eba22402</td>\n",
       "      <td>TEST</td>\n",
       "    </tr>\n",
       "  </tbody>\n",
       "</table>\n",
       "<p>4 rows × 33 columns</p>\n",
       "</div>"
      ],
      "text/plain": [
       "     Time        V1        V2        V3        V4        V5        V6  \\\n",
       "0    7148  1.156386  0.193513  0.242220  0.660729  0.236144  0.311471   \n",
       "1   76311 -0.186529  0.545755  2.432618  3.266129 -0.784549  3.167033   \n",
       "2  125139  1.879049  0.212473 -0.085529  3.554091  0.205505  1.188395   \n",
       "3   51632  1.264050  0.182193  0.020910  0.478060 -0.037823 -0.490973   \n",
       "\n",
       "         V7        V8        V9  ...       V23       V24       V25       V26  \\\n",
       "0 -0.088420  0.057844  1.123405  ... -0.051662 -0.262183  0.477870  0.556403   \n",
       "1 -2.460489 -1.830983  0.389492  ... -0.400380 -1.265280  1.231000  0.749402   \n",
       "2 -0.672662  0.375249 -0.494351  ...  0.131433  0.256023 -0.135450  0.048878   \n",
       "3  0.166690 -0.130607 -0.157200  ... -0.167644  0.075563  0.698539  0.556361   \n",
       "\n",
       "        V27       V28  Amount  Class                        transaction_id  \\\n",
       "0 -0.046953 -0.021878     0.0      0  0eddc3ef-a61b-4fba-a3ab-0ed9a726dcf0   \n",
       "1  0.147862  0.187856     0.0      0  b1111e03-a559-4eb4-ab32-e3aea0072ef7   \n",
       "2  0.003082 -0.042219     0.0      0  0a0f4b69-01ee-436e-ae52-02237cd6433e   \n",
       "3 -0.052595 -0.011799     0.0      0  ed678d6e-8dea-4d45-92b7-74e7eba22402   \n",
       "\n",
       "   splits  \n",
       "0    TEST  \n",
       "1    TEST  \n",
       "2    TEST  \n",
       "3    TEST  \n",
       "\n",
       "[4 rows x 33 columns]"
      ]
     },
     "execution_count": 23,
     "metadata": {},
     "output_type": "execute_result"
    }
   ],
   "source": [
    "pred.head(4)"
   ]
  },
  {
   "cell_type": "code",
   "execution_count": 24,
   "id": "13bacbf6",
   "metadata": {},
   "outputs": [],
   "source": [
    "newob = pred[pred.columns[~pred.columns.isin(VAR_OMIT.split()+[VAR_TARGET, 'splits'])]].to_dict(orient='records')[0]\n",
    "#newob"
   ]
  },
  {
   "cell_type": "code",
   "execution_count": 25,
   "id": "9d8b6579",
   "metadata": {},
   "outputs": [],
   "source": [
    "instances = [json_format.ParseDict(newob, Value())]\n",
    "parameters = json_format.ParseDict({}, Value())"
   ]
  },
  {
   "cell_type": "markdown",
   "id": "23f64743",
   "metadata": {},
   "source": [
    "### Get Predictions: Python Client"
   ]
  },
  {
   "cell_type": "code",
   "execution_count": 26,
   "id": "e452b19e",
   "metadata": {},
   "outputs": [
    {
     "data": {
      "text/plain": [
       "Prediction(predictions=[[0.999956846, 4.31437838e-05]], deployed_model_id='6534256866384412672', explanations=None)"
      ]
     },
     "execution_count": 26,
     "metadata": {},
     "output_type": "execute_result"
    }
   ],
   "source": [
    "prediction = endpoint.predict(instances=instances, parameters=parameters)\n",
    "prediction"
   ]
  },
  {
   "cell_type": "code",
   "execution_count": 27,
   "id": "5d09b930",
   "metadata": {},
   "outputs": [
    {
     "data": {
      "text/plain": [
       "[0.999956846, 4.31437838e-05]"
      ]
     },
     "execution_count": 27,
     "metadata": {},
     "output_type": "execute_result"
    }
   ],
   "source": [
    "prediction.predictions[0]"
   ]
  },
  {
   "cell_type": "code",
   "execution_count": 28,
   "id": "2c37c624",
   "metadata": {},
   "outputs": [
    {
     "data": {
      "text/plain": [
       "0"
      ]
     },
     "execution_count": 28,
     "metadata": {},
     "output_type": "execute_result"
    }
   ],
   "source": [
    "np.argmax(prediction.predictions[0])"
   ]
  },
  {
   "cell_type": "markdown",
   "id": "36fae0cb",
   "metadata": {},
   "source": [
    "### Get Predictions: REST"
   ]
  },
  {
   "cell_type": "code",
   "execution_count": 29,
   "id": "51cd7050",
   "metadata": {},
   "outputs": [],
   "source": [
    "with open(f'{DIR}/request.json','w') as file:\n",
    "    file.write(json.dumps({\"instances\": [newob]}))"
   ]
  },
  {
   "cell_type": "code",
   "execution_count": 30,
   "id": "23e96c29",
   "metadata": {},
   "outputs": [
    {
     "name": "stdout",
     "output_type": "stream",
     "text": [
      "{\n",
      "  \"predictions\": [\n",
      "    [\n",
      "      0.999956846,\n",
      "      4.31437838e-05\n",
      "    ]\n",
      "  ],\n",
      "  \"deployedModelId\": \"6534256866384412672\",\n",
      "  \"model\": \"projects/715288179162/locations/us-central1/models/4199628642755543040\",\n",
      "  \"modelDisplayName\": \"05g_fraud_20220311133230\"\n",
      "}\n"
     ]
    }
   ],
   "source": [
    "!curl -X POST \\\n",
    "-H \"Authorization: Bearer \"$(gcloud auth application-default print-access-token) \\\n",
    "-H \"Content-Type: application/json; charset=utf-8\" \\\n",
    "-d @{DIR}/request.json \\\n",
    "https://{REGION}-aiplatform.googleapis.com/v1/{endpoint.resource_name}:predict"
   ]
  },
  {
   "cell_type": "markdown",
   "id": "8a39753f",
   "metadata": {},
   "source": [
    "### Get Predictions: gcloud (CLI)"
   ]
  },
  {
   "cell_type": "code",
   "execution_count": 31,
   "id": "e51644a4",
   "metadata": {},
   "outputs": [
    {
     "name": "stdout",
     "output_type": "stream",
     "text": [
      "Using endpoint [https://us-central1-prediction-aiplatform.googleapis.com/]\n",
      "[[0.999956846, 4.31437838e-05]]\n"
     ]
    }
   ],
   "source": [
    "!gcloud beta ai endpoints predict {endpoint.name.rsplit('/',1)[-1]} --region={REGION} --json-request={DIR}/request.json"
   ]
  },
  {
   "cell_type": "markdown",
   "id": "139b43c5",
   "metadata": {},
   "source": [
    "---\n",
    "## Remove Resources\n",
    "see notebook \"99 - Cleanup\""
   ]
  }
 ],
 "metadata": {
  "environment": {
   "kernel": "python3",
   "name": "tf2-gpu.2-7.m87",
   "type": "gcloud",
   "uri": "gcr.io/deeplearning-platform-release/tf2-gpu.2-7:m87"
  },
  "kernelspec": {
   "display_name": "Python 3",
   "language": "python",
   "name": "python3"
  },
  "language_info": {
   "codemirror_mode": {
    "name": "ipython",
    "version": 3
   },
   "file_extension": ".py",
   "mimetype": "text/x-python",
   "name": "python",
   "nbconvert_exporter": "python",
   "pygments_lexer": "ipython3",
   "version": "3.7.12"
  },
  "toc-autonumbering": false
 },
 "nbformat": 4,
 "nbformat_minor": 5
}
