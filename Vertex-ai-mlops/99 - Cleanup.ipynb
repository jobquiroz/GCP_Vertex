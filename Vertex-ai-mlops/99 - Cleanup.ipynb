{
 "cells": [
  {
   "cell_type": "markdown",
   "id": "99c9fd97",
   "metadata": {
    "tags": []
   },
   "source": [
    "# Cleanup All Resources\n",
    "\n",
    "This notebook is designed to remove all resources by the type created.  By being a general cleanup utility, you can skip sections that you want to remain in use.  This notebook also has a section to delete the GCS bucket created in the `00 - Environment Setup` notebook.\n",
    "\n",
    "### Resources\n",
    "- Vertex AI: https://googleapis.dev/python/aiplatform/latest/index.html\n",
    "- BigQuery: https://googleapis.dev/python/bigquery/latest/index.html\n",
    "- GCS: https://googleapis.dev/python/storage/latest/client.html"
   ]
  },
  {
   "cell_type": "markdown",
   "id": "267068ff-d77e-4242-8f65-2f81a39eeaa8",
   "metadata": {},
   "source": [
    "---\n",
    "## Method 1: Delete The Project\n",
    "- [Instructions](https://cloud.google.com/resource-manager/docs/creating-managing-projects#shutting_down_projects)\n",
    "    - Open Console > IAM & Admin > Settings: [Link](https://console.cloud.google.com/iam-admin/settings)\n",
    "    - Click Select a project.\n",
    "    - Select a project you want to delete, and click Open.\n",
    "    - Click Shut down.\n",
    "    - Enter the Project ID, then click Shut down."
   ]
  },
  {
   "cell_type": "markdown",
   "id": "753dd64c",
   "metadata": {},
   "source": [
    "---\n",
    "## Method 2: Remove the Items Created By This Notebook\n",
    "\n",
    "## Setup\n",
    "When Finished with removing each Vertex AI, GCS, and BigQuery item below, you will then need to stop and delete this notebook instance in Console > Vertex AI > Notebooks."
   ]
  },
  {
   "cell_type": "markdown",
   "id": "6c4116ef",
   "metadata": {},
   "source": [
    "inputs:"
   ]
  },
  {
   "cell_type": "code",
   "execution_count": 1,
   "id": "1c4998a4",
   "metadata": {},
   "outputs": [],
   "source": [
    "PROJECT_ID = \"statmike-mlops\"\n",
    "REGION = 'us-central1'"
   ]
  },
  {
   "cell_type": "markdown",
   "id": "c6446eee",
   "metadata": {},
   "source": [
    "packages:"
   ]
  },
  {
   "cell_type": "code",
   "execution_count": 2,
   "id": "23f17f5e",
   "metadata": {},
   "outputs": [],
   "source": [
    "from google.cloud import aiplatform\n",
    "from google.cloud import aiplatform_v1beta1\n",
    "from google.cloud import bigquery\n",
    "from google.cloud import storage"
   ]
  },
  {
   "cell_type": "markdown",
   "id": "7272a73a",
   "metadata": {},
   "source": [
    "parameters:"
   ]
  },
  {
   "cell_type": "code",
   "execution_count": 4,
   "id": "6a6bc14d",
   "metadata": {},
   "outputs": [],
   "source": [
    "API_ENDPOINT = \"{}-aiplatform.googleapis.com\".format(REGION)\n",
    "client_options = {\"api_endpoint\": API_ENDPOINT}\n",
    "clients = {}\n",
    "\n",
    "PARENT = \"projects/\" + PROJECT_ID + \"/locations/\" + REGION"
   ]
  },
  {
   "cell_type": "markdown",
   "id": "0a2c1aad",
   "metadata": {},
   "source": [
    "clients:"
   ]
  },
  {
   "cell_type": "code",
   "execution_count": 5,
   "id": "ea5281a1",
   "metadata": {},
   "outputs": [],
   "source": [
    "aiplatform.init(project=PROJECT_ID, location=REGION)\n",
    "clients['bq'] = bigquery.Client(project=PROJECT_ID)\n",
    "clients['fs'] = aiplatform_v1beta1.FeaturestoreServiceClient(client_options=client_options)\n",
    "clients['viz'] = aiplatform_v1beta1.VizierServiceClient(client_options=client_options)\n",
    "clients['tb'] = aiplatform_v1beta1.TensorboardServiceClient(client_options=client_options)\n",
    "clients['md'] = aiplatform_v1beta1.MetadataServiceClient(client_options=client_options)\n",
    "clients['gcs'] = storage.Client()"
   ]
  },
  {
   "cell_type": "markdown",
   "id": "2f857a6a",
   "metadata": {},
   "source": [
    "---\n",
    "## BigQuery\n",
    "- Delete the dataset `digits`"
   ]
  },
  {
   "cell_type": "markdown",
   "id": "14786c5f",
   "metadata": {},
   "source": [
    "list of datasets in the project:"
   ]
  },
  {
   "cell_type": "code",
   "execution_count": 6,
   "id": "9a155309",
   "metadata": {},
   "outputs": [],
   "source": [
    "datasets = list(clients['bq'].list_datasets())"
   ]
  },
  {
   "cell_type": "markdown",
   "id": "3f5ced99",
   "metadata": {},
   "source": [
    "delete each dataset:"
   ]
  },
  {
   "cell_type": "code",
   "execution_count": 7,
   "id": "c49ef04c",
   "metadata": {},
   "outputs": [
    {
     "name": "stdout",
     "output_type": "stream",
     "text": [
      "digits\n"
     ]
    }
   ],
   "source": [
    "for ds in datasets:\n",
    "    print(ds.dataset_id)\n",
    "    clients['bq'].delete_dataset(ds.dataset_id,delete_contents=True,not_found_ok=True)"
   ]
  },
  {
   "cell_type": "markdown",
   "id": "fb44d47f",
   "metadata": {},
   "source": [
    "---\n",
    "## Vertex AI > Datasets\n",
    "- Delete datasets"
   ]
  },
  {
   "cell_type": "code",
   "execution_count": 10,
   "id": "4edca1fd",
   "metadata": {},
   "outputs": [],
   "source": [
    "datasets = aiplatform.TabularDataset.list()"
   ]
  },
  {
   "cell_type": "code",
   "execution_count": 11,
   "id": "ec04bb1e",
   "metadata": {},
   "outputs": [
    {
     "name": "stdout",
     "output_type": "stream",
     "text": [
      "projects/691911073727/locations/us-central1/datasets/8862828979967492096\n",
      "INFO:google.cloud.aiplatform.base:Deleting TabularDataset : projects/691911073727/locations/us-central1/datasets/8862828979967492096\n",
      "INFO:google.cloud.aiplatform.base:Delete TabularDataset  backing LRO: projects/691911073727/locations/us-central1/operations/3452940125850304512\n",
      "INFO:google.cloud.aiplatform.base:TabularDataset deleted. . Resource name: projects/691911073727/locations/us-central1/datasets/8862828979967492096\n",
      "projects/691911073727/locations/us-central1/datasets/459112075294146560\n",
      "INFO:google.cloud.aiplatform.base:Deleting TabularDataset : projects/691911073727/locations/us-central1/datasets/459112075294146560\n",
      "INFO:google.cloud.aiplatform.base:Delete TabularDataset  backing LRO: projects/691911073727/locations/us-central1/operations/7573733784894308352\n",
      "INFO:google.cloud.aiplatform.base:TabularDataset deleted. . Resource name: projects/691911073727/locations/us-central1/datasets/459112075294146560\n",
      "projects/691911073727/locations/us-central1/datasets/8219940133160353792\n",
      "INFO:google.cloud.aiplatform.base:Deleting TabularDataset : projects/691911073727/locations/us-central1/datasets/8219940133160353792\n",
      "INFO:google.cloud.aiplatform.base:Delete TabularDataset  backing LRO: projects/691911073727/locations/us-central1/operations/8474453710368407552\n",
      "INFO:google.cloud.aiplatform.base:TabularDataset deleted. . Resource name: projects/691911073727/locations/us-central1/datasets/8219940133160353792\n",
      "projects/691911073727/locations/us-central1/datasets/496266772219953152\n",
      "INFO:google.cloud.aiplatform.base:Deleting TabularDataset : projects/691911073727/locations/us-central1/datasets/496266772219953152\n",
      "INFO:google.cloud.aiplatform.base:Delete TabularDataset  backing LRO: projects/691911073727/locations/us-central1/operations/6371272684386385920\n",
      "INFO:google.cloud.aiplatform.base:TabularDataset deleted. . Resource name: projects/691911073727/locations/us-central1/datasets/496266772219953152\n",
      "projects/691911073727/locations/us-central1/datasets/9051417214363631616\n",
      "INFO:google.cloud.aiplatform.base:Deleting TabularDataset : projects/691911073727/locations/us-central1/datasets/9051417214363631616\n",
      "INFO:google.cloud.aiplatform.base:Delete TabularDataset  backing LRO: projects/691911073727/locations/us-central1/operations/5547113952577585152\n",
      "INFO:google.cloud.aiplatform.base:TabularDataset deleted. . Resource name: projects/691911073727/locations/us-central1/datasets/9051417214363631616\n",
      "projects/691911073727/locations/us-central1/datasets/4849558762026958848\n",
      "INFO:google.cloud.aiplatform.base:Deleting TabularDataset : projects/691911073727/locations/us-central1/datasets/4849558762026958848\n",
      "INFO:google.cloud.aiplatform.base:Delete TabularDataset  backing LRO: projects/691911073727/locations/us-central1/operations/4858063209589899264\n",
      "INFO:google.cloud.aiplatform.base:TabularDataset deleted. . Resource name: projects/691911073727/locations/us-central1/datasets/4849558762026958848\n"
     ]
    }
   ],
   "source": [
    "for ds in datasets:\n",
    "    print(ds.resource_name)\n",
    "    aiplatform.TabularDataset(dataset_name=ds.resource_name).delete()"
   ]
  },
  {
   "cell_type": "markdown",
   "id": "a8adc716",
   "metadata": {},
   "source": [
    "---\n",
    "## Vertex AI > Features\n",
    "- delete feature store including entity types and features"
   ]
  },
  {
   "cell_type": "code",
   "execution_count": 13,
   "id": "9adfe475",
   "metadata": {},
   "outputs": [],
   "source": [
    "fs = clients['fs'].list_featurestores(parent=PARENT)"
   ]
  },
  {
   "cell_type": "code",
   "execution_count": 14,
   "id": "6c5d7910",
   "metadata": {},
   "outputs": [
    {
     "name": "stdout",
     "output_type": "stream",
     "text": [
      "projects/691911073727/locations/us-central1/featurestores/digits\n"
     ]
    }
   ],
   "source": [
    "for f in fs:\n",
    "    print(f.name)\n",
    "    clients['fs'].delete_featurestore(request = aiplatform_v1beta1.types.DeleteFeaturestoreRequest(name=f.name,force=True))"
   ]
  },
  {
   "cell_type": "markdown",
   "id": "7812df62",
   "metadata": {},
   "source": [
    "---\n",
    "## Vertex AI > Pipelines\n",
    "* Delete Managed Pipelines"
   ]
  },
  {
   "cell_type": "code",
   "execution_count": 15,
   "id": "ad302441",
   "metadata": {},
   "outputs": [],
   "source": [
    "pl = aiplatform.PipelineJob.list()"
   ]
  },
  {
   "cell_type": "code",
   "execution_count": 16,
   "id": "baa6949a",
   "metadata": {},
   "outputs": [
    {
     "name": "stdout",
     "output_type": "stream",
     "text": [
      "kfp-02c-digits-20210919213805-20210920012552\n",
      "INFO:google.cloud.aiplatform.base:Deleting PipelineJob : projects/691911073727/locations/us-central1/pipelineJobs/kfp-02c-digits-20210919213805-20210920012552\n",
      "INFO:google.cloud.aiplatform.base:Delete PipelineJob  backing LRO: projects/691911073727/locations/us-central1/operations/214851993770917888\n",
      "INFO:google.cloud.aiplatform.base:PipelineJob deleted. . Resource name: projects/691911073727/locations/us-central1/pipelineJobs/kfp-02c-digits-20210919213805-20210920012552\n",
      "kfp-02c-digits-20210916004500-20210916004518\n",
      "INFO:google.cloud.aiplatform.base:Deleting PipelineJob : projects/691911073727/locations/us-central1/pipelineJobs/kfp-02c-digits-20210916004500-20210916004518\n",
      "INFO:google.cloud.aiplatform.base:Delete PipelineJob  backing LRO: projects/691911073727/locations/us-central1/operations/6641488662028615680\n",
      "INFO:google.cloud.aiplatform.base:PipelineJob deleted. . Resource name: projects/691911073727/locations/us-central1/pipelineJobs/kfp-02c-digits-20210916004500-20210916004518\n"
     ]
    }
   ],
   "source": [
    "for p in pl:\n",
    "    print(p.name)\n",
    "    p.delete()"
   ]
  },
  {
   "cell_type": "markdown",
   "id": "15e055ea",
   "metadata": {},
   "source": [
    "---\n",
    "## Vertex AI > Training\n",
    "- delete various jobs types\n",
    "- some create with aiplatform.* and other created by aiplatform.gapic.*"
   ]
  },
  {
   "cell_type": "markdown",
   "id": "a30b6776",
   "metadata": {},
   "source": [
    "## Vertex AI > Training > Training Pipelines\n",
    "- Delete training pipelines"
   ]
  },
  {
   "cell_type": "code",
   "execution_count": 17,
   "id": "f37acb08",
   "metadata": {},
   "outputs": [
    {
     "name": "stdout",
     "output_type": "stream",
     "text": [
      "05c_digits_20210919214125\n",
      "INFO:google.cloud.aiplatform.base:Deleting CustomTrainingJob : projects/691911073727/locations/us-central1/trainingPipelines/3736564922671169536\n",
      "INFO:google.cloud.aiplatform.base:Delete CustomTrainingJob  backing LRO: projects/691911073727/locations/us-central1/operations/4767991217042489344\n",
      "INFO:google.cloud.aiplatform.base:CustomTrainingJob deleted. . Resource name: projects/691911073727/locations/us-central1/trainingPipelines/3736564922671169536\n",
      "05d_digits_20210919123929\n",
      "INFO:google.cloud.aiplatform.base:Deleting CustomTrainingJob : projects/691911073727/locations/us-central1/trainingPipelines/521135526216990720\n",
      "INFO:google.cloud.aiplatform.base:Delete CustomTrainingJob  backing LRO: projects/691911073727/locations/us-central1/operations/5520092354813362176\n",
      "INFO:google.cloud.aiplatform.base:CustomTrainingJob deleted. . Resource name: projects/691911073727/locations/us-central1/trainingPipelines/521135526216990720\n",
      "05d_digits_20210919114251\n",
      "INFO:google.cloud.aiplatform.base:Deleting CustomTrainingJob : projects/691911073727/locations/us-central1/trainingPipelines/8757093344770785280\n",
      "INFO:google.cloud.aiplatform.base:Delete CustomTrainingJob  backing LRO: projects/691911073727/locations/us-central1/operations/6745071453458137088\n",
      "INFO:google.cloud.aiplatform.base:CustomTrainingJob deleted. . Resource name: projects/691911073727/locations/us-central1/trainingPipelines/8757093344770785280\n",
      "05c_digits_20210918123137\n",
      "INFO:google.cloud.aiplatform.base:Deleting CustomTrainingJob : projects/691911073727/locations/us-central1/trainingPipelines/6098280714761928704\n",
      "INFO:google.cloud.aiplatform.base:Delete CustomTrainingJob  backing LRO: projects/691911073727/locations/us-central1/operations/7740366971107016704\n",
      "INFO:google.cloud.aiplatform.base:CustomTrainingJob deleted. . Resource name: projects/691911073727/locations/us-central1/trainingPipelines/6098280714761928704\n"
     ]
    }
   ],
   "source": [
    "jobs = aiplatform.CustomTrainingJob.list()\n",
    "for j in jobs:\n",
    "    print(j.display_name)\n",
    "    j.delete()"
   ]
  },
  {
   "cell_type": "code",
   "execution_count": 18,
   "id": "15533315",
   "metadata": {},
   "outputs": [],
   "source": [
    "jobs = aiplatform.CustomPythonPackageTrainingJob.list()\n",
    "for j in jobs:\n",
    "    print(j.display_name)\n",
    "    j.delete()"
   ]
  },
  {
   "cell_type": "code",
   "execution_count": 19,
   "id": "f8556364",
   "metadata": {},
   "outputs": [
    {
     "name": "stdout",
     "output_type": "stream",
     "text": [
      "02c_digits_20210919213805\n",
      "INFO:google.cloud.aiplatform.base:Deleting AutoMLTabularTrainingJob : projects/691911073727/locations/us-central1/trainingPipelines/2019286089759457280\n",
      "INFO:google.cloud.aiplatform.base:Delete AutoMLTabularTrainingJob  backing LRO: projects/691911073727/locations/us-central1/operations/2187428630559195136\n",
      "INFO:google.cloud.aiplatform.base:AutoMLTabularTrainingJob deleted. . Resource name: projects/691911073727/locations/us-central1/trainingPipelines/2019286089759457280\n",
      "02b_digits_20210919205707\n",
      "INFO:google.cloud.aiplatform.base:Deleting AutoMLTabularTrainingJob : projects/691911073727/locations/us-central1/trainingPipelines/275548609036943360\n",
      "INFO:google.cloud.aiplatform.base:Delete AutoMLTabularTrainingJob  backing LRO: projects/691911073727/locations/us-central1/operations/5772293933946109952\n",
      "INFO:google.cloud.aiplatform.base:AutoMLTabularTrainingJob deleted. . Resource name: projects/691911073727/locations/us-central1/trainingPipelines/275548609036943360\n",
      "02a_2021916145515\n",
      "INFO:google.cloud.aiplatform.base:Deleting AutoMLTabularTrainingJob : projects/691911073727/locations/us-central1/trainingPipelines/6442032030069817344\n",
      "INFO:google.cloud.aiplatform.base:Delete AutoMLTabularTrainingJob  backing LRO: projects/691911073727/locations/us-central1/operations/3777199299020980224\n",
      "INFO:google.cloud.aiplatform.base:AutoMLTabularTrainingJob deleted. . Resource name: projects/691911073727/locations/us-central1/trainingPipelines/6442032030069817344\n",
      "02b_digits_20210916141540\n",
      "INFO:google.cloud.aiplatform.base:Deleting AutoMLTabularTrainingJob : projects/691911073727/locations/us-central1/trainingPipelines/8307648175708045312\n",
      "INFO:google.cloud.aiplatform.base:Delete AutoMLTabularTrainingJob  backing LRO: projects/691911073727/locations/us-central1/operations/3466450924732416000\n",
      "INFO:google.cloud.aiplatform.base:AutoMLTabularTrainingJob deleted. . Resource name: projects/691911073727/locations/us-central1/trainingPipelines/8307648175708045312\n",
      "02c_digits_20210916004500\n",
      "INFO:google.cloud.aiplatform.base:Deleting AutoMLTabularTrainingJob : projects/691911073727/locations/us-central1/trainingPipelines/4513928439601823744\n",
      "INFO:google.cloud.aiplatform.base:Delete AutoMLTabularTrainingJob  backing LRO: projects/691911073727/locations/us-central1/operations/6249675494447382528\n",
      "INFO:google.cloud.aiplatform.base:AutoMLTabularTrainingJob deleted. . Resource name: projects/691911073727/locations/us-central1/trainingPipelines/4513928439601823744\n"
     ]
    }
   ],
   "source": [
    "jobs = aiplatform.AutoMLTabularTrainingJob.list()\n",
    "for j in jobs:\n",
    "    print(j.display_name)\n",
    "    j.delete()"
   ]
  },
  {
   "cell_type": "markdown",
   "id": "d402b8db",
   "metadata": {},
   "source": [
    "## Vertex AI > Training > Custom Job\n",
    "- Delete custom training jobs"
   ]
  },
  {
   "cell_type": "code",
   "execution_count": 20,
   "id": "a2c8a1dd",
   "metadata": {},
   "outputs": [
    {
     "name": "stdout",
     "output_type": "stream",
     "text": [
      "caip_pipelines_7436225837067665408_5190583288497963008\n",
      "INFO:google.cloud.aiplatform.base:Deleting CustomJob : projects/691911073727/locations/us-central1/customJobs/7441057091160113152\n",
      "INFO:google.cloud.aiplatform.base:Delete CustomJob  backing LRO: projects/691911073727/locations/us-central1/operations/4493271639772889088\n",
      "INFO:google.cloud.aiplatform.base:CustomJob deleted. . Resource name: projects/691911073727/locations/us-central1/customJobs/7441057091160113152\n",
      "caip_pipelines_7436225837067665408_-8644474766784200704\n",
      "INFO:google.cloud.aiplatform.base:Deleting CustomJob : projects/691911073727/locations/us-central1/customJobs/9149610199793795072\n",
      "INFO:google.cloud.aiplatform.base:Delete CustomJob  backing LRO: projects/691911073727/locations/us-central1/operations/9104957658200276992\n",
      "INFO:google.cloud.aiplatform.base:CustomJob deleted. . Resource name: projects/691911073727/locations/us-central1/customJobs/9149610199793795072\n",
      "caip_pipelines_7436225837067665408_-4032788748356812800\n",
      "INFO:google.cloud.aiplatform.base:Deleting CustomJob : projects/691911073727/locations/us-central1/customJobs/5405993009542070272\n",
      "INFO:google.cloud.aiplatform.base:Delete CustomJob  backing LRO: projects/691911073727/locations/us-central1/operations/9050914462671831040\n",
      "INFO:google.cloud.aiplatform.base:CustomJob deleted. . Resource name: projects/691911073727/locations/us-central1/customJobs/5405993009542070272\n",
      "05c_digits_20210919214125-custom-job\n",
      "INFO:google.cloud.aiplatform.base:Deleting CustomJob : projects/691911073727/locations/us-central1/customJobs/8218420608090767360\n",
      "INFO:google.cloud.aiplatform.base:Delete CustomJob  backing LRO: projects/691911073727/locations/us-central1/operations/8388885317448368128\n",
      "INFO:google.cloud.aiplatform.base:CustomJob deleted. . Resource name: projects/691911073727/locations/us-central1/customJobs/8218420608090767360\n",
      "05d_digits_20210919123929-custom-job\n",
      "INFO:google.cloud.aiplatform.base:Deleting CustomJob : projects/691911073727/locations/us-central1/customJobs/7852503138366914560\n",
      "INFO:google.cloud.aiplatform.base:Delete CustomJob  backing LRO: projects/691911073727/locations/us-central1/operations/259887990044622848\n",
      "INFO:google.cloud.aiplatform.base:CustomJob deleted. . Resource name: projects/691911073727/locations/us-central1/customJobs/7852503138366914560\n",
      "05d_digits_20210919114251-custom-job\n",
      "INFO:google.cloud.aiplatform.base:Deleting CustomJob : projects/691911073727/locations/us-central1/customJobs/2257906501265915904\n",
      "INFO:google.cloud.aiplatform.base:Delete CustomJob  backing LRO: projects/691911073727/locations/us-central1/operations/2462148207828795392\n",
      "INFO:google.cloud.aiplatform.base:CustomJob deleted. . Resource name: projects/691911073727/locations/us-central1/customJobs/2257906501265915904\n",
      "05c_digits_20210918123137-custom-job\n",
      "INFO:google.cloud.aiplatform.base:Deleting CustomJob : projects/691911073727/locations/us-central1/customJobs/5986535149007798272\n",
      "INFO:google.cloud.aiplatform.base:Delete CustomJob  backing LRO: projects/691911073727/locations/us-central1/operations/6673013859420209152\n",
      "INFO:google.cloud.aiplatform.base:CustomJob deleted. . Resource name: projects/691911073727/locations/us-central1/customJobs/5986535149007798272\n",
      "05b_digits_20210917192930\n",
      "INFO:google.cloud.aiplatform.base:Deleting CustomJob : projects/691911073727/locations/us-central1/customJobs/7800922848884686848\n",
      "INFO:google.cloud.aiplatform.base:Delete CustomJob  backing LRO: projects/691911073727/locations/us-central1/operations/7073834226256183296\n",
      "INFO:google.cloud.aiplatform.base:CustomJob deleted. . Resource name: projects/691911073727/locations/us-central1/customJobs/7800922848884686848\n",
      "05a_digits_20210917172654\n",
      "INFO:google.cloud.aiplatform.base:Deleting CustomJob : projects/691911073727/locations/us-central1/customJobs/757855981630652416\n",
      "INFO:google.cloud.aiplatform.base:Delete CustomJob  backing LRO: projects/691911073727/locations/us-central1/operations/5195833181642686464\n",
      "INFO:google.cloud.aiplatform.base:CustomJob deleted. . Resource name: projects/691911073727/locations/us-central1/customJobs/757855981630652416\n",
      "05a_digits_20210917171058\n",
      "INFO:google.cloud.aiplatform.base:Deleting CustomJob : projects/691911073727/locations/us-central1/customJobs/7419805730418458624\n",
      "INFO:google.cloud.aiplatform.base:Delete CustomJob  backing LRO: projects/691911073727/locations/us-central1/operations/2673817390315208704\n",
      "INFO:google.cloud.aiplatform.base:CustomJob deleted. . Resource name: projects/691911073727/locations/us-central1/customJobs/7419805730418458624\n",
      "caip_pipelines_581184254256349184_-8922255384425529344\n",
      "INFO:google.cloud.aiplatform.base:Deleting CustomJob : projects/691911073727/locations/us-central1/customJobs/4374316851153338368\n",
      "INFO:google.cloud.aiplatform.base:Delete CustomJob  backing LRO: projects/691911073727/locations/us-central1/operations/3673616507591458816\n",
      "INFO:google.cloud.aiplatform.base:CustomJob deleted. . Resource name: projects/691911073727/locations/us-central1/customJobs/4374316851153338368\n",
      "caip_pipelines_581184254256349184_301116652429246464\n",
      "INFO:google.cloud.aiplatform.base:Deleting CustomJob : projects/691911073727/locations/us-central1/customJobs/7972692953422364672\n",
      "INFO:google.cloud.aiplatform.base:Delete CustomJob  backing LRO: projects/691911073727/locations/us-central1/operations/894895537503862784\n",
      "INFO:google.cloud.aiplatform.base:CustomJob deleted. . Resource name: projects/691911073727/locations/us-central1/customJobs/7972692953422364672\n",
      "caip_pipelines_581184254256349184_4912802670856634368\n",
      "INFO:google.cloud.aiplatform.base:Deleting CustomJob : projects/691911073727/locations/us-central1/customJobs/6890280930481537024\n",
      "INFO:google.cloud.aiplatform.base:Delete CustomJob  backing LRO: projects/691911073727/locations/us-central1/operations/4871574008472010752\n",
      "INFO:google.cloud.aiplatform.base:CustomJob deleted. . Resource name: projects/691911073727/locations/us-central1/customJobs/6890280930481537024\n"
     ]
    }
   ],
   "source": [
    "jobs = aiplatform.CustomJob.list()\n",
    "for j in jobs:\n",
    "    print(j.display_name)\n",
    "    j.delete()"
   ]
  },
  {
   "cell_type": "markdown",
   "id": "09fb512e",
   "metadata": {},
   "source": [
    "## Vertex AI > Training > Hyperparameter Tuning Job"
   ]
  },
  {
   "cell_type": "code",
   "execution_count": 21,
   "id": "e087e1c1",
   "metadata": {},
   "outputs": [
    {
     "name": "stdout",
     "output_type": "stream",
     "text": [
      "05f_digits_20210920145828\n",
      "INFO:google.cloud.aiplatform.base:Deleting HyperparameterTuningJob : projects/691911073727/locations/us-central1/hyperparameterTuningJobs/6687856441761464320\n",
      "INFO:google.cloud.aiplatform.base:Delete HyperparameterTuningJob  backing LRO: projects/691911073727/locations/us-central1/operations/1687529071921070080\n",
      "INFO:google.cloud.aiplatform.base:HyperparameterTuningJob deleted. . Resource name: projects/691911073727/locations/us-central1/hyperparameterTuningJobs/6687856441761464320\n",
      "05e_digits_20210920125450\n",
      "INFO:google.cloud.aiplatform.base:Deleting HyperparameterTuningJob : projects/691911073727/locations/us-central1/hyperparameterTuningJobs/6831945241558253568\n",
      "INFO:google.cloud.aiplatform.base:Delete HyperparameterTuningJob  backing LRO: projects/691911073727/locations/us-central1/operations/5673214742143959040\n",
      "INFO:google.cloud.aiplatform.base:HyperparameterTuningJob deleted. . Resource name: projects/691911073727/locations/us-central1/hyperparameterTuningJobs/6831945241558253568\n"
     ]
    }
   ],
   "source": [
    "jobs = aiplatform.HyperparameterTuningJob.list()\n",
    "for j in jobs:\n",
    "    print(j.display_name)\n",
    "    j.delete()"
   ]
  },
  {
   "cell_type": "markdown",
   "id": "d6ee0a33",
   "metadata": {},
   "source": [
    "---\n",
    "## Vertex AI > Experiments > Experiment & Tensorboard Instances"
   ]
  },
  {
   "cell_type": "code",
   "execution_count": 26,
   "id": "98f8d5ff",
   "metadata": {},
   "outputs": [],
   "source": [
    "tbs = clients['tb'].list_tensorboards(parent=PARENT)"
   ]
  },
  {
   "cell_type": "code",
   "execution_count": 28,
   "id": "024daa6e",
   "metadata": {},
   "outputs": [
    {
     "name": "stdout",
     "output_type": "stream",
     "text": [
      "projects/691911073727/locations/us-central1/tensorboards/8640050331994030080\n"
     ]
    }
   ],
   "source": [
    "for tb in tbs:\n",
    "    print(tb.name)\n",
    "    tbes = clients['tb'].list_tensorboard_experiments(parent=tb.name)\n",
    "    for tbe in tbes:\n",
    "        print(tbe.name)\n",
    "        clients['tb'].delete_tensorboard_experiment(request=aiplatform_v1beta1.types.DeleteTensorboardExperimentRequest(name=tbe.name))\n",
    "    clients['tb'].delete_tensorboard(request = aiplatform_v1beta1.types.DeleteTensorboardRequest(name=tb.name))"
   ]
  },
  {
   "cell_type": "markdown",
   "id": "e05560a5",
   "metadata": {},
   "source": [
    "## Vertex AI > Experiments > Studies\n",
    "Vizier Studies"
   ]
  },
  {
   "cell_type": "code",
   "execution_count": 23,
   "id": "f3dbebb6",
   "metadata": {},
   "outputs": [],
   "source": [
    "studies = clients['viz'].list_studies(parent=PARENT)"
   ]
  },
  {
   "cell_type": "code",
   "execution_count": 24,
   "id": "f3d899cc",
   "metadata": {},
   "outputs": [
    {
     "name": "stdout",
     "output_type": "stream",
     "text": [
      "projects/691911073727/locations/us-central1/studies/4214226082825\n",
      "projects/691911073727/locations/us-central1/studies/639592116037\n"
     ]
    }
   ],
   "source": [
    "for study in studies:\n",
    "    print(study.name)\n",
    "    clients['viz'].delete_study(name=study.name)"
   ]
  },
  {
   "cell_type": "markdown",
   "id": "7d52c19c",
   "metadata": {},
   "source": [
    "---\n",
    "## Vertex AI > Endpoints\n",
    "- Delete endpoints forcing deployed models to undeploy"
   ]
  },
  {
   "cell_type": "code",
   "execution_count": 29,
   "id": "71467adf",
   "metadata": {},
   "outputs": [],
   "source": [
    "endpoints = aiplatform.Endpoint.list()"
   ]
  },
  {
   "cell_type": "code",
   "execution_count": 30,
   "id": "1407adc7",
   "metadata": {},
   "outputs": [
    {
     "name": "stdout",
     "output_type": "stream",
     "text": [
      "projects/691911073727/locations/us-central1/endpoints/7936169376170901504\n",
      "INFO:google.cloud.aiplatform.models:Undeploying Endpoint model: projects/691911073727/locations/us-central1/endpoints/7936169376170901504\n",
      "INFO:google.cloud.aiplatform.models:Undeploy Endpoint model backing LRO: projects/691911073727/locations/us-central1/endpoints/7936169376170901504/operations/7231460213214150656\n",
      "INFO:google.cloud.aiplatform.models:Endpoint model undeployed. Resource name: projects/691911073727/locations/us-central1/endpoints/7936169376170901504\n",
      "INFO:google.cloud.aiplatform.base:Deleting Endpoint : projects/691911073727/locations/us-central1/endpoints/7936169376170901504\n",
      "INFO:google.cloud.aiplatform.base:Delete Endpoint  backing LRO: projects/691911073727/locations/us-central1/operations/6609963464637022208\n",
      "INFO:google.cloud.aiplatform.base:Endpoint deleted. . Resource name: projects/691911073727/locations/us-central1/endpoints/7936169376170901504\n",
      "projects/691911073727/locations/us-central1/endpoints/1311937274262323200\n",
      "INFO:google.cloud.aiplatform.models:Undeploying Endpoint model: projects/691911073727/locations/us-central1/endpoints/1311937274262323200\n",
      "INFO:google.cloud.aiplatform.models:Undeploy Endpoint model backing LRO: projects/691911073727/locations/us-central1/endpoints/1311937274262323200/operations/6113441605719425024\n",
      "INFO:google.cloud.aiplatform.models:Endpoint model undeployed. Resource name: projects/691911073727/locations/us-central1/endpoints/1311937274262323200\n",
      "INFO:google.cloud.aiplatform.base:Deleting Endpoint : projects/691911073727/locations/us-central1/endpoints/1311937274262323200\n",
      "INFO:google.cloud.aiplatform.base:Delete Endpoint  backing LRO: projects/691911073727/locations/us-central1/operations/5235239678382178304\n",
      "INFO:google.cloud.aiplatform.base:Endpoint deleted. . Resource name: projects/691911073727/locations/us-central1/endpoints/1311937274262323200\n",
      "projects/691911073727/locations/us-central1/endpoints/5588105120450609152\n",
      "INFO:google.cloud.aiplatform.models:Undeploying Endpoint model: projects/691911073727/locations/us-central1/endpoints/5588105120450609152\n",
      "INFO:google.cloud.aiplatform.models:Undeploy Endpoint model backing LRO: projects/691911073727/locations/us-central1/endpoints/5588105120450609152/operations/6707916756532330496\n",
      "INFO:google.cloud.aiplatform.models:Endpoint model undeployed. Resource name: projects/691911073727/locations/us-central1/endpoints/5588105120450609152\n",
      "INFO:google.cloud.aiplatform.base:Deleting Endpoint : projects/691911073727/locations/us-central1/endpoints/5588105120450609152\n",
      "INFO:google.cloud.aiplatform.base:Delete Endpoint  backing LRO: projects/691911073727/locations/us-central1/operations/3807598596505731072\n",
      "INFO:google.cloud.aiplatform.base:Endpoint deleted. . Resource name: projects/691911073727/locations/us-central1/endpoints/5588105120450609152\n",
      "projects/691911073727/locations/us-central1/endpoints/4644600998516490240\n",
      "INFO:google.cloud.aiplatform.models:Undeploying Endpoint model: projects/691911073727/locations/us-central1/endpoints/4644600998516490240\n",
      "INFO:google.cloud.aiplatform.models:Undeploy Endpoint model backing LRO: projects/691911073727/locations/us-central1/endpoints/4644600998516490240/operations/8419284614933118976\n",
      "INFO:google.cloud.aiplatform.models:Endpoint model undeployed. Resource name: projects/691911073727/locations/us-central1/endpoints/4644600998516490240\n",
      "INFO:google.cloud.aiplatform.base:Deleting Endpoint : projects/691911073727/locations/us-central1/endpoints/4644600998516490240\n",
      "INFO:google.cloud.aiplatform.base:Delete Endpoint  backing LRO: projects/691911073727/locations/us-central1/operations/7014161531193524224\n",
      "INFO:google.cloud.aiplatform.base:Endpoint deleted. . Resource name: projects/691911073727/locations/us-central1/endpoints/4644600998516490240\n",
      "projects/691911073727/locations/us-central1/endpoints/3858722863540338688\n",
      "INFO:google.cloud.aiplatform.models:Undeploying Endpoint model: projects/691911073727/locations/us-central1/endpoints/3858722863540338688\n",
      "INFO:google.cloud.aiplatform.models:Undeploy Endpoint model backing LRO: projects/691911073727/locations/us-central1/endpoints/3858722863540338688/operations/9144364154939768832\n",
      "INFO:google.cloud.aiplatform.models:Endpoint model undeployed. Resource name: projects/691911073727/locations/us-central1/endpoints/3858722863540338688\n",
      "INFO:google.cloud.aiplatform.base:Deleting Endpoint : projects/691911073727/locations/us-central1/endpoints/3858722863540338688\n",
      "INFO:google.cloud.aiplatform.base:Delete Endpoint  backing LRO: projects/691911073727/locations/us-central1/operations/8915806473850716160\n",
      "INFO:google.cloud.aiplatform.base:Endpoint deleted. . Resource name: projects/691911073727/locations/us-central1/endpoints/3858722863540338688\n",
      "projects/691911073727/locations/us-central1/endpoints/5743479307594891264\n",
      "INFO:google.cloud.aiplatform.models:Undeploying Endpoint model: projects/691911073727/locations/us-central1/endpoints/5743479307594891264\n",
      "INFO:google.cloud.aiplatform.models:Undeploy Endpoint model backing LRO: projects/691911073727/locations/us-central1/endpoints/5743479307594891264/operations/925294834988613632\n",
      "INFO:google.cloud.aiplatform.models:Endpoint model undeployed. Resource name: projects/691911073727/locations/us-central1/endpoints/5743479307594891264\n",
      "INFO:google.cloud.aiplatform.base:Deleting Endpoint : projects/691911073727/locations/us-central1/endpoints/5743479307594891264\n",
      "INFO:google.cloud.aiplatform.base:Delete Endpoint  backing LRO: projects/691911073727/locations/us-central1/operations/4402073747318636544\n",
      "INFO:google.cloud.aiplatform.base:Endpoint deleted. . Resource name: projects/691911073727/locations/us-central1/endpoints/5743479307594891264\n",
      "projects/691911073727/locations/us-central1/endpoints/1552879854326644736\n",
      "INFO:google.cloud.aiplatform.models:Undeploying Endpoint model: projects/691911073727/locations/us-central1/endpoints/1552879854326644736\n",
      "INFO:google.cloud.aiplatform.models:Undeploy Endpoint model backing LRO: projects/691911073727/locations/us-central1/endpoints/1552879854326644736/operations/5536980853416001536\n",
      "INFO:google.cloud.aiplatform.models:Endpoint model undeployed. Resource name: projects/691911073727/locations/us-central1/endpoints/1552879854326644736\n",
      "INFO:google.cloud.aiplatform.base:Deleting Endpoint : projects/691911073727/locations/us-central1/endpoints/1552879854326644736\n",
      "INFO:google.cloud.aiplatform.base:Delete Endpoint  backing LRO: projects/691911073727/locations/us-central1/operations/3231137844202307584\n",
      "INFO:google.cloud.aiplatform.base:Endpoint deleted. . Resource name: projects/691911073727/locations/us-central1/endpoints/1552879854326644736\n",
      "projects/691911073727/locations/us-central1/endpoints/6560882639962636288\n",
      "INFO:google.cloud.aiplatform.models:Undeploying Endpoint model: projects/691911073727/locations/us-central1/endpoints/6560882639962636288\n",
      "INFO:google.cloud.aiplatform.models:Undeploy Endpoint model backing LRO: projects/691911073727/locations/us-central1/endpoints/6560882639962636288/operations/5433398061986480128\n",
      "INFO:google.cloud.aiplatform.models:Endpoint model undeployed. Resource name: projects/691911073727/locations/us-central1/endpoints/6560882639962636288\n",
      "INFO:google.cloud.aiplatform.base:Deleting Endpoint : projects/691911073727/locations/us-central1/endpoints/6560882639962636288\n",
      "INFO:google.cloud.aiplatform.base:Delete Endpoint  backing LRO: projects/691911073727/locations/us-central1/operations/137164900198776832\n",
      "INFO:google.cloud.aiplatform.base:Endpoint deleted. . Resource name: projects/691911073727/locations/us-central1/endpoints/6560882639962636288\n",
      "projects/691911073727/locations/us-central1/endpoints/7761091940656873472\n",
      "INFO:google.cloud.aiplatform.models:Undeploying Endpoint model: projects/691911073727/locations/us-central1/endpoints/7761091940656873472\n",
      "INFO:google.cloud.aiplatform.models:Undeploy Endpoint model backing LRO: projects/691911073727/locations/us-central1/endpoints/7761091940656873472/operations/3645469009920393216\n",
      "INFO:google.cloud.aiplatform.models:Endpoint model undeployed. Resource name: projects/691911073727/locations/us-central1/endpoints/7761091940656873472\n",
      "INFO:google.cloud.aiplatform.base:Deleting Endpoint : projects/691911073727/locations/us-central1/endpoints/7761091940656873472\n",
      "INFO:google.cloud.aiplatform.base:Delete Endpoint  backing LRO: projects/691911073727/locations/us-central1/operations/2078216339595460608\n",
      "INFO:google.cloud.aiplatform.base:Endpoint deleted. . Resource name: projects/691911073727/locations/us-central1/endpoints/7761091940656873472\n",
      "projects/691911073727/locations/us-central1/endpoints/4399154818824798208\n",
      "INFO:google.cloud.aiplatform.models:Undeploying Endpoint model: projects/691911073727/locations/us-central1/endpoints/4399154818824798208\n",
      "INFO:google.cloud.aiplatform.models:Undeploy Endpoint model backing LRO: projects/691911073727/locations/us-central1/endpoints/4399154818824798208/operations/4748850918626164736\n",
      "INFO:google.cloud.aiplatform.models:Endpoint model undeployed. Resource name: projects/691911073727/locations/us-central1/endpoints/4399154818824798208\n",
      "INFO:google.cloud.aiplatform.base:Deleting Endpoint : projects/691911073727/locations/us-central1/endpoints/4399154818824798208\n",
      "INFO:google.cloud.aiplatform.base:Delete Endpoint  backing LRO: projects/691911073727/locations/us-central1/operations/3978735382345809920\n",
      "INFO:google.cloud.aiplatform.base:Endpoint deleted. . Resource name: projects/691911073727/locations/us-central1/endpoints/4399154818824798208\n",
      "projects/691911073727/locations/us-central1/endpoints/5446241732188438528\n",
      "INFO:google.cloud.aiplatform.models:Undeploying Endpoint model: projects/691911073727/locations/us-central1/endpoints/5446241732188438528\n",
      "INFO:google.cloud.aiplatform.models:Undeploy Endpoint model backing LRO: projects/691911073727/locations/us-central1/endpoints/5446241732188438528/operations/1249554008159289344\n",
      "INFO:google.cloud.aiplatform.models:Endpoint model undeployed. Resource name: projects/691911073727/locations/us-central1/endpoints/5446241732188438528\n",
      "INFO:google.cloud.aiplatform.base:Deleting Endpoint : projects/691911073727/locations/us-central1/endpoints/5446241732188438528\n",
      "INFO:google.cloud.aiplatform.base:Delete Endpoint  backing LRO: projects/691911073727/locations/us-central1/operations/7541082687595872256\n",
      "INFO:google.cloud.aiplatform.base:Endpoint deleted. . Resource name: projects/691911073727/locations/us-central1/endpoints/5446241732188438528\n",
      "projects/691911073727/locations/us-central1/endpoints/3724740774626066432\n",
      "INFO:google.cloud.aiplatform.models:Undeploying Endpoint model: projects/691911073727/locations/us-central1/endpoints/3724740774626066432\n",
      "INFO:google.cloud.aiplatform.models:Undeploy Endpoint model backing LRO: projects/691911073727/locations/us-central1/endpoints/3724740774626066432/operations/8257155028347781120\n",
      "INFO:google.cloud.aiplatform.models:Endpoint model undeployed. Resource name: projects/691911073727/locations/us-central1/endpoints/3724740774626066432\n",
      "INFO:google.cloud.aiplatform.base:Deleting Endpoint : projects/691911073727/locations/us-central1/endpoints/3724740774626066432\n",
      "INFO:google.cloud.aiplatform.base:Delete Endpoint  backing LRO: projects/691911073727/locations/us-central1/operations/1096431620828692480\n",
      "INFO:google.cloud.aiplatform.base:Endpoint deleted. . Resource name: projects/691911073727/locations/us-central1/endpoints/3724740774626066432\n",
      "projects/691911073727/locations/us-central1/endpoints/7140721091986587648\n",
      "INFO:google.cloud.aiplatform.models:Undeploying Endpoint model: projects/691911073727/locations/us-central1/endpoints/7140721091986587648\n",
      "INFO:google.cloud.aiplatform.models:Undeploy Endpoint model backing LRO: projects/691911073727/locations/us-central1/endpoints/7140721091986587648/operations/5708117639256080384\n",
      "INFO:google.cloud.aiplatform.models:Endpoint model undeployed. Resource name: projects/691911073727/locations/us-central1/endpoints/7140721091986587648\n",
      "INFO:google.cloud.aiplatform.base:Deleting Endpoint : projects/691911073727/locations/us-central1/endpoints/7140721091986587648\n",
      "INFO:google.cloud.aiplatform.base:Delete Endpoint  backing LRO: projects/691911073727/locations/us-central1/operations/5168811583878463488\n",
      "INFO:google.cloud.aiplatform.base:Endpoint deleted. . Resource name: projects/691911073727/locations/us-central1/endpoints/7140721091986587648\n"
     ]
    }
   ],
   "source": [
    "for ep in endpoints:\n",
    "    print(ep.resource_name)\n",
    "    ep.delete(force=True)"
   ]
  },
  {
   "cell_type": "markdown",
   "id": "eea6b3bb",
   "metadata": {},
   "source": [
    "---\n",
    "## Vertex AI > Models\n",
    "- Delete endpoints first (contain deployed models)\n",
    "- Delete uploaded models"
   ]
  },
  {
   "cell_type": "code",
   "execution_count": 31,
   "id": "4e805eb0",
   "metadata": {},
   "outputs": [],
   "source": [
    "models = aiplatform.Model.list()"
   ]
  },
  {
   "cell_type": "code",
   "execution_count": 32,
   "id": "f942e39e",
   "metadata": {},
   "outputs": [
    {
     "name": "stdout",
     "output_type": "stream",
     "text": [
      "projects/691911073727/locations/us-central1/models/6135512377501679616\n",
      "INFO:google.cloud.aiplatform.base:Deleting Model : projects/691911073727/locations/us-central1/models/6135512377501679616\n",
      "INFO:google.cloud.aiplatform.base:Delete Model  backing LRO: projects/691911073727/locations/us-central1/operations/2249353125435539456\n",
      "INFO:google.cloud.aiplatform.base:Model deleted. . Resource name: projects/691911073727/locations/us-central1/models/6135512377501679616\n",
      "projects/691911073727/locations/us-central1/models/1609685023064064\n",
      "INFO:google.cloud.aiplatform.base:Deleting Model : projects/691911073727/locations/us-central1/models/1609685023064064\n",
      "INFO:google.cloud.aiplatform.base:Delete Model  backing LRO: projects/691911073727/locations/us-central1/operations/7680694276044357632\n",
      "INFO:google.cloud.aiplatform.base:Model deleted. . Resource name: projects/691911073727/locations/us-central1/models/1609685023064064\n",
      "projects/691911073727/locations/us-central1/models/4290162430186618880\n",
      "INFO:google.cloud.aiplatform.base:Deleting Model : projects/691911073727/locations/us-central1/models/4290162430186618880\n",
      "INFO:google.cloud.aiplatform.base:Delete Model  backing LRO: projects/691911073727/locations/us-central1/operations/8995745367236542464\n",
      "INFO:google.cloud.aiplatform.base:Model deleted. . Resource name: projects/691911073727/locations/us-central1/models/4290162430186618880\n",
      "projects/691911073727/locations/us-central1/models/2072139613706649600\n",
      "INFO:google.cloud.aiplatform.base:Deleting Model : projects/691911073727/locations/us-central1/models/2072139613706649600\n",
      "INFO:google.cloud.aiplatform.base:Delete Model  backing LRO: projects/691911073727/locations/us-central1/operations/1974633548165939200\n",
      "INFO:google.cloud.aiplatform.base:Model deleted. . Resource name: projects/691911073727/locations/us-central1/models/2072139613706649600\n",
      "projects/691911073727/locations/us-central1/models/6901124314154663936\n",
      "INFO:google.cloud.aiplatform.base:Deleting Model : projects/691911073727/locations/us-central1/models/6901124314154663936\n",
      "INFO:google.cloud.aiplatform.base:Delete Model  backing LRO: projects/691911073727/locations/us-central1/operations/6586319566593327104\n",
      "INFO:google.cloud.aiplatform.base:Model deleted. . Resource name: projects/691911073727/locations/us-central1/models/6901124314154663936\n",
      "projects/691911073727/locations/us-central1/models/5215652153611255808\n",
      "INFO:google.cloud.aiplatform.base:Deleting Model : projects/691911073727/locations/us-central1/models/5215652153611255808\n",
      "INFO:google.cloud.aiplatform.base:Delete Model  backing LRO: projects/691911073727/locations/us-central1/operations/1710047070057922560\n",
      "INFO:google.cloud.aiplatform.base:Model deleted. . Resource name: projects/691911073727/locations/us-central1/models/5215652153611255808\n",
      "projects/691911073727/locations/us-central1/models/8309625097614786560\n",
      "INFO:google.cloud.aiplatform.base:Deleting Model : projects/691911073727/locations/us-central1/models/8309625097614786560\n",
      "INFO:google.cloud.aiplatform.base:Delete Model  backing LRO: projects/691911073727/locations/us-central1/operations/5861240026586677248\n",
      "INFO:google.cloud.aiplatform.base:Model deleted. . Resource name: projects/691911073727/locations/us-central1/models/8309625097614786560\n",
      "projects/691911073727/locations/us-central1/models/7246775585555349504\n",
      "INFO:google.cloud.aiplatform.base:Deleting Model : projects/691911073727/locations/us-central1/models/7246775585555349504\n",
      "INFO:google.cloud.aiplatform.base:Delete Model  backing LRO: projects/691911073727/locations/us-central1/operations/5888261624350900224\n",
      "INFO:google.cloud.aiplatform.base:Model deleted. . Resource name: projects/691911073727/locations/us-central1/models/7246775585555349504\n",
      "projects/691911073727/locations/us-central1/models/2454945582033141760\n",
      "INFO:google.cloud.aiplatform.base:Deleting Model : projects/691911073727/locations/us-central1/models/2454945582033141760\n",
      "INFO:google.cloud.aiplatform.base:Delete Model  backing LRO: projects/691911073727/locations/us-central1/operations/1916086753010122752\n",
      "INFO:google.cloud.aiplatform.base:Model deleted. . Resource name: projects/691911073727/locations/us-central1/models/2454945582033141760\n",
      "projects/691911073727/locations/us-central1/models/41016181762555904\n",
      "INFO:google.cloud.aiplatform.base:Deleting Model : projects/691911073727/locations/us-central1/models/41016181762555904\n",
      "INFO:google.cloud.aiplatform.base:Delete Model  backing LRO: projects/691911073727/locations/us-central1/operations/1776475164561637376\n",
      "INFO:google.cloud.aiplatform.base:Model deleted. . Resource name: projects/691911073727/locations/us-central1/models/41016181762555904\n",
      "projects/691911073727/locations/us-central1/models/1648801248733822976\n",
      "INFO:google.cloud.aiplatform.base:Deleting Model : projects/691911073727/locations/us-central1/models/1648801248733822976\n",
      "INFO:google.cloud.aiplatform.base:Delete Model  backing LRO: projects/691911073727/locations/us-central1/operations/222733293118816256\n",
      "INFO:google.cloud.aiplatform.base:Model deleted. . Resource name: projects/691911073727/locations/us-central1/models/1648801248733822976\n",
      "projects/691911073727/locations/us-central1/models/4850016158864113664\n",
      "INFO:google.cloud.aiplatform.base:Deleting Model : projects/691911073727/locations/us-central1/models/4850016158864113664\n",
      "INFO:google.cloud.aiplatform.base:Delete Model  backing LRO: projects/691911073727/locations/us-central1/operations/3555397017372983296\n",
      "INFO:google.cloud.aiplatform.base:Model deleted. . Resource name: projects/691911073727/locations/us-central1/models/4850016158864113664\n",
      "projects/691911073727/locations/us-central1/models/8966306218280747008\n",
      "INFO:google.cloud.aiplatform.base:Deleting Model : projects/691911073727/locations/us-central1/models/8966306218280747008\n",
      "INFO:google.cloud.aiplatform.base:Delete Model  backing LRO: projects/691911073727/locations/us-central1/operations/4280476557379633152\n",
      "INFO:google.cloud.aiplatform.base:Model deleted. . Resource name: projects/691911073727/locations/us-central1/models/8966306218280747008\n",
      "projects/691911073727/locations/us-central1/models/1431784041689907200\n",
      "INFO:google.cloud.aiplatform.base:Deleting Model : projects/691911073727/locations/us-central1/models/1431784041689907200\n",
      "INFO:google.cloud.aiplatform.base:Delete Model  backing LRO: projects/691911073727/locations/us-central1/operations/8892162575807021056\n",
      "INFO:google.cloud.aiplatform.base:Model deleted. . Resource name: projects/691911073727/locations/us-central1/models/1431784041689907200\n",
      "projects/691911073727/locations/us-central1/models/598618110626365440\n",
      "INFO:google.cloud.aiplatform.base:Deleting Model : projects/691911073727/locations/us-central1/models/598618110626365440\n",
      "INFO:google.cloud.aiplatform.base:Delete Model  backing LRO: projects/691911073727/locations/us-central1/operations/4834419311546204160\n",
      "INFO:google.cloud.aiplatform.base:Model deleted. . Resource name: projects/691911073727/locations/us-central1/models/598618110626365440\n"
     ]
    }
   ],
   "source": [
    "for model in models:\n",
    "    print(model.resource_name)\n",
    "    model.delete()"
   ]
  },
  {
   "cell_type": "markdown",
   "id": "e2226b29",
   "metadata": {},
   "source": [
    "---\n",
    "## Vertex AI > Batch Predictions\n",
    "- delete all batch prediction jobs"
   ]
  },
  {
   "cell_type": "code",
   "execution_count": 33,
   "id": "ab2c5a71",
   "metadata": {},
   "outputs": [],
   "source": [
    "bps = aiplatform.BatchPredictionJob.list()"
   ]
  },
  {
   "cell_type": "code",
   "execution_count": 34,
   "id": "58bebdd4",
   "metadata": {},
   "outputs": [],
   "source": [
    "for bp in bps:\n",
    "    print(bp.resource_name)\n",
    "    bp.delete()"
   ]
  },
  {
   "cell_type": "markdown",
   "id": "43cd8eb7",
   "metadata": {},
   "source": [
    "---\n",
    "## Vertex AI > Metadata"
   ]
  },
  {
   "cell_type": "code",
   "execution_count": 36,
   "id": "4bf195bb",
   "metadata": {},
   "outputs": [],
   "source": [
    "md = clients['md'].list_metadata_stores(parent=PARENT)"
   ]
  },
  {
   "cell_type": "code",
   "execution_count": 47,
   "id": "cd9cde55",
   "metadata": {},
   "outputs": [
    {
     "name": "stdout",
     "output_type": "stream",
     "text": [
      "projects/691911073727/locations/us-central1/metadataStores/default\n",
      "projects/691911073727/locations/us-central1/metadataStores/default/artifacts/6180199488504697479\n",
      "projects/691911073727/locations/us-central1/metadataStores/default/artifacts/1222243081411306850\n",
      "projects/691911073727/locations/us-central1/metadataStores/default/artifacts/873618663861831837\n",
      "projects/691911073727/locations/us-central1/metadataStores/default/artifacts/3239445619323675727\n",
      "projects/691911073727/locations/us-central1/metadataStores/default/artifacts/9832748077701759572\n",
      "projects/691911073727/locations/us-central1/metadataStores/default/artifacts/8919405980845928163\n"
     ]
    }
   ],
   "source": [
    "for m in md:\n",
    "    print(m.name)\n",
    "    arts = clients['md'].list_artifacts(parent=m.name)\n",
    "    for a in arts:\n",
    "        print(a.name)\n",
    "        clients['md'].delete_artifact(name=a.name)\n",
    "    if m.name.split('/')[-1] != 'default':\n",
    "        print('delete would happen here - update code to make this happen')\n",
    "        #clients['md'].get_metadata_store(name=m.name)#.purge_artifacts(parent=m.name)"
   ]
  },
  {
   "cell_type": "markdown",
   "id": "ebb2e865",
   "metadata": {},
   "source": [
    "---\n",
    "## Storage Bucket Removal\n",
    "\n",
    "- delete contents and storage bucket `statmike-mlops` (named after project)"
   ]
  },
  {
   "cell_type": "code",
   "execution_count": 50,
   "id": "0cfd7d05",
   "metadata": {},
   "outputs": [],
   "source": [
    "bucket = clients['gcs'].get_bucket(PROJECT_ID)"
   ]
  },
  {
   "cell_type": "code",
   "execution_count": null,
   "id": "1f692e3a",
   "metadata": {},
   "outputs": [],
   "source": [
    "#bucket.delete(force=True)"
   ]
  }
 ],
 "metadata": {
  "environment": {
   "kernel": "python3",
   "name": "tf2-gpu.2-7.m87",
   "type": "gcloud",
   "uri": "gcr.io/deeplearning-platform-release/tf2-gpu.2-7:m87"
  },
  "kernelspec": {
   "display_name": "Python 3",
   "language": "python",
   "name": "python3"
  },
  "language_info": {
   "codemirror_mode": {
    "name": "ipython",
    "version": 3
   },
   "file_extension": ".py",
   "mimetype": "text/x-python",
   "name": "python",
   "nbconvert_exporter": "python",
   "pygments_lexer": "ipython3",
   "version": "3.7.12"
  }
 },
 "nbformat": 4,
 "nbformat_minor": 5
}
