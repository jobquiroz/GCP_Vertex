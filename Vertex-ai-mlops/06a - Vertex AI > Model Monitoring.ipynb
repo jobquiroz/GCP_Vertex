{
 "cells": [
  {
   "cell_type": "markdown",
   "id": "79c8604d-c801-4e93-8adb-1b9f2df9bec7",
   "metadata": {},
   "source": [
    "# 06a - Vertex AI > Model Monitoring\n",
    "\n",
    "In other notebooks the end-to-end workflows include serving trained ML models on Vertex AI endpoints.  In this notebook, an endpoint will be extended by enableing model monitoring.  This enables continuous scheduled monitoring of selected model features for deviations:\n",
    "- Training-serving skew: feature distribution is different from the feature distribtution in the training data\n",
    "- Prediction drift: feature distribution is different over time\n",
    "\n",
    "The monitoring is setup with a threshold that is used to create alerts\n",
    "- numerical features difference is calculated with [Jensen-Shannon divergence](https://en.wikipedia.org/wiki/Jensen%E2%80%93Shannon_divergence)\n",
    "- categorical features difference is calculated with [L-infinity distance](https://en.wikipedia.org/wiki/Chebyshev_distance)\n",
    "\n",
    "\n",
    "\n",
    "### Prerequisites:\n",
    "-  02a - Vertex AI - AutoML in GCP Console (no code)\n",
    "    - or any other notebook that creates a Vertex AI Endpoint\n",
    "    - Picking `02a` because it has and endpoint setup for prediction and explanation\n",
    "\n",
    "### Overview:\n",
    "- Find Existing Endpoint\n",
    "- Prediction from endpoint using Python API\n",
    "- Start Monitoring Job for Skew and Drift\n",
    "    - Setup Monitoring Client\n",
    "    - Setup Monitoring Job\n",
    "- Run Prediction with Training Data\n",
    "    - Review Alerts\n",
    "- Run Predictions with Test Data\n",
    "    - Review Alerts\n",
    "- Extended Run of Predictions with Noise\n",
    "    - Review Alerts and Distributions\n",
    "- Pause and Delete Monitoring Job\n",
    "\n",
    "### Resources:\n",
    "- [Python Client for Vertex AI](https://googleapis.dev/python/aiplatform/latest/aiplatform.html)\n",
    "- [Model Monitoring Documentation](https://cloud.google.com/vertex-ai/docs/model-monitoring/overview)\n",
    "- [Blog: Monitor Models with Vertex AI](https://cloud.google.com/blog/topics/developers-practitioners/monitor-models-training-serving-skew-vertex-ai)"
   ]
  },
  {
   "cell_type": "markdown",
   "id": "99190e62-a8b6-4de2-b8eb-c5bf78342ab6",
   "metadata": {},
   "source": [
    "---\n",
    "## Vertex AI - Conceptual Flow\n",
    "\n",
    "<img src=\"architectures/slides/06a_arch.png\">\n",
    "\n",
    "---\n",
    "## Vertex AI - Workflow\n",
    "\n",
    "<img src=\"architectures/slides/06a_console.png\">"
   ]
  },
  {
   "cell_type": "markdown",
   "id": "192dfd9f-5774-442a-9e08-07b6c51c4519",
   "metadata": {},
   "source": [
    "---\n",
    "## Setup"
   ]
  },
  {
   "cell_type": "markdown",
   "id": "86658678-e4da-4f8f-9819-fbcb8806359f",
   "metadata": {},
   "source": [
    "inputs:"
   ]
  },
  {
   "cell_type": "code",
   "execution_count": 7,
   "id": "b255bf32",
   "metadata": {},
   "outputs": [],
   "source": [
    "REGION = 'us-central1'\n",
    "PROJECT_ID='ma-mx-presales-lab'\n",
    "DATANAME = 'fraud'\n",
    "NOTEBOOK = '06a'\n",
    "\n",
    "# Model Training\n",
    "VAR_TARGET = 'Class'\n",
    "VAR_OMIT = 'transaction_id' # add more variables to the string with space delimiters"
   ]
  },
  {
   "cell_type": "markdown",
   "id": "12ee58d9-937d-43ac-87ff-df54720dafde",
   "metadata": {},
   "source": [
    "packages:"
   ]
  },
  {
   "cell_type": "code",
   "execution_count": 8,
   "id": "f3bf8620",
   "metadata": {},
   "outputs": [],
   "source": [
    "import google.cloud.aiplatform_v1 as vertex\n",
    "from datetime import datetime\n",
    "import copy\n",
    "import time\n",
    "\n",
    "from google.cloud import bigquery\n",
    "from google.protobuf import json_format\n",
    "from google.protobuf.duration_pb2 import Duration\n",
    "from google.protobuf.struct_pb2 import Value\n",
    "import json\n",
    "import numpy as np"
   ]
  },
  {
   "cell_type": "markdown",
   "id": "41868006-28ae-47b1-9564-d1333b17655c",
   "metadata": {},
   "source": [
    "clients:"
   ]
  },
  {
   "cell_type": "code",
   "execution_count": 9,
   "id": "d0f88c50",
   "metadata": {},
   "outputs": [],
   "source": [
    "#aiplatform.init(project=PROJECT_ID, location=REGION)\n",
    "bigquery = bigquery.Client()\n",
    "client_options = {\"api_endpoint\": f\"{REGION}-aiplatform.googleapis.com\"}\n",
    "parent = f\"projects/{PROJECT_ID}/locations/{REGION}\""
   ]
  },
  {
   "cell_type": "markdown",
   "id": "710ba765-0107-43f8-8335-c7d68ce7c576",
   "metadata": {},
   "source": [
    "parameters:"
   ]
  },
  {
   "cell_type": "code",
   "execution_count": 10,
   "id": "f65b2223",
   "metadata": {},
   "outputs": [],
   "source": [
    "TIMESTAMP = datetime.now().strftime(\"%Y%m%d%H%M%S\")\n",
    "BUCKET = \"vertex-ai-mlops-bucket\"\n",
    "URI = f\"gs://{BUCKET}/{DATANAME}/models/{NOTEBOOK}\"\n",
    "DIR = f\"temp/{NOTEBOOK}\""
   ]
  },
  {
   "cell_type": "markdown",
   "id": "25892fd4-7d5e-4354-8592-cf68687a8a14",
   "metadata": {},
   "source": [
    "environment:"
   ]
  },
  {
   "cell_type": "code",
   "execution_count": 11,
   "id": "f7383876",
   "metadata": {},
   "outputs": [],
   "source": [
    "!rm -rf {DIR}\n",
    "!mkdir -p {DIR}"
   ]
  },
  {
   "cell_type": "markdown",
   "id": "932802d9-2423-47e0-ac7a-521de8c8df56",
   "metadata": {},
   "source": [
    "---\n",
    "## Endpoint"
   ]
  },
  {
   "cell_type": "markdown",
   "id": "97570de0-eac0-4b71-998d-570f803f151e",
   "metadata": {},
   "source": [
    "Setup Client:"
   ]
  },
  {
   "cell_type": "code",
   "execution_count": 12,
   "id": "23408cd0-1893-4b90-a0d7-3b4b89f192f4",
   "metadata": {},
   "outputs": [],
   "source": [
    "endpointClient = vertex.EndpointServiceClient(client_options = client_options)"
   ]
  },
  {
   "cell_type": "markdown",
   "id": "603f684e-fdeb-4e7d-92ea-d104c0ab4631",
   "metadata": {},
   "source": [
    "Find Endpoint:"
   ]
  },
  {
   "cell_type": "code",
   "execution_count": 13,
   "id": "6d4c75a7-876b-4dbc-82a9-0fedf5bc6493",
   "metadata": {},
   "outputs": [
    {
     "ename": "NameError",
     "evalue": "name 'endpoint' is not defined",
     "output_type": "error",
     "traceback": [
      "\u001b[0;31m---------------------------------------------------------------------------\u001b[0m",
      "\u001b[0;31mNameError\u001b[0m                                 Traceback (most recent call last)",
      "\u001b[0;32m/tmp/ipykernel_11399/1293616191.py\u001b[0m in \u001b[0;36m<module>\u001b[0;34m\u001b[0m\n\u001b[1;32m      2\u001b[0m \u001b[0;32mfor\u001b[0m \u001b[0me\u001b[0m \u001b[0;32min\u001b[0m \u001b[0mendpointClient\u001b[0m\u001b[0;34m.\u001b[0m\u001b[0mlist_endpoints\u001b[0m\u001b[0;34m(\u001b[0m\u001b[0mparent\u001b[0m \u001b[0;34m=\u001b[0m \u001b[0mparent\u001b[0m\u001b[0;34m)\u001b[0m\u001b[0;34m:\u001b[0m\u001b[0;34m\u001b[0m\u001b[0;34m\u001b[0m\u001b[0m\n\u001b[1;32m      3\u001b[0m     \u001b[0;32mif\u001b[0m \u001b[0me\u001b[0m\u001b[0;34m.\u001b[0m\u001b[0mdisplay_name\u001b[0m\u001b[0;34m.\u001b[0m\u001b[0mstartswith\u001b[0m\u001b[0;34m(\u001b[0m\u001b[0mendpoint_prefix\u001b[0m\u001b[0;34m)\u001b[0m\u001b[0;34m:\u001b[0m \u001b[0mendpoint\u001b[0m \u001b[0;34m=\u001b[0m \u001b[0me\u001b[0m\u001b[0;34m\u001b[0m\u001b[0;34m\u001b[0m\u001b[0m\n\u001b[0;32m----> 4\u001b[0;31m \u001b[0mprint\u001b[0m\u001b[0;34m(\u001b[0m\u001b[0mendpoint\u001b[0m\u001b[0;34m.\u001b[0m\u001b[0mdisplay_name\u001b[0m\u001b[0;34m)\u001b[0m\u001b[0;34m\u001b[0m\u001b[0;34m\u001b[0m\u001b[0m\n\u001b[0m\u001b[1;32m      5\u001b[0m \u001b[0mprint\u001b[0m\u001b[0;34m(\u001b[0m\u001b[0mendpoint\u001b[0m\u001b[0;34m.\u001b[0m\u001b[0mname\u001b[0m\u001b[0;34m)\u001b[0m\u001b[0;34m\u001b[0m\u001b[0;34m\u001b[0m\u001b[0m\n",
      "\u001b[0;31mNameError\u001b[0m: name 'endpoint' is not defined"
     ]
    }
   ],
   "source": [
    "endpoint_prefix = '02a'\n",
    "for e in endpointClient.list_endpoints(parent = parent):\n",
    "    if e.display_name.startswith(endpoint_prefix): endpoint = e\n",
    "print(endpoint.display_name)\n",
    "print(endpoint.name)"
   ]
  },
  {
   "cell_type": "markdown",
   "id": "2caac548-4562-44ca-a380-76ccbda4024f",
   "metadata": {},
   "source": [
    "---\n",
    "## Prediction"
   ]
  },
  {
   "cell_type": "markdown",
   "id": "2666b8a9-c105-46da-a6fb-ef510a0367f7",
   "metadata": {},
   "source": [
    "### Prepare a record for prediction: instance and parameters lists"
   ]
  },
  {
   "cell_type": "code",
   "execution_count": 8,
   "id": "4e3c1aaf-5d1a-46e0-8975-2ab4023a217c",
   "metadata": {},
   "outputs": [
    {
     "data": {
      "text/html": [
       "<div>\n",
       "<style scoped>\n",
       "    .dataframe tbody tr th:only-of-type {\n",
       "        vertical-align: middle;\n",
       "    }\n",
       "\n",
       "    .dataframe tbody tr th {\n",
       "        vertical-align: top;\n",
       "    }\n",
       "\n",
       "    .dataframe thead th {\n",
       "        text-align: right;\n",
       "    }\n",
       "</style>\n",
       "<table border=\"1\" class=\"dataframe\">\n",
       "  <thead>\n",
       "    <tr style=\"text-align: right;\">\n",
       "      <th></th>\n",
       "      <th>Time</th>\n",
       "      <th>V1</th>\n",
       "      <th>V2</th>\n",
       "      <th>V3</th>\n",
       "      <th>V4</th>\n",
       "      <th>V5</th>\n",
       "      <th>V6</th>\n",
       "      <th>V7</th>\n",
       "      <th>V8</th>\n",
       "      <th>V9</th>\n",
       "      <th>...</th>\n",
       "      <th>V23</th>\n",
       "      <th>V24</th>\n",
       "      <th>V25</th>\n",
       "      <th>V26</th>\n",
       "      <th>V27</th>\n",
       "      <th>V28</th>\n",
       "      <th>Amount</th>\n",
       "      <th>Class</th>\n",
       "      <th>transaction_id</th>\n",
       "      <th>splits</th>\n",
       "    </tr>\n",
       "  </thead>\n",
       "  <tbody>\n",
       "    <tr>\n",
       "      <th>0</th>\n",
       "      <td>7148</td>\n",
       "      <td>1.156386</td>\n",
       "      <td>0.193513</td>\n",
       "      <td>0.242220</td>\n",
       "      <td>0.660729</td>\n",
       "      <td>0.236144</td>\n",
       "      <td>0.311471</td>\n",
       "      <td>-0.088420</td>\n",
       "      <td>0.057844</td>\n",
       "      <td>1.123405</td>\n",
       "      <td>...</td>\n",
       "      <td>-0.051662</td>\n",
       "      <td>-0.262183</td>\n",
       "      <td>0.477870</td>\n",
       "      <td>0.556403</td>\n",
       "      <td>-0.046953</td>\n",
       "      <td>-0.021878</td>\n",
       "      <td>0.0</td>\n",
       "      <td>0</td>\n",
       "      <td>0eddc3ef-a61b-4fba-a3ab-0ed9a726dcf0</td>\n",
       "      <td>TEST</td>\n",
       "    </tr>\n",
       "    <tr>\n",
       "      <th>1</th>\n",
       "      <td>76311</td>\n",
       "      <td>-0.186529</td>\n",
       "      <td>0.545755</td>\n",
       "      <td>2.432618</td>\n",
       "      <td>3.266129</td>\n",
       "      <td>-0.784549</td>\n",
       "      <td>3.167033</td>\n",
       "      <td>-2.460489</td>\n",
       "      <td>-1.830983</td>\n",
       "      <td>0.389492</td>\n",
       "      <td>...</td>\n",
       "      <td>-0.400380</td>\n",
       "      <td>-1.265280</td>\n",
       "      <td>1.231000</td>\n",
       "      <td>0.749402</td>\n",
       "      <td>0.147862</td>\n",
       "      <td>0.187856</td>\n",
       "      <td>0.0</td>\n",
       "      <td>0</td>\n",
       "      <td>b1111e03-a559-4eb4-ab32-e3aea0072ef7</td>\n",
       "      <td>TEST</td>\n",
       "    </tr>\n",
       "    <tr>\n",
       "      <th>2</th>\n",
       "      <td>125139</td>\n",
       "      <td>1.879049</td>\n",
       "      <td>0.212473</td>\n",
       "      <td>-0.085529</td>\n",
       "      <td>3.554091</td>\n",
       "      <td>0.205505</td>\n",
       "      <td>1.188395</td>\n",
       "      <td>-0.672662</td>\n",
       "      <td>0.375249</td>\n",
       "      <td>-0.494351</td>\n",
       "      <td>...</td>\n",
       "      <td>0.131433</td>\n",
       "      <td>0.256023</td>\n",
       "      <td>-0.135450</td>\n",
       "      <td>0.048878</td>\n",
       "      <td>0.003082</td>\n",
       "      <td>-0.042219</td>\n",
       "      <td>0.0</td>\n",
       "      <td>0</td>\n",
       "      <td>0a0f4b69-01ee-436e-ae52-02237cd6433e</td>\n",
       "      <td>TEST</td>\n",
       "    </tr>\n",
       "    <tr>\n",
       "      <th>3</th>\n",
       "      <td>51632</td>\n",
       "      <td>1.264050</td>\n",
       "      <td>0.182193</td>\n",
       "      <td>0.020910</td>\n",
       "      <td>0.478060</td>\n",
       "      <td>-0.037823</td>\n",
       "      <td>-0.490973</td>\n",
       "      <td>0.166690</td>\n",
       "      <td>-0.130607</td>\n",
       "      <td>-0.157200</td>\n",
       "      <td>...</td>\n",
       "      <td>-0.167644</td>\n",
       "      <td>0.075563</td>\n",
       "      <td>0.698539</td>\n",
       "      <td>0.556361</td>\n",
       "      <td>-0.052595</td>\n",
       "      <td>-0.011799</td>\n",
       "      <td>0.0</td>\n",
       "      <td>0</td>\n",
       "      <td>ed678d6e-8dea-4d45-92b7-74e7eba22402</td>\n",
       "      <td>TEST</td>\n",
       "    </tr>\n",
       "  </tbody>\n",
       "</table>\n",
       "<p>4 rows × 33 columns</p>\n",
       "</div>"
      ],
      "text/plain": [
       "     Time        V1        V2        V3        V4        V5        V6  \\\n",
       "0    7148  1.156386  0.193513  0.242220  0.660729  0.236144  0.311471   \n",
       "1   76311 -0.186529  0.545755  2.432618  3.266129 -0.784549  3.167033   \n",
       "2  125139  1.879049  0.212473 -0.085529  3.554091  0.205505  1.188395   \n",
       "3   51632  1.264050  0.182193  0.020910  0.478060 -0.037823 -0.490973   \n",
       "\n",
       "         V7        V8        V9  ...       V23       V24       V25       V26  \\\n",
       "0 -0.088420  0.057844  1.123405  ... -0.051662 -0.262183  0.477870  0.556403   \n",
       "1 -2.460489 -1.830983  0.389492  ... -0.400380 -1.265280  1.231000  0.749402   \n",
       "2 -0.672662  0.375249 -0.494351  ...  0.131433  0.256023 -0.135450  0.048878   \n",
       "3  0.166690 -0.130607 -0.157200  ... -0.167644  0.075563  0.698539  0.556361   \n",
       "\n",
       "        V27       V28  Amount  Class                        transaction_id  \\\n",
       "0 -0.046953 -0.021878     0.0      0  0eddc3ef-a61b-4fba-a3ab-0ed9a726dcf0   \n",
       "1  0.147862  0.187856     0.0      0  b1111e03-a559-4eb4-ab32-e3aea0072ef7   \n",
       "2  0.003082 -0.042219     0.0      0  0a0f4b69-01ee-436e-ae52-02237cd6433e   \n",
       "3 -0.052595 -0.011799     0.0      0  ed678d6e-8dea-4d45-92b7-74e7eba22402   \n",
       "\n",
       "   splits  \n",
       "0    TEST  \n",
       "1    TEST  \n",
       "2    TEST  \n",
       "3    TEST  \n",
       "\n",
       "[4 rows x 33 columns]"
      ]
     },
     "execution_count": 8,
     "metadata": {},
     "output_type": "execute_result"
    }
   ],
   "source": [
    "pred = bigquery.query(query = f\"SELECT * FROM {DATANAME}.{DATANAME}_prepped WHERE splits='TEST' LIMIT 10\").to_dataframe()\n",
    "pred.head(4)"
   ]
  },
  {
   "cell_type": "code",
   "execution_count": 9,
   "id": "810f7588-9bea-47e4-a100-3049860d41d3",
   "metadata": {},
   "outputs": [
    {
     "data": {
      "text/plain": [
       "{'Time': '7148',\n",
       " 'V1': 1.1563856546850502,\n",
       " 'V2': 0.19351304694375798,\n",
       " 'V3': 0.24222013113132398,\n",
       " 'V4': 0.660729271767453,\n",
       " 'V5': 0.236144478904119,\n",
       " 'V6': 0.311470701249739,\n",
       " 'V7': -0.0884201179751894,\n",
       " 'V8': 0.0578444447798684,\n",
       " 'V9': 1.12340519250933,\n",
       " 'V10': -0.415125337823525,\n",
       " 'V11': 2.61390267388756,\n",
       " 'V12': -1.11995029301977,\n",
       " 'V13': 1.83257479990526,\n",
       " 'V14': 1.8000032869791698,\n",
       " 'V15': -0.9204892527570009,\n",
       " 'V16': -0.7715317776122379,\n",
       " 'V17': 1.00872209269001,\n",
       " 'V18': -0.8199387457522109,\n",
       " 'V19': -0.5106310991757079,\n",
       " 'V20': -0.201218353967519,\n",
       " 'V21': -0.107305238248846,\n",
       " 'V22': 0.153991860997963,\n",
       " 'V23': -0.0516623078695162,\n",
       " 'V24': -0.262182735306937,\n",
       " 'V25': 0.47786970630759795,\n",
       " 'V26': 0.556402927216063,\n",
       " 'V27': -0.0469529718093107,\n",
       " 'V28': -0.0218776763871274,\n",
       " 'Amount': 0.0}"
      ]
     },
     "execution_count": 9,
     "metadata": {},
     "output_type": "execute_result"
    }
   ],
   "source": [
    "newob = pred[pred.columns[~pred.columns.isin(VAR_OMIT.split()+[VAR_TARGET, 'splits'])]].to_dict(orient='records')[0]\n",
    "newob['Time'] = str(newob['Time'])\n",
    "newob"
   ]
  },
  {
   "cell_type": "markdown",
   "id": "bc17d748-e6e7-45c5-b6af-acaeb2823cfc",
   "metadata": {},
   "source": [
    "### Get Predictions: Python Client"
   ]
  },
  {
   "cell_type": "markdown",
   "id": "7e65e768-3bb9-45ca-a510-b1014f7f1015",
   "metadata": {},
   "source": [
    "Client Setup:"
   ]
  },
  {
   "cell_type": "code",
   "execution_count": 10,
   "id": "aa40bd9a-f1e4-4b4c-a912-c329f90859d8",
   "metadata": {},
   "outputs": [],
   "source": [
    "predictorClient = vertex.PredictionServiceClient(client_options = client_options)"
   ]
  },
  {
   "cell_type": "markdown",
   "id": "e1da5b8f-f66c-44e4-9d76-f3db1634dc2e",
   "metadata": {},
   "source": [
    "Instance Input:"
   ]
  },
  {
   "cell_type": "code",
   "execution_count": 11,
   "id": "290c2d40-a1ab-4d5c-a132-11889f8c6dd4",
   "metadata": {},
   "outputs": [],
   "source": [
    "instances = [json_format.ParseDict(newob, Value())]"
   ]
  },
  {
   "cell_type": "markdown",
   "id": "2cf6ed4f-8a8e-4d79-8b8c-c6fd0cfed5bf",
   "metadata": {},
   "source": [
    "Get Prediction:"
   ]
  },
  {
   "cell_type": "code",
   "execution_count": 12,
   "id": "14a7c639-0e33-4ed4-b60c-8db275ed716e",
   "metadata": {},
   "outputs": [
    {
     "data": {
      "text/plain": [
       "predictions {\n",
       "  struct_value {\n",
       "    fields {\n",
       "      key: \"classes\"\n",
       "      value {\n",
       "        list_value {\n",
       "          values {\n",
       "            string_value: \"0\"\n",
       "          }\n",
       "          values {\n",
       "            string_value: \"1\"\n",
       "          }\n",
       "        }\n",
       "      }\n",
       "    }\n",
       "    fields {\n",
       "      key: \"scores\"\n",
       "      value {\n",
       "        list_value {\n",
       "          values {\n",
       "            number_value: 0.9181194305419922\n",
       "          }\n",
       "          values {\n",
       "            number_value: 0.08188050240278244\n",
       "          }\n",
       "        }\n",
       "      }\n",
       "    }\n",
       "  }\n",
       "}\n",
       "deployed_model_id: \"4955340576712032256\"\n",
       "model: \"projects/715288179162/locations/us-central1/models/5979693987659776000\"\n",
       "model_display_name: \"02a_202215193614\""
      ]
     },
     "execution_count": 12,
     "metadata": {},
     "output_type": "execute_result"
    }
   ],
   "source": [
    "prediction = predictorClient.predict(endpoint = endpoint.name, instances = instances)\n",
    "prediction"
   ]
  },
  {
   "cell_type": "markdown",
   "id": "22290a94-3931-42c2-b4aa-125cc3abe519",
   "metadata": {},
   "source": [
    "## Start Monitoring"
   ]
  },
  {
   "cell_type": "markdown",
   "id": "dcb29ea0-c613-4149-9c7f-0dd2a2d7d465",
   "metadata": {},
   "source": [
    "Setup a BigQuery view of just the training data:"
   ]
  },
  {
   "cell_type": "code",
   "execution_count": 13,
   "id": "39eb0e15-ba60-41f4-bd2e-409c970f5d2d",
   "metadata": {},
   "outputs": [],
   "source": [
    "query = f\"\"\"\n",
    "CREATE OR REPLACE VIEW `{PROJECT_ID}.{DATANAME}.{DATANAME}_prepped_trainingView` AS\n",
    "SELECT * EXCEPT(splits, {VAR_OMIT.replace(' ',',')}) FROM `{PROJECT_ID}.{DATANAME}.{DATANAME}_prepped`\n",
    "WHERE splits = 'TRAIN'\n",
    "\"\"\"\n",
    "createView = bigquery.query(query)"
   ]
  },
  {
   "cell_type": "markdown",
   "id": "d5e7bbab-ac0a-4ead-8bab-a980c35795dc",
   "metadata": {},
   "source": [
    "Get a list of column names (features) in the training data:"
   ]
  },
  {
   "cell_type": "code",
   "execution_count": 14,
   "id": "605c5133-dd07-4ec6-86b8-355a46c28797",
   "metadata": {},
   "outputs": [
    {
     "data": {
      "text/plain": [
       "['Time',\n",
       " 'V1',\n",
       " 'V2',\n",
       " 'V3',\n",
       " 'V4',\n",
       " 'V5',\n",
       " 'V6',\n",
       " 'V7',\n",
       " 'V8',\n",
       " 'V9',\n",
       " 'V10',\n",
       " 'V11',\n",
       " 'V12',\n",
       " 'V13',\n",
       " 'V14',\n",
       " 'V15',\n",
       " 'V16',\n",
       " 'V17',\n",
       " 'V18',\n",
       " 'V19',\n",
       " 'V20',\n",
       " 'V21',\n",
       " 'V22',\n",
       " 'V23',\n",
       " 'V24',\n",
       " 'V25',\n",
       " 'V26',\n",
       " 'V27',\n",
       " 'V28',\n",
       " 'Amount']"
      ]
     },
     "execution_count": 14,
     "metadata": {},
     "output_type": "execute_result"
    }
   ],
   "source": [
    "query = f\"SELECT column_name, data_type FROM {DATANAME}.INFORMATION_SCHEMA.COLUMNS WHERE TABLE_NAME = '{DATANAME}_prepped_trainingView' and column_name != '{VAR_TARGET}'\"\n",
    "schema = bigquery.query(query).to_dataframe()\n",
    "features = schema.column_name.tolist()\n",
    "features"
   ]
  },
  {
   "cell_type": "markdown",
   "id": "77eeda72-fa81-4bb0-99eb-37cb42b1f634",
   "metadata": {},
   "source": [
    "### Setup Monitoring Client"
   ]
  },
  {
   "cell_type": "code",
   "execution_count": 15,
   "id": "12d8c82b-cb70-4cff-95c8-2f850437e9c9",
   "metadata": {},
   "outputs": [],
   "source": [
    "monitorClient = vertex.JobServiceClient(client_options = client_options)"
   ]
  },
  {
   "cell_type": "markdown",
   "id": "b61e6a17-e1b6-43fb-87c0-560a4ff84bda",
   "metadata": {
    "tags": []
   },
   "source": [
    "### Setup Monitoring Job\n",
    "\n",
    "Links to Python API:\n",
    "- [aiplatform.gapic.JobServiceClient](https://googleapis.dev/python/aiplatform/latest/aiplatform_v1/job_service.html#google.cloud.aiplatform_v1.services.job_service.JobServiceClient)\n",
    "    - [.create_model_deployment_monitoring_job](https://googleapis.dev/python/aiplatform/latest/aiplatform_v1/job_service.html#google.cloud.aiplatform_v1.services.job_service.JobServiceClient.create_model_deployment_monitoring_job)\n",
    "        - [model_deployment_monitoring_job = aiplatform.gapic.types.ModelDeploymentMonitoringJob](https://googleapis.dev/python/aiplatform/latest/aiplatform_v1/types.html#google.cloud.aiplatform_v1.types.ModelDeploymentMonitoringJob)\n",
    "            - [model_deployment_monitoring_objective_configs = aiplatform.gapic.types.ModelDeploymentMonitoringObjectiveConfig](https://googleapis.dev/python/aiplatform/latest/aiplatform_v1/types.html#google.cloud.aiplatform_v1.types.ModelDeploymentMonitoringObjectiveConfig)\n",
    "                - [objective_config = aiplatform.gapic.types.ModelMonitoringObjectiveConfig](https://googleapis.dev/python/aiplatform/latest/aiplatform_v1/types.html#google.cloud.aiplatform_v1.types.ModelMonitoringObjectiveConfig)\n",
    "                    - [training_dataset = aiplatform.gapic.types.ModelMonitoringObjetiveConfig.TrainingDataset](https://googleapis.dev/python/aiplatform/latest/aiplatform_v1/types.html#google.cloud.aiplatform_v1.types.ModelMonitoringObjectiveConfig.TrainingDataset)\n",
    "                    - [training_prediction_skew_detection_config = aiplatform.gapic.types.ModelMonitoringObjectiveConfig.TrainingPredictionsSkewDetectionConfig](https://googleapis.dev/python/aiplatform/latest/aiplatform_v1/types.html#google.cloud.aiplatform_v1.types.ModelMonitoringObjectiveConfig.TrainingPredictionSkewDetectionConfig)\n",
    "                    - [prediction_drift_detection_config = aiplatform.gapic.types.ModelMonitoringObjectiveConfig.PredictionDriftDetectionConfig](https://googleapis.dev/python/aiplatform/latest/aiplatform_v1/types.html#google.cloud.aiplatform_v1.types.ModelMonitoringObjectiveConfig.PredictionDriftDetectionConfig)\n",
    "            - [logging_sampling_strategy = aiplatform.gapic.types.SamplingStrategy](https://googleapis.dev/python/aiplatform/latest/aiplatform_v1/types.html#google.cloud.aiplatform_v1.types.SamplingStrategy)\n",
    "                - [random_sample_config = aiplatform.gapic.types.SamplingStrategy.RandomSampleConfig](https://googleapis.dev/python/aiplatform/latest/aiplatform_v1/types.html#google.cloud.aiplatform_v1.types.SamplingStrategy.RandomSampleConfig)\n",
    "            - [model_deployment_monitoring_schedule_config = aiplatform.gapic.types.ModelMonitoringAlertConfig](https://googleapis.dev/python/aiplatform/latest/aiplatform_v1/types.html#google.cloud.aiplatform_v1.types.ModelDeploymentMonitoringScheduleConfig)\n",
    "            - [model_monitoring_alert_config = aiplatform.gapic.types.ModelMonitoringAlertConfig](https://googleapis.dev/python/aiplatform/latest/aiplatform_v1/types.html#google.cloud.aiplatform_v1.types.ModelMonitoringAlertConfig)\n",
    "                - [email_alert_config = aiplatform.gapic.types.ModelMonitoringAlertConfig.EmailAlertConfig]()"
   ]
  },
  {
   "cell_type": "code",
   "execution_count": 16,
   "id": "ffd0f0b9-7c8b-468e-8d76-720eaec2a0ac",
   "metadata": {},
   "outputs": [],
   "source": [
    "USER_EMAIL = \"foo@foobar.com\" # send alerts here\n",
    "MONITOR_INTERVAL = 3600 # seconds, intervals are round up to nearest hour\n",
    "SKEW_DEFAULT_THRESHOLD_VALUE = 0.001 # very low for demonstration\n",
    "DRIFT_DEFAULT_THRESHOLD_VALUE = 0.001 # very low for demonstration\n",
    "SAMPLE_RATE = 1 # percent of prediction to monitor\n",
    "FEATURES_TO_MONITOR = features[-5:]\n",
    "\n",
    "skew_thresholds, drift_thresholds = {}, {}\n",
    "for feature in FEATURES_TO_MONITOR:\n",
    "    skew_thresholds[feature] = vertex.types.ThresholdConfig(value = SKEW_DEFAULT_THRESHOLD_VALUE)\n",
    "    drift_thresholds[feature] = vertex.types.ThresholdConfig(value = DRIFT_DEFAULT_THRESHOLD_VALUE)\n",
    "skew_config = vertex.types.ModelMonitoringObjectiveConfig.TrainingPredictionSkewDetectionConfig(\n",
    "    skew_thresholds = skew_thresholds\n",
    ")    \n",
    "drift_config = vertex.types.ModelMonitoringObjectiveConfig.PredictionDriftDetectionConfig(\n",
    "    drift_thresholds = drift_thresholds\n",
    ")\n",
    "    \n",
    "training_dataset = vertex.types.ModelMonitoringObjectiveConfig.TrainingDataset(\n",
    "    target_field = VAR_TARGET,\n",
    "    bigquery_source = vertex.types.BigQuerySource(input_uri = f\"bq://{PROJECT_ID}.{DATANAME}.{DATANAME}_prepped_trainingView\")\n",
    ")\n",
    "\n",
    "\n",
    "objective_config = vertex.types.ModelMonitoringObjectiveConfig(\n",
    "    training_dataset = training_dataset,\n",
    "    training_prediction_skew_detection_config = skew_config,\n",
    "    prediction_drift_detection_config = drift_config\n",
    ")\n",
    "\n",
    "# list of models deployed to endpoint\n",
    "models = [m.id for m in endpoint.deployed_models]\n",
    "\n",
    "objective_template = vertex.types.ModelDeploymentMonitoringObjectiveConfig(\n",
    "    objective_config = objective_config\n",
    ")\n",
    "\n",
    "objective_configs = []\n",
    "for model_id in models:\n",
    "    objective_config = copy.deepcopy(objective_template)\n",
    "    objective_config.deployed_model_id = model_id\n",
    "    objective_configs.append(objective_config)\n",
    "\n",
    "random_sampling = vertex.types.SamplingStrategy.RandomSampleConfig(sample_rate = SAMPLE_RATE)\n",
    "sampling_config = vertex.types.SamplingStrategy(random_sample_config = random_sampling)\n",
    "schedule_config = vertex.types.ModelDeploymentMonitoringScheduleConfig(monitor_interval = Duration(seconds = MONITOR_INTERVAL))\n",
    "alerting_config = vertex.types.ModelMonitoringAlertConfig(\n",
    "    email_alert_config = vertex.types.ModelMonitoringAlertConfig.EmailAlertConfig(user_emails = [USER_EMAIL])\n",
    ")\n",
    "predict_schema = \"\"\n",
    "analysis_schema = \"\"\n",
    "\n",
    "monitorJob = vertex.types.ModelDeploymentMonitoringJob(\n",
    "    display_name = f'{NOTEBOOK}_{DATANAME}',\n",
    "    endpoint = endpoint.name,\n",
    "    model_deployment_monitoring_objective_configs = objective_configs,\n",
    "    logging_sampling_strategy = sampling_config,\n",
    "    model_deployment_monitoring_schedule_config = schedule_config,\n",
    "    model_monitoring_alert_config = alerting_config,\n",
    "    predict_instance_schema_uri = predict_schema,\n",
    "    analysis_instance_schema_uri = analysis_schema\n",
    ")"
   ]
  },
  {
   "cell_type": "markdown",
   "id": "d35500d9-2a16-45f9-9fd3-f658c34fc9e4",
   "metadata": {},
   "source": [
    "Run Job:"
   ]
  },
  {
   "cell_type": "code",
   "execution_count": 17,
   "id": "c3054f81-e11a-451c-b967-ec2a15ed13ee",
   "metadata": {},
   "outputs": [],
   "source": [
    "response = monitorClient.create_model_deployment_monitoring_job(\n",
    "    parent = f\"projects/{PROJECT_ID}/locations/{REGION}\", \n",
    "    model_deployment_monitoring_job = monitorJob\n",
    ")"
   ]
  },
  {
   "cell_type": "markdown",
   "id": "e5095669-8be1-42fc-93ea-930d9e3bf091",
   "metadata": {},
   "source": [
    "The job will start completes it's initial run:\n",
    "- Receive a confirmation email at the alert email provided\n",
    "- Creates a BigQuery dataset and table for Model Monitoring Data\n",
    "- Adds Model Monitoring the Endpoint in the Vertex AI Console\n",
    "\n",
    "|Email Alert|BigQuery Dataset Setup|Endpoint Monitoring|\n",
    ":---:|:---:|:---:\n",
    "![](./architectures/notebooks/06a_screenshots/email_start.png)|![](./architectures/notebooks/06a_screenshots/bq_start.png)|![](./architectures/notebooks/06a_screenshots/endpoint_start.png)"
   ]
  },
  {
   "cell_type": "markdown",
   "id": "35c240e5-4b44-479d-a3ee-ca2e21a6495b",
   "metadata": {
    "tags": []
   },
   "source": [
    "## Run Predictions with Training Data for 5 Minutes"
   ]
  },
  {
   "cell_type": "markdown",
   "id": "840fbdc3-974a-44cc-838c-5024ee23c562",
   "metadata": {},
   "source": [
    "Get Training Data:"
   ]
  },
  {
   "cell_type": "code",
   "execution_count": 19,
   "id": "4a8824a2-083e-4e27-bc2a-496d3924c911",
   "metadata": {},
   "outputs": [],
   "source": [
    "training = bigquery.query(query = f\"SELECT * EXCEPT({VAR_TARGET}) FROM {DATANAME}.{DATANAME}_prepped_trainingView\").to_dataframe()\n",
    "training['Time'] = training['Time'].astype(str)"
   ]
  },
  {
   "cell_type": "code",
   "execution_count": 20,
   "id": "9953ffa2-70d0-4e14-a0a2-925f18e96995",
   "metadata": {},
   "outputs": [],
   "source": [
    "runMinutes = 5\n",
    "end = time.time() + 60 * runMinutes\n",
    "\n",
    "while time.time() < end:\n",
    "    newob = training.sample(n=1).to_dict(orient='records')[0]\n",
    "    prediction = predictorClient.predict(endpoint = endpoint.name, instances = [json_format.ParseDict(newob, Value())])"
   ]
  },
  {
   "cell_type": "markdown",
   "id": "2c40dcb5-1cbb-4602-bd26-fe8625064eb1",
   "metadata": {},
   "source": [
    "The predictions run, about 1500 per minute, and gets logged to the BigQuery dataset:\n",
    "\n",
    "![](./architectures/notebooks/06a_screenshots/bq_predictions.png)"
   ]
  },
  {
   "cell_type": "markdown",
   "id": "f0f7bec9-810b-4e58-8999-c1f4a1c9df86",
   "metadata": {},
   "source": [
    "### Wait for next Monitoring Job Run (less than an hour)\n",
    "Check for alerts\n",
    "- Receive email about alerts after job runs\n",
    "- Adds alerts to Model Monitoring of the Endpoint in the Vertex AI Console\n",
    "\n",
    "|Email Alert|Endpoint Monitoring Alert|\n",
    ":---:|:---:\n",
    "![](./architectures/notebooks/06a_screenshots/email_alert1.png)|![](./architectures/notebooks/06a_screenshots/endpoint_alert1.png)"
   ]
  },
  {
   "cell_type": "markdown",
   "id": "adebe73a-dfa7-4936-9bb7-33003bcc4e47",
   "metadata": {},
   "source": [
    "## Run Predictions with Test Data for 5 Minutes"
   ]
  },
  {
   "cell_type": "markdown",
   "id": "707baa2c-d0ac-4ab6-adc8-e0900499e9b0",
   "metadata": {},
   "source": [
    "Get Test Data:"
   ]
  },
  {
   "cell_type": "code",
   "execution_count": 21,
   "id": "c84c6836-1ff9-4424-8c17-92135793ae22",
   "metadata": {},
   "outputs": [],
   "source": [
    "test = bigquery.query(query = f\"SELECT * EXCEPT(splits, {VAR_TARGET}, {VAR_OMIT.replace(' ',',')}) FROM {DATANAME}.{DATANAME}_prepped WHERE splits = 'TEST'\").to_dataframe()\n",
    "test['Time'] = test['Time'].astype(str)"
   ]
  },
  {
   "cell_type": "code",
   "execution_count": 22,
   "id": "ae19c387-344c-45eb-aa3f-8dc69c24be1d",
   "metadata": {},
   "outputs": [],
   "source": [
    "runMinutes = 5\n",
    "end = time.time() + 60 * runMinutes\n",
    "\n",
    "while time.time() < end:\n",
    "    newob = test.sample(n=1).to_dict(orient='records')[0]\n",
    "    prediction = predictorClient.predict(endpoint = endpoint.name, instances = [json_format.ParseDict(newob, Value())])"
   ]
  },
  {
   "cell_type": "markdown",
   "id": "e7c96f55-3c18-4e8a-aa07-64c55686ba44",
   "metadata": {},
   "source": [
    "The predictions run, about 1500 per minute, and gets logged (added/inserted) to the BigQuery dataset table"
   ]
  },
  {
   "cell_type": "markdown",
   "id": "0092b3ef-9d6e-4419-8dba-9fc8710773a2",
   "metadata": {},
   "source": [
    "### Wait for next Monitoring Job Run (less than an hour)\n",
    "Check for alerts\n",
    "- Receive email about alerts after job runs\n",
    "- Adds alerts to Model Monitoring of the Endpoint in the Vertex AI Console\n",
    "\n",
    "|Email Alert|Endpoint Monitoring Alert|\n",
    ":---:|:---:\n",
    "![](./architectures/notebooks/06a_screenshots/email_alert2.png)|![](./architectures/notebooks/06a_screenshots/endpoint_alert2.png)"
   ]
  },
  {
   "cell_type": "markdown",
   "id": "94297b85-92d4-429e-943c-f8ab75a34bdb",
   "metadata": {},
   "source": [
    "## Extended Predictions Run with Noise: 8 Hours, Progressive Drift"
   ]
  },
  {
   "cell_type": "code",
   "execution_count": 57,
   "id": "658ba6ab-ac36-457f-9b5b-af26d250cf2d",
   "metadata": {},
   "outputs": [],
   "source": [
    "runHours = 8\n",
    "runMinutes = 60 * runHours \n",
    "end = time.time() + 60 * runMinutes\n",
    "\n",
    "while time.time() < end:\n",
    "    newob = test.sample(n=1).to_dict(orient='records')[0]\n",
    "    # add noise here\n",
    "    if (runHours*np.random.uniform(0,1)) <= (runHours-((end-time.time())/3600)): # random (0,runHours) <= hoursElapsed\n",
    "        newob['Amount'] = newob['Amount'] + np.abs(np.random.normal(0, 250.12))\n",
    "    prediction = predictorClient.predict(endpoint = endpoint.name, instances = [json_format.ParseDict(newob, Value())])"
   ]
  },
  {
   "cell_type": "markdown",
   "id": "e4c0ce2b-e558-4bfc-8a10-3cbe36a81b93",
   "metadata": {},
   "source": [
    "### Evaluate Drift In Console:\n",
    "\n",
    "|Amount (at start)|Amount (8 hours later)|\n",
    ":---:|:---:\n",
    "![](./architectures/notebooks/06a_screenshots/amount_1.png)|![](./architectures/notebooks/06a_screenshots/amount_2.png)"
   ]
  },
  {
   "cell_type": "markdown",
   "id": "761749cb-2e3b-424d-9318-0e0aeb6db69e",
   "metadata": {},
   "source": [
    "### Monitoring The Endpoint\n",
    "\n",
    "![](./architectures/notebooks/06a_screenshots/endpoint_monitor2.png)"
   ]
  },
  {
   "cell_type": "markdown",
   "id": "5d1ae282-2f52-47a5-a4ba-3427763751ba",
   "metadata": {},
   "source": [
    "## Delete Monitoring Job"
   ]
  },
  {
   "cell_type": "code",
   "execution_count": 229,
   "id": "c24fdc49-1d25-494e-95d2-b86f8c4309eb",
   "metadata": {},
   "outputs": [
    {
     "data": {
      "text/plain": [
       "'projects/715288179162/locations/us-central1/modelDeploymentMonitoringJobs/8463010268224421888'"
      ]
     },
     "execution_count": 229,
     "metadata": {},
     "output_type": "execute_result"
    }
   ],
   "source": [
    "response.name"
   ]
  },
  {
   "cell_type": "code",
   "execution_count": 230,
   "id": "239ee560-443e-48a0-946b-f63af54ee5f8",
   "metadata": {},
   "outputs": [],
   "source": [
    "pause = monitorClient.pause_model_deployment_monitoring_job(\n",
    "    name = response.name\n",
    ")"
   ]
  },
  {
   "cell_type": "code",
   "execution_count": 231,
   "id": "b5e192a0-15da-4db6-b2a4-998321cdf08b",
   "metadata": {},
   "outputs": [],
   "source": [
    "remove = monitorClient.delete_model_deployment_monitoring_job(\n",
    "       name = response.name\n",
    ")"
   ]
  },
  {
   "cell_type": "code",
   "execution_count": 232,
   "id": "2a0e083e-a076-4e76-9102-4292d5fe6ec5",
   "metadata": {},
   "outputs": [
    {
     "data": {
      "text/plain": [
       "{'_retry': <google.api_core.retry.Retry at 0x7ffb4a2b0110>,\n",
       " '_result': ,\n",
       " '_exception': None,\n",
       " '_result_set': True,\n",
       " '_polling_thread': None,\n",
       " '_done_callbacks': [],\n",
       " '_operation': name: \"projects/715288179162/locations/us-central1/operations/2313307112618328064\"\n",
       " metadata {\n",
       "   type_url: \"type.googleapis.com/google.cloud.aiplatform.v1.DeleteOperationMetadata\"\n",
       "   value: \"\\n\\032\\022\\013\\010\\341\\266\\337\\220\\006\\020\\220\\210\\233`\\032\\013\\010\\341\\266\\337\\220\\006\\020\\220\\210\\233`\"\n",
       " }\n",
       " done: true\n",
       " response {\n",
       "   type_url: \"type.googleapis.com/google.protobuf.Empty\"\n",
       " },\n",
       " '_refresh': functools.partial(<bound method OperationsClient.get_operation of <google.api_core.operations_v1.operations_client.OperationsClient object at 0x7ffb480e45d0>>, 'projects/715288179162/locations/us-central1/operations/2313307112618328064', metadata=None),\n",
       " '_cancel': functools.partial(<bound method OperationsClient.cancel_operation of <google.api_core.operations_v1.operations_client.OperationsClient object at 0x7ffb480e45d0>>, 'projects/715288179162/locations/us-central1/operations/2313307112618328064', metadata=None),\n",
       " '_result_type': google.protobuf.empty_pb2.Empty,\n",
       " '_metadata_type': google.cloud.aiplatform_v1.types.operation.DeleteOperationMetadata,\n",
       " '_completion_lock': <unlocked _thread.lock object at 0x7ffb4816b4e0>}"
      ]
     },
     "execution_count": 232,
     "metadata": {},
     "output_type": "execute_result"
    }
   ],
   "source": [
    "remove.__dict__"
   ]
  },
  {
   "cell_type": "markdown",
   "id": "b59522c0-09e0-4580-900c-86df21bd21d7",
   "metadata": {},
   "source": [
    "## ToDo:\n",
    "- Update the Monitoring Job\n",
    "- Add feature attribution\n",
    "- Add Batch Prediction\n",
    "- FS integration"
   ]
  },
  {
   "cell_type": "code",
   "execution_count": null,
   "id": "8aabcd40-e8e9-44ae-8683-ddbf8a9e39c7",
   "metadata": {},
   "outputs": [],
   "source": []
  }
 ],
 "metadata": {
  "environment": {
   "kernel": "python3",
   "name": "tf2-gpu.2-7.m87",
   "type": "gcloud",
   "uri": "gcr.io/deeplearning-platform-release/tf2-gpu.2-7:m87"
  },
  "kernelspec": {
   "display_name": "Python 3",
   "language": "python",
   "name": "python3"
  },
  "language_info": {
   "codemirror_mode": {
    "name": "ipython",
    "version": 3
   },
   "file_extension": ".py",
   "mimetype": "text/x-python",
   "name": "python",
   "nbconvert_exporter": "python",
   "pygments_lexer": "ipython3",
   "version": "3.7.12"
  }
 },
 "nbformat": 4,
 "nbformat_minor": 5
}
