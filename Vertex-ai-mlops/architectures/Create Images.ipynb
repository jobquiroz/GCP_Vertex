{
 "cells": [
  {
   "cell_type": "markdown",
   "id": "9b1be994",
   "metadata": {},
   "source": [
    "# Convert PDF of gSlides to Images (PNG)\n",
    "- store 'architectures.pdf' in /vertex-ai-mlops/architectures\n",
    "- run this notebook in /vertext-ai-mlops/architectures\n",
    "- slides are stored as slide_X.png in /vertext-ai-mlops/architectures/slides\n",
    "- thumbnails are stored as tn_X.png in /vertext-ai-mlops/architectures/thumbnails (/plain, /prepared, and /playbutton)"
   ]
  },
  {
   "cell_type": "markdown",
   "id": "def6b959-71b2-4330-8089-940381b8d4fc",
   "metadata": {},
   "source": [
    "---\n",
    "## Setup"
   ]
  },
  {
   "cell_type": "code",
   "execution_count": 1,
   "id": "cd3e42a3",
   "metadata": {},
   "outputs": [
    {
     "name": "stdout",
     "output_type": "stream",
     "text": [
      "'Create Images.ipynb'   notebooks   overview   slides   thumbnails\n"
     ]
    }
   ],
   "source": [
    "!ls"
   ]
  },
  {
   "cell_type": "code",
   "execution_count": 2,
   "id": "bf5e699b",
   "metadata": {},
   "outputs": [],
   "source": [
    "!pip install pdf2image -q -U"
   ]
  },
  {
   "cell_type": "code",
   "execution_count": 3,
   "id": "770b647b",
   "metadata": {},
   "outputs": [
    {
     "name": "stdout",
     "output_type": "stream",
     "text": [
      "Collecting package metadata (current_repodata.json): ...working... done\n",
      "Solving environment: ...working... done\n",
      "\n",
      "## Package Plan ##\n",
      "\n",
      "  environment location: /opt/conda\n",
      "\n",
      "  added / updated specs:\n",
      "    - poppler\n",
      "\n",
      "\n",
      "The following packages will be downloaded:\n",
      "\n",
      "    package                    |            build\n",
      "    ---------------------------|-----------------\n",
      "    boost-cpp-1.74.0           |       h312852a_4        16.3 MB  conda-forge\n",
      "    bzip2-1.0.8                |       h7f98852_4         484 KB  conda-forge\n",
      "    cairo-1.16.0               |    h6cf1ce9_1008         1.5 MB  conda-forge\n",
      "    font-ttf-dejavu-sans-mono-2.37|       hab24e00_0         388 KB  conda-forge\n",
      "    font-ttf-inconsolata-3.000 |       h77eed37_0          94 KB  conda-forge\n",
      "    font-ttf-source-code-pro-2.038|       h77eed37_0         684 KB  conda-forge\n",
      "    font-ttf-ubuntu-0.83       |       hab24e00_0         1.9 MB  conda-forge\n",
      "    fontconfig-2.13.94         |       ha180cfb_0         323 KB  conda-forge\n",
      "    fonts-conda-ecosystem-1    |                0           4 KB  conda-forge\n",
      "    fonts-conda-forge-1        |                0           4 KB  conda-forge\n",
      "    gettext-0.19.8.1           |    h73d1719_1008         3.6 MB  conda-forge\n",
      "    krb5-1.19.2                |       hcc1bbae_3         1.4 MB  conda-forge\n",
      "    libcurl-7.81.0             |       h2574ce0_0         338 KB  conda-forge\n",
      "    libedit-3.1.20191231       |       he28a2e2_2         121 KB  conda-forge\n",
      "    libev-4.33                 |       h516909a_1         104 KB  conda-forge\n",
      "    libglib-2.70.2             |       h174f98d_2         3.1 MB  conda-forge\n",
      "    libiconv-1.16              |       h516909a_0         1.4 MB  conda-forge\n",
      "    libnghttp2-1.46.0          |       h812cca2_0         806 KB  conda-forge\n",
      "    libssh2-1.10.0             |       ha56f1ee_2         233 KB  conda-forge\n",
      "    libuuid-2.32.1             |    h7f98852_1000          28 KB  conda-forge\n",
      "    libxcb-1.13                |    h7f98852_1004         391 KB  conda-forge\n",
      "    libxml2-2.9.12             |       h72842e0_0         772 KB  conda-forge\n",
      "    nspr-4.32                  |       h9c3ff4c_1         233 KB  conda-forge\n",
      "    nss-3.74                   |       hb5efdd6_0         2.1 MB  conda-forge\n",
      "    pcre-8.45                  |       h9c3ff4c_0         253 KB  conda-forge\n",
      "    pixman-0.40.0              |       h36c2ea0_0         627 KB  conda-forge\n",
      "    poppler-22.01.0            |       ha39eefc_0        21.5 MB  conda-forge\n",
      "    poppler-data-0.4.11        |       hd8ed1ab_0         3.6 MB  conda-forge\n",
      "    pthread-stubs-0.4          |    h36c2ea0_1001           5 KB  conda-forge\n",
      "    xorg-kbproto-1.0.7         |    h7f98852_1002          27 KB  conda-forge\n",
      "    xorg-libice-1.0.10         |       h7f98852_0          58 KB  conda-forge\n",
      "    xorg-libsm-1.2.3           |    hd9c2040_1000          26 KB  conda-forge\n",
      "    xorg-libx11-1.7.2          |       h7f98852_0         941 KB  conda-forge\n",
      "    xorg-libxau-1.0.9          |       h7f98852_0          13 KB  conda-forge\n",
      "    xorg-libxdmcp-1.1.3        |       h7f98852_0          19 KB  conda-forge\n",
      "    xorg-libxext-1.3.4         |       h7f98852_1          54 KB  conda-forge\n",
      "    xorg-libxrender-0.9.10     |    h7f98852_1003          32 KB  conda-forge\n",
      "    xorg-renderproto-0.11.1    |    h7f98852_1002           9 KB  conda-forge\n",
      "    xorg-xextproto-7.3.0       |    h7f98852_1002          28 KB  conda-forge\n",
      "    xorg-xproto-7.0.31         |    h7f98852_1007          73 KB  conda-forge\n",
      "    ------------------------------------------------------------\n",
      "                                           Total:        63.4 MB\n",
      "\n",
      "The following NEW packages will be INSTALLED:\n",
      "\n",
      "  boost-cpp          conda-forge/linux-64::boost-cpp-1.74.0-h312852a_4\n",
      "  bzip2              conda-forge/linux-64::bzip2-1.0.8-h7f98852_4\n",
      "  cairo              conda-forge/linux-64::cairo-1.16.0-h6cf1ce9_1008\n",
      "  font-ttf-dejavu-s~ conda-forge/noarch::font-ttf-dejavu-sans-mono-2.37-hab24e00_0\n",
      "  font-ttf-inconsol~ conda-forge/noarch::font-ttf-inconsolata-3.000-h77eed37_0\n",
      "  font-ttf-source-c~ conda-forge/noarch::font-ttf-source-code-pro-2.038-h77eed37_0\n",
      "  font-ttf-ubuntu    conda-forge/noarch::font-ttf-ubuntu-0.83-hab24e00_0\n",
      "  fontconfig         conda-forge/linux-64::fontconfig-2.13.94-ha180cfb_0\n",
      "  fonts-conda-ecosy~ conda-forge/noarch::fonts-conda-ecosystem-1-0\n",
      "  fonts-conda-forge  conda-forge/noarch::fonts-conda-forge-1-0\n",
      "  gettext            conda-forge/linux-64::gettext-0.19.8.1-h73d1719_1008\n",
      "  krb5               conda-forge/linux-64::krb5-1.19.2-hcc1bbae_3\n",
      "  libcurl            conda-forge/linux-64::libcurl-7.81.0-h2574ce0_0\n",
      "  libedit            conda-forge/linux-64::libedit-3.1.20191231-he28a2e2_2\n",
      "  libev              conda-forge/linux-64::libev-4.33-h516909a_1\n",
      "  libglib            conda-forge/linux-64::libglib-2.70.2-h174f98d_2\n",
      "  libiconv           conda-forge/linux-64::libiconv-1.16-h516909a_0\n",
      "  libnghttp2         conda-forge/linux-64::libnghttp2-1.46.0-h812cca2_0\n",
      "  libssh2            conda-forge/linux-64::libssh2-1.10.0-ha56f1ee_2\n",
      "  libuuid            conda-forge/linux-64::libuuid-2.32.1-h7f98852_1000\n",
      "  libxcb             conda-forge/linux-64::libxcb-1.13-h7f98852_1004\n",
      "  libxml2            conda-forge/linux-64::libxml2-2.9.12-h72842e0_0\n",
      "  nspr               conda-forge/linux-64::nspr-4.32-h9c3ff4c_1\n",
      "  nss                conda-forge/linux-64::nss-3.74-hb5efdd6_0\n",
      "  pcre               conda-forge/linux-64::pcre-8.45-h9c3ff4c_0\n",
      "  pixman             conda-forge/linux-64::pixman-0.40.0-h36c2ea0_0\n",
      "  poppler            conda-forge/linux-64::poppler-22.01.0-ha39eefc_0\n",
      "  poppler-data       conda-forge/noarch::poppler-data-0.4.11-hd8ed1ab_0\n",
      "  pthread-stubs      conda-forge/linux-64::pthread-stubs-0.4-h36c2ea0_1001\n",
      "  xorg-kbproto       conda-forge/linux-64::xorg-kbproto-1.0.7-h7f98852_1002\n",
      "  xorg-libice        conda-forge/linux-64::xorg-libice-1.0.10-h7f98852_0\n",
      "  xorg-libsm         conda-forge/linux-64::xorg-libsm-1.2.3-hd9c2040_1000\n",
      "  xorg-libx11        conda-forge/linux-64::xorg-libx11-1.7.2-h7f98852_0\n",
      "  xorg-libxau        conda-forge/linux-64::xorg-libxau-1.0.9-h7f98852_0\n",
      "  xorg-libxdmcp      conda-forge/linux-64::xorg-libxdmcp-1.1.3-h7f98852_0\n",
      "  xorg-libxext       conda-forge/linux-64::xorg-libxext-1.3.4-h7f98852_1\n",
      "  xorg-libxrender    conda-forge/linux-64::xorg-libxrender-0.9.10-h7f98852_1003\n",
      "  xorg-renderproto   conda-forge/linux-64::xorg-renderproto-0.11.1-h7f98852_1002\n",
      "  xorg-xextproto     conda-forge/linux-64::xorg-xextproto-7.3.0-h7f98852_1002\n",
      "  xorg-xproto        conda-forge/linux-64::xorg-xproto-7.0.31-h7f98852_1007\n",
      "\n",
      "\n",
      "Preparing transaction: ...working... done\n",
      "Verifying transaction: ...working... done\n",
      "Executing transaction: ...working... done\n"
     ]
    }
   ],
   "source": [
    "!conda install -c conda-forge poppler -y -q"
   ]
  },
  {
   "cell_type": "code",
   "execution_count": 1,
   "id": "3551847a-db26-48ea-bc61-ce651ac28920",
   "metadata": {},
   "outputs": [],
   "source": [
    "!pip install PyPDF2 -U -q"
   ]
  },
  {
   "cell_type": "code",
   "execution_count": 1,
   "id": "f7f08bcb",
   "metadata": {},
   "outputs": [],
   "source": [
    "from pdf2image import convert_from_path\n",
    "from PIL import Image\n",
    "import os, glob\n",
    "from PyPDF2 import PdfFileReader"
   ]
  },
  {
   "cell_type": "markdown",
   "id": "ec0cc6f8-8954-492d-b057-af9e7972a701",
   "metadata": {},
   "source": [
    "---\n",
    "## Mapping"
   ]
  },
  {
   "cell_type": "code",
   "execution_count": 2,
   "id": "6a8cd453-2fdd-4456-b1aa-1ee039dbfcb3",
   "metadata": {},
   "outputs": [],
   "source": [
    "notebooks = []\n",
    "for nb in glob.glob('../*.ipynb'):\n",
    "    notebooks.append(nb.split(' - ')[0][3:])"
   ]
  },
  {
   "cell_type": "code",
   "execution_count": 3,
   "id": "8f5f4b8c-bc63-4788-b358-ade0fc57059e",
   "metadata": {},
   "outputs": [],
   "source": [
    "notebooks.sort()"
   ]
  },
  {
   "cell_type": "code",
   "execution_count": 4,
   "id": "27c6308c-03fb-4ffc-8bd5-ee1954a2acc6",
   "metadata": {},
   "outputs": [],
   "source": [
    "notebooks = ['readme'] + notebooks"
   ]
  },
  {
   "cell_type": "code",
   "execution_count": 5,
   "id": "4f5db692-5a9e-4b6f-a7c7-534b5ff9ebf8",
   "metadata": {},
   "outputs": [
    {
     "data": {
      "text/plain": [
       "['readme',\n",
       " '00',\n",
       " '01',\n",
       " '02a',\n",
       " '02b',\n",
       " '02c',\n",
       " '03a',\n",
       " '03b',\n",
       " '03c',\n",
       " '04',\n",
       " '04a',\n",
       " '04b',\n",
       " '04c',\n",
       " '04d',\n",
       " '04e',\n",
       " '04f',\n",
       " '04g',\n",
       " '05',\n",
       " '05a',\n",
       " '05b',\n",
       " '05c',\n",
       " '05d',\n",
       " '05e',\n",
       " '05f',\n",
       " '05g',\n",
       " '05h',\n",
       " '05i',\n",
       " '06a',\n",
       " '10',\n",
       " '11',\n",
       " '99']"
      ]
     },
     "execution_count": 5,
     "metadata": {},
     "output_type": "execute_result"
    }
   ],
   "source": [
    "notebooks"
   ]
  },
  {
   "cell_type": "code",
   "execution_count": 6,
   "id": "fa283f26-efc6-48d6-b8db-9a9ceb8715f5",
   "metadata": {},
   "outputs": [
    {
     "data": {
      "text/plain": [
       "31"
      ]
     },
     "execution_count": 6,
     "metadata": {},
     "output_type": "execute_result"
    }
   ],
   "source": [
    "len(notebooks)"
   ]
  },
  {
   "cell_type": "markdown",
   "id": "b2adf4d0-f01f-428d-8793-2a6d6eb780be",
   "metadata": {},
   "source": [
    "---\n",
    "## Architectures.pdf"
   ]
  },
  {
   "cell_type": "code",
   "execution_count": 7,
   "id": "0f3fe613-c355-4e28-b3cd-170945cdbf08",
   "metadata": {},
   "outputs": [
    {
     "data": {
      "text/plain": [
       "121"
      ]
     },
     "execution_count": 7,
     "metadata": {},
     "output_type": "execute_result"
    }
   ],
   "source": [
    "with open('architectures.pdf', 'rb') as f:\n",
    "    pdf = PdfFileReader(f)\n",
    "    pages = pdf.getNumPages()\n",
    "pages"
   ]
  },
  {
   "cell_type": "code",
   "execution_count": 8,
   "id": "9dba71d2-f015-4c3b-9ead-8d1ba4266dcc",
   "metadata": {},
   "outputs": [
    {
     "name": "stdout",
     "output_type": "stream",
     "text": [
      "page =  1 , section =  header p2 =  3\n",
      "page =  2 , section =  readme p2 =  0\n",
      "page =  3 , section =  readme p2 =  1\n",
      "page =  4 , section =  readme p2 =  2\n",
      "page =  5 , section =  readme p2 =  3\n",
      "page =  6 , section =  00 p2 =  0\n",
      "page =  7 , section =  00 p2 =  1\n",
      "page =  8 , section =  00 p2 =  2\n",
      "page =  9 , section =  00 p2 =  3\n",
      "page =  10 , section =  01 p2 =  0\n",
      "page =  11 , section =  01 p2 =  1\n",
      "page =  12 , section =  01 p2 =  2\n",
      "page =  13 , section =  01 p2 =  3\n",
      "page =  14 , section =  02a p2 =  0\n",
      "page =  15 , section =  02a p2 =  1\n",
      "page =  16 , section =  02a p2 =  2\n",
      "page =  17 , section =  02a p2 =  3\n",
      "page =  18 , section =  02b p2 =  0\n",
      "page =  19 , section =  02b p2 =  1\n",
      "page =  20 , section =  02b p2 =  2\n",
      "page =  21 , section =  02b p2 =  3\n",
      "page =  22 , section =  02c p2 =  0\n",
      "page =  23 , section =  02c p2 =  1\n",
      "page =  24 , section =  02c p2 =  2\n",
      "page =  25 , section =  02c p2 =  3\n",
      "page =  26 , section =  03a p2 =  0\n",
      "page =  27 , section =  03a p2 =  1\n",
      "page =  28 , section =  03a p2 =  2\n",
      "page =  29 , section =  03a p2 =  3\n",
      "page =  30 , section =  03b p2 =  0\n",
      "page =  31 , section =  03b p2 =  1\n",
      "page =  32 , section =  03b p2 =  2\n",
      "page =  33 , section =  03b p2 =  3\n",
      "page =  34 , section =  03c p2 =  0\n",
      "page =  35 , section =  03c p2 =  1\n",
      "page =  36 , section =  03c p2 =  2\n",
      "page =  37 , section =  03c p2 =  3\n",
      "page =  38 , section =  04 p2 =  0\n",
      "page =  39 , section =  04 p2 =  1\n",
      "page =  40 , section =  04 p2 =  2\n",
      "page =  41 , section =  04 p2 =  3\n",
      "page =  42 , section =  04a p2 =  0\n",
      "page =  43 , section =  04a p2 =  1\n",
      "page =  44 , section =  04a p2 =  2\n",
      "page =  45 , section =  04a p2 =  3\n",
      "page =  46 , section =  04b p2 =  0\n",
      "page =  47 , section =  04b p2 =  1\n",
      "page =  48 , section =  04b p2 =  2\n",
      "page =  49 , section =  04b p2 =  3\n",
      "page =  50 , section =  04c p2 =  0\n",
      "page =  51 , section =  04c p2 =  1\n",
      "page =  52 , section =  04c p2 =  2\n",
      "page =  53 , section =  04c p2 =  3\n",
      "page =  54 , section =  04d p2 =  0\n",
      "page =  55 , section =  04d p2 =  1\n",
      "page =  56 , section =  04d p2 =  2\n",
      "page =  57 , section =  04d p2 =  3\n",
      "page =  58 , section =  04e p2 =  0\n",
      "page =  59 , section =  04e p2 =  1\n",
      "page =  60 , section =  04e p2 =  2\n",
      "page =  61 , section =  04e p2 =  3\n",
      "page =  62 , section =  04f p2 =  0\n",
      "page =  63 , section =  04f p2 =  1\n",
      "page =  64 , section =  04f p2 =  2\n",
      "page =  65 , section =  04f p2 =  3\n",
      "page =  66 , section =  04g p2 =  0\n",
      "page =  67 , section =  04g p2 =  1\n",
      "page =  68 , section =  04g p2 =  2\n",
      "page =  69 , section =  04g p2 =  3\n",
      "page =  70 , section =  05 p2 =  0\n",
      "page =  71 , section =  05 p2 =  1\n",
      "page =  72 , section =  05 p2 =  2\n",
      "page =  73 , section =  05 p2 =  3\n",
      "page =  74 , section =  05a p2 =  0\n",
      "page =  75 , section =  05a p2 =  1\n",
      "page =  76 , section =  05a p2 =  2\n",
      "page =  77 , section =  05a p2 =  3\n",
      "page =  78 , section =  05b p2 =  0\n",
      "page =  79 , section =  05b p2 =  1\n",
      "page =  80 , section =  05b p2 =  2\n",
      "page =  81 , section =  05b p2 =  3\n",
      "page =  82 , section =  05c p2 =  0\n",
      "page =  83 , section =  05c p2 =  1\n",
      "page =  84 , section =  05c p2 =  2\n",
      "page =  85 , section =  05c p2 =  3\n",
      "page =  86 , section =  05d p2 =  0\n",
      "page =  87 , section =  05d p2 =  1\n",
      "page =  88 , section =  05d p2 =  2\n",
      "page =  89 , section =  05d p2 =  3\n",
      "page =  90 , section =  05e p2 =  0\n",
      "page =  91 , section =  05e p2 =  1\n",
      "page =  92 , section =  05e p2 =  2\n",
      "page =  93 , section =  05e p2 =  3\n",
      "page =  94 , section =  05f p2 =  0\n",
      "page =  95 , section =  05f p2 =  1\n",
      "page =  96 , section =  05f p2 =  2\n",
      "page =  97 , section =  05f p2 =  3\n",
      "page =  98 , section =  05g p2 =  0\n",
      "page =  99 , section =  05g p2 =  1\n",
      "page =  100 , section =  05g p2 =  2\n",
      "page =  101 , section =  05g p2 =  3\n",
      "page =  102 , section =  05h p2 =  0\n",
      "page =  103 , section =  05h p2 =  1\n",
      "page =  104 , section =  05h p2 =  2\n",
      "page =  105 , section =  05h p2 =  3\n",
      "page =  106 , section =  05i p2 =  0\n",
      "page =  107 , section =  05i p2 =  1\n",
      "page =  108 , section =  05i p2 =  2\n",
      "page =  109 , section =  05i p2 =  3\n",
      "page =  110 , section =  06a p2 =  0\n",
      "page =  111 , section =  06a p2 =  1\n",
      "page =  112 , section =  06a p2 =  2\n",
      "page =  113 , section =  06a p2 =  3\n",
      "page =  114 , section =  10 p2 =  0\n",
      "page =  115 , section =  10 p2 =  1\n",
      "page =  116 , section =  10 p2 =  2\n",
      "page =  117 , section =  10 p2 =  3\n",
      "page =  118 , section =  11 p2 =  0\n",
      "page =  119 , section =  11 p2 =  1\n",
      "page =  120 , section =  11 p2 =  2\n",
      "page =  121 , section =  11 p2 =  3\n"
     ]
    }
   ],
   "source": [
    "for p in range(1, pages+1):\n",
    "    image = convert_from_path('architectures.pdf',size=(1920, 1080), first_page = p, last_page = p)\n",
    "    p2 = (p-2) % 4 # the 0-4 slide number within the section\n",
    "    if p == 1: section = 'header'\n",
    "    else: section = notebooks[(p-2) // 4]\n",
    "    if section != 'header':\n",
    "        if p2 == 1: image[0].save(f\"slides/{section}_arch.png\")\n",
    "        if p2 == 2: image[0].save(f\"slides/{section}_console.png\")\n",
    "        if p2 == 3: image[0].save(f\"thumbnails/plain/{section}.png\")\n",
    "    print(\"page = \", p, \", section = \", section, \"p2 = \", p2)"
   ]
  },
  {
   "cell_type": "markdown",
   "id": "dd18000c-efb2-4c4e-a73e-ee4d64479de0",
   "metadata": {},
   "source": [
    "---\n",
    "## Thumbnails.pdf"
   ]
  },
  {
   "cell_type": "markdown",
   "id": "a91f9892-27f0-4a93-9930-5c7279b5e2bd",
   "metadata": {},
   "source": [
    "/prepared versions\n",
    "- add the architecture slide to the plain version"
   ]
  },
  {
   "cell_type": "code",
   "execution_count": 9,
   "id": "d567be40-ce38-421d-adca-8a61d193c1ec",
   "metadata": {},
   "outputs": [],
   "source": [
    "for filename in os.listdir('thumbnails/plain'):\n",
    "    \n",
    "    if not (filename.endswith('.png')):\n",
    "        continue\n",
    "    if filename == 'readme.png':\n",
    "        thumb = Image.open(f'thumbnails/plain/{filename}')\n",
    "        thumb.save(f'thumbnails/prepared/{filename}')\n",
    "        continue\n",
    "    \n",
    "    # grab plain thumbnail\n",
    "    thumb = Image.open(f'thumbnails/plain/{filename}')\n",
    "    tWidth, tHeight = thumb.size\n",
    "    \n",
    "    # grab related architecture slide\n",
    "    slide = Image.open(f\"slides/{filename.split('.')[0]}_arch.png\").convert(\"RGBA\")\n",
    "    sWidth, sHeight = slide.size\n",
    "    slide = slide.resize((int(tWidth/1.6), int(tHeight/1.6)))\n",
    "    \n",
    "    # save the prepared version with architecture added to plain thumbnail\n",
    "    thumb.paste(slide, (int(tWidth/3), int(tHeight/7)), slide)\n",
    "    thumb.save(f'thumbnails/prepared/{filename}')"
   ]
  },
  {
   "cell_type": "markdown",
   "id": "ddb67fed-1bbd-41a9-b350-c426b05b91df",
   "metadata": {},
   "source": [
    "/playbutton versions\n",
    "- add playbutton to the prepapared versions"
   ]
  },
  {
   "cell_type": "code",
   "execution_count": 10,
   "id": "861aaef0-432b-41a3-89aa-f1dd63ec9f99",
   "metadata": {},
   "outputs": [],
   "source": [
    "playbutton = Image.open('thumbnails/logo_youtube_color_1x_web_512dp.png').convert(\"RGBA\")\n",
    "pbWidth, pbHeight = playbutton.size\n",
    "#playbutton.show()"
   ]
  },
  {
   "cell_type": "code",
   "execution_count": 11,
   "id": "84f0633c-727c-4fbd-9a32-14390dfe27f3",
   "metadata": {},
   "outputs": [
    {
     "name": "stdout",
     "output_type": "stream",
     "text": [
      "01.png\n",
      "04b.png\n",
      "06a.png\n",
      "05d.png\n",
      "05a.png\n",
      "04g.png\n",
      "05c.png\n",
      "02b.png\n",
      "04c.png\n",
      "02c.png\n",
      "10.png\n",
      "03c.png\n",
      "11.png\n",
      "05h.png\n",
      "03b.png\n",
      "03a.png\n",
      "05i.png\n",
      "readme.png\n",
      "04d.png\n",
      "00.png\n",
      "05e.png\n",
      "05b.png\n",
      "05.png\n",
      "02a.png\n",
      "04f.png\n",
      "05g.png\n",
      "05f.png\n",
      "04a.png\n",
      "04e.png\n",
      "04.png\n"
     ]
    }
   ],
   "source": [
    "for filename in os.listdir('thumbnails/prepared'):\n",
    "    if not (filename.endswith('.png')):\n",
    "        continue\n",
    "    tn = Image.open(f'thumbnails/prepared/{filename}')\n",
    "    tnWidth, tnHeight = tn.size\n",
    "    print(filename)\n",
    "    tn.paste(playbutton, (int(tnWidth/2 - pbWidth/2), int(tnHeight/2 - pbHeight/2)), playbutton)\n",
    "    tn.save(f'thumbnails/playbutton/{filename}')"
   ]
  },
  {
   "cell_type": "code",
   "execution_count": null,
   "id": "be69562e-2d8e-4960-aff0-8a4c413d0b8b",
   "metadata": {},
   "outputs": [],
   "source": []
  }
 ],
 "metadata": {
  "environment": {
   "kernel": "python3",
   "name": "tf2-gpu.2-3.m87",
   "type": "gcloud",
   "uri": "gcr.io/deeplearning-platform-release/tf2-gpu.2-3:m87"
  },
  "kernelspec": {
   "display_name": "Python 3",
   "language": "python",
   "name": "python3"
  },
  "language_info": {
   "codemirror_mode": {
    "name": "ipython",
    "version": 3
   },
   "file_extension": ".py",
   "mimetype": "text/x-python",
   "name": "python",
   "nbconvert_exporter": "python",
   "pygments_lexer": "ipython3",
   "version": "3.7.12"
  }
 },
 "nbformat": 4,
 "nbformat_minor": 5
}
