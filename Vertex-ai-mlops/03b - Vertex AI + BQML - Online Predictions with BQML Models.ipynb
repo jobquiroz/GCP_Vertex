{
 "cells": [
  {
   "cell_type": "markdown",
   "id": "ffc0d1a3",
   "metadata": {},
   "source": [
    "# 03b - Vertex AI + BQML - Online Predictions with BQML Models\n",
    "\n",
    "Models built with BigQuery ML (BQML), like the one in (03a), can also be exported for use and deployment outside of BigQuery.  A Vertex AI Endpoint can be used for online predictions with an exported model.  This demonstration shows the process of exporting and deploying a BQML model with Vertex AI.\n",
    "\n",
    "### Video Walkthrough of this notebook:\n",
    "Includes conversational walkthrough and more explanatory information than the notebook:\n",
    "\n",
    "<p><center><a href=\"https://youtu.be/7y_t_bW0LHQ\" target=\"_blank\" rel=\"noopener noreferrer\"><img src=\"architectures/thumbnails/playbutton/03b.png\" width=\"50%\"></a></center></p>\n",
    "\n",
    "### Prerequisites:\n",
    "-  03a - BigQuery Machine Learning (BQML) - Machine Learning with SQL\n",
    "\n",
    "### Overview:\n",
    "-  Export the BigQuery ML model built in (03a) to a GCS bucket URI\n",
    "   -  EXPORT MODEL …\n",
    "-  Use Python Client google.cloud.aiplatform for Vertex AI\n",
    "   -  Upload Model\n",
    "      -  Model - aiplatform.Model.upoad\n",
    "   -  Create Endpoint\n",
    "      -  Endpoint - aiplatform.Endpoint.create\n",
    "   -  Deploy to Endpoint\n",
    "      -  Endpoint.deploy(model=Model)\n",
    "   -  Online Predictions\n",
    "      -  Endpoint.predict\n",
    "\n",
    "### Resources:\n",
    "-  [Export formats for BigQuery ML models](https://cloud.google.com/bigquery-ml/docs/exporting-models)\n",
    "-  [Python Client for Vertex AI](https://googleapis.dev/python/aiplatform/latest/aiplatform.html)\n"
   ]
  },
  {
   "cell_type": "markdown",
   "id": "1179ee8c",
   "metadata": {},
   "source": [
    "---\n",
    "## Vertex AI - Conceptual Flow\n",
    "\n",
    "<img src=\"architectures/slides/03b_arch.png\">\n",
    "\n",
    "---\n",
    "## Vertex AI - Workflow\n",
    "\n",
    "<img src=\"architectures/slides/03b_console.png\">"
   ]
  },
  {
   "cell_type": "markdown",
   "id": "613afac5",
   "metadata": {},
   "source": [
    "---\n",
    "## Setup"
   ]
  },
  {
   "cell_type": "markdown",
   "id": "dc5e27bc",
   "metadata": {},
   "source": [
    "inputs:"
   ]
  },
  {
   "cell_type": "code",
   "execution_count": 1,
   "id": "ad6661f2",
   "metadata": {},
   "outputs": [],
   "source": [
    "REGION = 'us-central1'\n",
    "PROJECT_ID='statmike-mlops'\n",
    "DATANAME = 'fraud'\n",
    "NOTEBOOK = '03b'\n",
    "\n",
    "# Resources\n",
    "DEPLOY_IMAGE='us-docker.pkg.dev/vertex-ai/prediction/tf2-cpu.2-3:latest'\n",
    "DEPLOY_COMPUTE = 'n1-standard-4'\n",
    "\n",
    "# Model Training\n",
    "VAR_TARGET = 'Class'\n",
    "VAR_OMIT = 'transaction_id' # add more variables to the string with space delimiters"
   ]
  },
  {
   "cell_type": "markdown",
   "id": "cf050841",
   "metadata": {},
   "source": [
    "packages:"
   ]
  },
  {
   "cell_type": "code",
   "execution_count": 2,
   "id": "a91d32df",
   "metadata": {},
   "outputs": [],
   "source": [
    "from google.cloud import aiplatform\n",
    "from datetime import datetime\n",
    "\n",
    "from google.cloud import bigquery\n",
    "from google.protobuf import json_format\n",
    "from google.protobuf.struct_pb2 import Value\n",
    "import json\n",
    "import numpy as np"
   ]
  },
  {
   "cell_type": "markdown",
   "id": "b2686afc",
   "metadata": {},
   "source": [
    "clients:"
   ]
  },
  {
   "cell_type": "code",
   "execution_count": 3,
   "id": "2d1777a5",
   "metadata": {},
   "outputs": [],
   "source": [
    "aiplatform.init(project=PROJECT_ID, location=REGION)\n",
    "bigquery = bigquery.Client()"
   ]
  },
  {
   "cell_type": "markdown",
   "id": "6d6a7643",
   "metadata": {},
   "source": [
    "parameters:"
   ]
  },
  {
   "cell_type": "code",
   "execution_count": 4,
   "id": "d3ba70ba",
   "metadata": {},
   "outputs": [],
   "source": [
    "TIMESTAMP = datetime.now().strftime(\"%Y%m%d%H%M%S\")\n",
    "BUCKET = PROJECT_ID\n",
    "URI = f\"gs://{BUCKET}/{DATANAME}/models/{NOTEBOOK}\"\n",
    "params = {\"URI\": URI}\n",
    "DIR = f\"temp/{NOTEBOOK}\""
   ]
  },
  {
   "cell_type": "markdown",
   "id": "cb02dbd6",
   "metadata": {},
   "source": [
    "environment:"
   ]
  },
  {
   "cell_type": "code",
   "execution_count": 5,
   "id": "cc2f1b43",
   "metadata": {},
   "outputs": [],
   "source": [
    "!rm -rf {DIR}\n",
    "!mkdir -p {DIR}"
   ]
  },
  {
   "cell_type": "markdown",
   "id": "e94caa8b",
   "metadata": {},
   "source": [
    "---\n",
    "## Export the BigQuery Model\n",
    "\n",
    "Export the BigQuery Model:\n",
    "- https://cloud.google.com/bigquery-ml/docs/exporting-models"
   ]
  },
  {
   "cell_type": "code",
   "execution_count": 6,
   "id": "e3851cbd",
   "metadata": {},
   "outputs": [],
   "source": [
    "export = bigquery.query(query = f\"EXPORT MODEL {DATANAME}.{DATANAME}_lr OPTIONS(URI = '{URI}')\")"
   ]
  },
  {
   "cell_type": "code",
   "execution_count": 7,
   "id": "670a6c33",
   "metadata": {},
   "outputs": [
    {
     "data": {
      "text/plain": [
       "<google.cloud.bigquery.table._EmptyRowIterator at 0x7f9898c91250>"
      ]
     },
     "execution_count": 7,
     "metadata": {},
     "output_type": "execute_result"
    }
   ],
   "source": [
    "export.result()"
   ]
  },
  {
   "cell_type": "markdown",
   "id": "0a19ae22",
   "metadata": {},
   "source": [
    "---\n",
    "## Serving"
   ]
  },
  {
   "cell_type": "markdown",
   "id": "e6e5e9a6",
   "metadata": {},
   "source": [
    "### Upload The Model\n",
    "https://googleapis.dev/python/aiplatform/latest/aiplatform.html?highlight=aiplatform%20model%20upload#google.cloud.aiplatform.Model.upload"
   ]
  },
  {
   "cell_type": "code",
   "execution_count": 8,
   "id": "d76901c6",
   "metadata": {},
   "outputs": [
    {
     "name": "stdout",
     "output_type": "stream",
     "text": [
      "INFO:google.cloud.aiplatform.models:Creating Model\n",
      "INFO:google.cloud.aiplatform.models:Create Model backing LRO: projects/764015827198/locations/us-central1/models/6040246292024655872/operations/8528026658517549056\n",
      "INFO:google.cloud.aiplatform.models:Model created. Resource name: projects/764015827198/locations/us-central1/models/6040246292024655872\n",
      "INFO:google.cloud.aiplatform.models:To use this Model in another session:\n",
      "INFO:google.cloud.aiplatform.models:model = aiplatform.Model('projects/764015827198/locations/us-central1/models/6040246292024655872')\n"
     ]
    }
   ],
   "source": [
    "model = aiplatform.Model.upload(\n",
    "    display_name = f'{NOTEBOOK}_{DATANAME}_{TIMESTAMP}',\n",
    "    serving_container_image_uri = DEPLOY_IMAGE,\n",
    "    artifact_uri = URI,\n",
    "    labels = {'notebook':f'{NOTEBOOK}'}\n",
    ")"
   ]
  },
  {
   "cell_type": "code",
   "execution_count": 9,
   "id": "24ee6764",
   "metadata": {},
   "outputs": [
    {
     "data": {
      "text/plain": [
       "'03b_fraud_20211129141713'"
      ]
     },
     "execution_count": 9,
     "metadata": {},
     "output_type": "execute_result"
    }
   ],
   "source": [
    "model.display_name"
   ]
  },
  {
   "cell_type": "markdown",
   "id": "034f0c19",
   "metadata": {},
   "source": [
    "### Create An Endpoint"
   ]
  },
  {
   "cell_type": "code",
   "execution_count": 10,
   "id": "93224b2d",
   "metadata": {},
   "outputs": [
    {
     "name": "stdout",
     "output_type": "stream",
     "text": [
      "INFO:google.cloud.aiplatform.models:Creating Endpoint\n",
      "INFO:google.cloud.aiplatform.models:Create Endpoint backing LRO: projects/764015827198/locations/us-central1/endpoints/714251549496311808/operations/1853692010754473984\n",
      "INFO:google.cloud.aiplatform.models:Endpoint created. Resource name: projects/764015827198/locations/us-central1/endpoints/714251549496311808\n",
      "INFO:google.cloud.aiplatform.models:To use this Endpoint in another session:\n",
      "INFO:google.cloud.aiplatform.models:endpoint = aiplatform.Endpoint('projects/764015827198/locations/us-central1/endpoints/714251549496311808')\n"
     ]
    }
   ],
   "source": [
    "endpoint = aiplatform.Endpoint.create(\n",
    "    display_name = f'{NOTEBOOK}_{DATANAME}_{TIMESTAMP}',\n",
    "    labels = {'notebook':f'{NOTEBOOK}'}\n",
    ")"
   ]
  },
  {
   "cell_type": "code",
   "execution_count": 11,
   "id": "7285cced",
   "metadata": {},
   "outputs": [
    {
     "data": {
      "text/plain": [
       "'03b_fraud_20211129141713'"
      ]
     },
     "execution_count": 11,
     "metadata": {},
     "output_type": "execute_result"
    }
   ],
   "source": [
    "endpoint.display_name"
   ]
  },
  {
   "cell_type": "markdown",
   "id": "9158992e",
   "metadata": {},
   "source": [
    "### Deploy Model To Endpoint"
   ]
  },
  {
   "cell_type": "code",
   "execution_count": 12,
   "id": "040707a6",
   "metadata": {},
   "outputs": [
    {
     "name": "stdout",
     "output_type": "stream",
     "text": [
      "INFO:google.cloud.aiplatform.models:Deploying Model projects/764015827198/locations/us-central1/models/6040246292024655872 to Endpoint : projects/764015827198/locations/us-central1/endpoints/714251549496311808\n",
      "INFO:google.cloud.aiplatform.models:Deploy Endpoint model backing LRO: projects/764015827198/locations/us-central1/endpoints/714251549496311808/operations/5365373820196618240\n",
      "INFO:google.cloud.aiplatform.models:Endpoint model deployed. Resource name: projects/764015827198/locations/us-central1/endpoints/714251549496311808\n"
     ]
    }
   ],
   "source": [
    "endpoint.deploy(\n",
    "    model = model,\n",
    "    deployed_model_display_name = f'{NOTEBOOK}_{DATANAME}_{TIMESTAMP}',\n",
    "    traffic_percentage = 100,\n",
    "    machine_type = DEPLOY_COMPUTE,\n",
    "    min_replica_count = 1,\n",
    "    max_replica_count = 1\n",
    ")"
   ]
  },
  {
   "cell_type": "markdown",
   "id": "087da7cc",
   "metadata": {},
   "source": [
    "---\n",
    "## Prediction"
   ]
  },
  {
   "cell_type": "markdown",
   "id": "46bc4c06",
   "metadata": {},
   "source": [
    "### Prepare a record for prediction: instance and parameters lists"
   ]
  },
  {
   "cell_type": "code",
   "execution_count": 13,
   "id": "b8f349ad",
   "metadata": {},
   "outputs": [],
   "source": [
    "pred = bigquery.query(query = f\"SELECT * FROM {DATANAME}.{DATANAME}_prepped WHERE splits='TEST' LIMIT 10\").to_dataframe()"
   ]
  },
  {
   "cell_type": "code",
   "execution_count": 14,
   "id": "8ed5d125",
   "metadata": {},
   "outputs": [
    {
     "data": {
      "text/html": [
       "<div>\n",
       "<style scoped>\n",
       "    .dataframe tbody tr th:only-of-type {\n",
       "        vertical-align: middle;\n",
       "    }\n",
       "\n",
       "    .dataframe tbody tr th {\n",
       "        vertical-align: top;\n",
       "    }\n",
       "\n",
       "    .dataframe thead th {\n",
       "        text-align: right;\n",
       "    }\n",
       "</style>\n",
       "<table border=\"1\" class=\"dataframe\">\n",
       "  <thead>\n",
       "    <tr style=\"text-align: right;\">\n",
       "      <th></th>\n",
       "      <th>Time</th>\n",
       "      <th>V1</th>\n",
       "      <th>V2</th>\n",
       "      <th>V3</th>\n",
       "      <th>V4</th>\n",
       "      <th>V5</th>\n",
       "      <th>V6</th>\n",
       "      <th>V7</th>\n",
       "      <th>V8</th>\n",
       "      <th>V9</th>\n",
       "      <th>...</th>\n",
       "      <th>V23</th>\n",
       "      <th>V24</th>\n",
       "      <th>V25</th>\n",
       "      <th>V26</th>\n",
       "      <th>V27</th>\n",
       "      <th>V28</th>\n",
       "      <th>Amount</th>\n",
       "      <th>Class</th>\n",
       "      <th>transaction_id</th>\n",
       "      <th>splits</th>\n",
       "    </tr>\n",
       "  </thead>\n",
       "  <tbody>\n",
       "    <tr>\n",
       "      <th>0</th>\n",
       "      <td>79470</td>\n",
       "      <td>1.073063</td>\n",
       "      <td>-0.026793</td>\n",
       "      <td>0.796502</td>\n",
       "      <td>1.754389</td>\n",
       "      <td>-0.219910</td>\n",
       "      <td>0.930349</td>\n",
       "      <td>-0.515894</td>\n",
       "      <td>0.461495</td>\n",
       "      <td>-0.132966</td>\n",
       "      <td>...</td>\n",
       "      <td>0.048539</td>\n",
       "      <td>-0.258218</td>\n",
       "      <td>0.171861</td>\n",
       "      <td>1.028847</td>\n",
       "      <td>-0.037692</td>\n",
       "      <td>-0.013125</td>\n",
       "      <td>0.0</td>\n",
       "      <td>0</td>\n",
       "      <td>07fdced0-3837-47a1-9526-64d74ad9b113</td>\n",
       "      <td>TEST</td>\n",
       "    </tr>\n",
       "    <tr>\n",
       "      <th>1</th>\n",
       "      <td>122082</td>\n",
       "      <td>1.878563</td>\n",
       "      <td>0.020785</td>\n",
       "      <td>-1.621113</td>\n",
       "      <td>2.908813</td>\n",
       "      <td>2.507847</td>\n",
       "      <td>4.709442</td>\n",
       "      <td>-0.830626</td>\n",
       "      <td>1.136154</td>\n",
       "      <td>-0.395755</td>\n",
       "      <td>...</td>\n",
       "      <td>0.121098</td>\n",
       "      <td>0.707538</td>\n",
       "      <td>0.140100</td>\n",
       "      <td>0.155684</td>\n",
       "      <td>0.016375</td>\n",
       "      <td>-0.053892</td>\n",
       "      <td>0.0</td>\n",
       "      <td>0</td>\n",
       "      <td>7c1f61ba-7586-414e-ba8a-1c4385d59933</td>\n",
       "      <td>TEST</td>\n",
       "    </tr>\n",
       "    <tr>\n",
       "      <th>2</th>\n",
       "      <td>11494</td>\n",
       "      <td>-1.169744</td>\n",
       "      <td>0.462878</td>\n",
       "      <td>1.587579</td>\n",
       "      <td>-1.252560</td>\n",
       "      <td>1.012817</td>\n",
       "      <td>-0.918413</td>\n",
       "      <td>0.817632</td>\n",
       "      <td>-0.522804</td>\n",
       "      <td>1.388247</td>\n",
       "      <td>...</td>\n",
       "      <td>-0.042144</td>\n",
       "      <td>-0.021269</td>\n",
       "      <td>-0.283979</td>\n",
       "      <td>0.556661</td>\n",
       "      <td>-0.191722</td>\n",
       "      <td>-0.071773</td>\n",
       "      <td>0.0</td>\n",
       "      <td>0</td>\n",
       "      <td>a3046c87-cee5-40fd-9302-4d230b823246</td>\n",
       "      <td>TEST</td>\n",
       "    </tr>\n",
       "    <tr>\n",
       "      <th>3</th>\n",
       "      <td>58900</td>\n",
       "      <td>-2.728403</td>\n",
       "      <td>-2.340346</td>\n",
       "      <td>2.551039</td>\n",
       "      <td>2.623092</td>\n",
       "      <td>3.014728</td>\n",
       "      <td>-0.807294</td>\n",
       "      <td>-2.286621</td>\n",
       "      <td>0.757561</td>\n",
       "      <td>-1.279297</td>\n",
       "      <td>...</td>\n",
       "      <td>0.370139</td>\n",
       "      <td>-0.212784</td>\n",
       "      <td>-0.104956</td>\n",
       "      <td>1.355781</td>\n",
       "      <td>-0.053063</td>\n",
       "      <td>0.125386</td>\n",
       "      <td>0.0</td>\n",
       "      <td>0</td>\n",
       "      <td>bc3f2800-a4bb-4077-b017-f55f03c4f00c</td>\n",
       "      <td>TEST</td>\n",
       "    </tr>\n",
       "  </tbody>\n",
       "</table>\n",
       "<p>4 rows × 33 columns</p>\n",
       "</div>"
      ],
      "text/plain": [
       "     Time        V1        V2        V3        V4        V5        V6  \\\n",
       "0   79470  1.073063 -0.026793  0.796502  1.754389 -0.219910  0.930349   \n",
       "1  122082  1.878563  0.020785 -1.621113  2.908813  2.507847  4.709442   \n",
       "2   11494 -1.169744  0.462878  1.587579 -1.252560  1.012817 -0.918413   \n",
       "3   58900 -2.728403 -2.340346  2.551039  2.623092  3.014728 -0.807294   \n",
       "\n",
       "         V7        V8        V9  ...       V23       V24       V25       V26  \\\n",
       "0 -0.515894  0.461495 -0.132966  ...  0.048539 -0.258218  0.171861  1.028847   \n",
       "1 -0.830626  1.136154 -0.395755  ...  0.121098  0.707538  0.140100  0.155684   \n",
       "2  0.817632 -0.522804  1.388247  ... -0.042144 -0.021269 -0.283979  0.556661   \n",
       "3 -2.286621  0.757561 -1.279297  ...  0.370139 -0.212784 -0.104956  1.355781   \n",
       "\n",
       "        V27       V28  Amount  Class                        transaction_id  \\\n",
       "0 -0.037692 -0.013125     0.0      0  07fdced0-3837-47a1-9526-64d74ad9b113   \n",
       "1  0.016375 -0.053892     0.0      0  7c1f61ba-7586-414e-ba8a-1c4385d59933   \n",
       "2 -0.191722 -0.071773     0.0      0  a3046c87-cee5-40fd-9302-4d230b823246   \n",
       "3 -0.053063  0.125386     0.0      0  bc3f2800-a4bb-4077-b017-f55f03c4f00c   \n",
       "\n",
       "   splits  \n",
       "0    TEST  \n",
       "1    TEST  \n",
       "2    TEST  \n",
       "3    TEST  \n",
       "\n",
       "[4 rows x 33 columns]"
      ]
     },
     "execution_count": 14,
     "metadata": {},
     "output_type": "execute_result"
    }
   ],
   "source": [
    "pred.head(4)"
   ]
  },
  {
   "cell_type": "code",
   "execution_count": 15,
   "id": "20dd66e1",
   "metadata": {},
   "outputs": [],
   "source": [
    "newob = pred[pred.columns[~pred.columns.isin(VAR_OMIT.split()+[VAR_TARGET,'splits'])]].to_dict(orient='records')[0]\n",
    "#newob"
   ]
  },
  {
   "cell_type": "code",
   "execution_count": 16,
   "id": "ff39daac",
   "metadata": {},
   "outputs": [],
   "source": [
    "instances = [json_format.ParseDict(newob, Value())]\n",
    "parameters = json_format.ParseDict({}, Value())"
   ]
  },
  {
   "cell_type": "markdown",
   "id": "dfd7f4ef",
   "metadata": {},
   "source": [
    "### Get Predictions: Python Client"
   ]
  },
  {
   "cell_type": "code",
   "execution_count": 17,
   "id": "9d95d9ba",
   "metadata": {},
   "outputs": [
    {
     "data": {
      "text/plain": [
       "Prediction(predictions=[{'predicted_Class': ['0'], 'Class_probs': [0.0990060111289882, 0.9009939888710118], 'Class_values': ['1', '0']}], deployed_model_id='5358623849594224640', explanations=None)"
      ]
     },
     "execution_count": 17,
     "metadata": {},
     "output_type": "execute_result"
    }
   ],
   "source": [
    "prediction = endpoint.predict(instances=instances, parameters=parameters)\n",
    "prediction"
   ]
  },
  {
   "cell_type": "code",
   "execution_count": 18,
   "id": "559eda29",
   "metadata": {},
   "outputs": [
    {
     "data": {
      "text/plain": [
       "{'predicted_Class': ['0'],\n",
       " 'Class_probs': [0.0990060111289882, 0.9009939888710118],\n",
       " 'Class_values': ['1', '0']}"
      ]
     },
     "execution_count": 18,
     "metadata": {},
     "output_type": "execute_result"
    }
   ],
   "source": [
    "prediction.predictions[0]#['classes'][np.argmax(prediction.predictions[0]['scores'])]"
   ]
  },
  {
   "cell_type": "code",
   "execution_count": 19,
   "id": "4edcf178",
   "metadata": {},
   "outputs": [
    {
     "data": {
      "text/plain": [
       "'0'"
      ]
     },
     "execution_count": 19,
     "metadata": {},
     "output_type": "execute_result"
    }
   ],
   "source": [
    "prediction.predictions[0][f'{VAR_TARGET}_values'][np.argmax(prediction.predictions[0][f'{VAR_TARGET}_probs'])]"
   ]
  },
  {
   "cell_type": "markdown",
   "id": "5cec468a",
   "metadata": {},
   "source": [
    "### Get Predictions: REST"
   ]
  },
  {
   "cell_type": "code",
   "execution_count": 20,
   "id": "eb32a338",
   "metadata": {},
   "outputs": [],
   "source": [
    "with open(f'{DIR}/request.json','w') as file:\n",
    "    file.write(json.dumps({\"instances\": [newob]}))"
   ]
  },
  {
   "cell_type": "code",
   "execution_count": 21,
   "id": "f4006e2a",
   "metadata": {},
   "outputs": [
    {
     "name": "stdout",
     "output_type": "stream",
     "text": [
      "{\n",
      "  \"predictions\": [\n",
      "    {\n",
      "      \"Class_probs\": [\n",
      "        0.0990060111289882,\n",
      "        0.90099398887101179\n",
      "      ],\n",
      "      \"predicted_Class\": [\n",
      "        \"0\"\n",
      "      ],\n",
      "      \"Class_values\": [\n",
      "        \"1\",\n",
      "        \"0\"\n",
      "      ]\n",
      "    }\n",
      "  ],\n",
      "  \"deployedModelId\": \"5358623849594224640\",\n",
      "  \"model\": \"projects/764015827198/locations/us-central1/models/6040246292024655872\",\n",
      "  \"modelDisplayName\": \"03b_fraud_20211129141713\"\n",
      "}\n"
     ]
    }
   ],
   "source": [
    "!curl -X POST \\\n",
    "-H \"Authorization: Bearer \"$(gcloud auth application-default print-access-token) \\\n",
    "-H \"Content-Type: application/json; charset=utf-8\" \\\n",
    "-d @{DIR}/request.json \\\n",
    "https://{REGION}-aiplatform.googleapis.com/v1/{endpoint.resource_name}:predict"
   ]
  },
  {
   "cell_type": "markdown",
   "id": "4edee92e",
   "metadata": {},
   "source": [
    "### Get Predictions: gcloud (CLI)"
   ]
  },
  {
   "cell_type": "code",
   "execution_count": 22,
   "id": "3d8649b2",
   "metadata": {},
   "outputs": [
    {
     "name": "stdout",
     "output_type": "stream",
     "text": [
      "Using endpoint [https://us-central1-prediction-aiplatform.googleapis.com/]\n",
      "[{'Class_probs': [0.0990060111289882, 0.9009939888710118], 'Class_values': ['1', '0'], 'predicted_Class': ['0']}]\n"
     ]
    }
   ],
   "source": [
    "!gcloud beta ai endpoints predict {endpoint.name.rsplit('/',1)[-1]} --region={REGION} --json-request={DIR}/request.json"
   ]
  },
  {
   "cell_type": "markdown",
   "id": "cf9b632b",
   "metadata": {},
   "source": [
    "---\n",
    "## Remove Resources\n",
    "see notebook \"99 - Cleanup\""
   ]
  }
 ],
 "metadata": {
  "environment": {
   "kernel": "python3",
   "name": "tf2-gpu.2-3.m87",
   "type": "gcloud",
   "uri": "gcr.io/deeplearning-platform-release/tf2-gpu.2-3:m87"
  },
  "kernelspec": {
   "display_name": "Python 3",
   "language": "python",
   "name": "python3"
  },
  "language_info": {
   "codemirror_mode": {
    "name": "ipython",
    "version": 3
   },
   "file_extension": ".py",
   "mimetype": "text/x-python",
   "name": "python",
   "nbconvert_exporter": "python",
   "pygments_lexer": "ipython3",
   "version": "3.7.12"
  }
 },
 "nbformat": 4,
 "nbformat_minor": 5
}
