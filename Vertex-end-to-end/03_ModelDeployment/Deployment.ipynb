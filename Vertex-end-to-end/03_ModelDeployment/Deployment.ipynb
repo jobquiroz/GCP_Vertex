{
 "cells": [
  {
   "cell_type": "markdown",
   "id": "f6ec3f73-fdbe-4834-a616-91c44ebf076c",
   "metadata": {},
   "source": [
    "The following creates a model in Vertex Models"
   ]
  },
  {
   "cell_type": "code",
   "execution_count": 1,
   "id": "aa5489b8-931f-43e7-8313-c9f70b65ecb2",
   "metadata": {},
   "outputs": [
    {
     "name": "stdout",
     "output_type": "stream",
     "text": [
      "Using endpoint [https://us-central1-aiplatform.googleapis.com/]\n",
      "Waiting for operation [368899963733671936]...done.                             \n"
     ]
    }
   ],
   "source": [
    "!gcloud beta ai models upload --region=us-central1 \\\n",
    "--display-name=e2e-tutorial-model \\\n",
    "--container-image-uri=us-docker.pkg.dev/vertex-ai/prediction/tf2-cpu.2-3:latest \\\n",
    "--artifact-uri=gs://ma-mx-presales-lab-bucket/vertex-end-to-end/models/20220217-235336/"
   ]
  },
  {
   "cell_type": "markdown",
   "id": "d1371e40-88c1-4c46-8db2-76601bd47137",
   "metadata": {},
   "source": [
    "After that we can deploy and use the model."
   ]
  },
  {
   "cell_type": "code",
   "execution_count": null,
   "id": "8bd03c60-5d6b-4237-a467-78f92b45977b",
   "metadata": {},
   "outputs": [],
   "source": []
  },
  {
   "cell_type": "code",
   "execution_count": null,
   "id": "3009202e-efcd-4c83-9e17-601975e469e7",
   "metadata": {},
   "outputs": [],
   "source": []
  }
 ],
 "metadata": {
  "environment": {
   "kernel": "python3",
   "name": "tf2-gpu.2-7.m87",
   "type": "gcloud",
   "uri": "gcr.io/deeplearning-platform-release/tf2-gpu.2-7:m87"
  },
  "kernelspec": {
   "display_name": "Python 3",
   "language": "python",
   "name": "python3"
  },
  "language_info": {
   "codemirror_mode": {
    "name": "ipython",
    "version": 3
   },
   "file_extension": ".py",
   "mimetype": "text/x-python",
   "name": "python",
   "nbconvert_exporter": "python",
   "pygments_lexer": "ipython3",
   "version": "3.7.12"
  }
 },
 "nbformat": 4,
 "nbformat_minor": 5
}
