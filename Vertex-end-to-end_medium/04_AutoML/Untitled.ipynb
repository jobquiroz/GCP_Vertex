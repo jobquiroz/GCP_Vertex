{
 "cells": [
  {
   "cell_type": "markdown",
   "id": "5df0871c-cdfa-42de-b81c-7d3c07fd3b90",
   "metadata": {},
   "source": [
    "The following cell takes the images (TF.Records) and saves them as JPG."
   ]
  },
  {
   "cell_type": "code",
   "execution_count": null,
   "id": "db242b9c-9e71-4c65-b86a-8e6d777ba1c4",
   "metadata": {},
   "outputs": [],
   "source": [
    "import tensorflow as tf\n",
    "import tensorflow_datasets as tfds\n",
    "\n",
    "cifar10 = tfds.load('cifar10', as_supervised=True)\n",
    "class_names = ['airplane', 'automobile', 'bird', 'cat', 'deer', 'dog', 'frog', 'horse', 'ship', 'truck']\n",
    "\n",
    "def save_images_write_metadata(dataset, purpose, mf):\n",
    "  i = 1\n",
    "  for image, label in dataset:\n",
    "    fn = '{}_{}.jpeg'.format(purpose, i)\n",
    "    tf.keras.preprocessing.image.save_img(TEMP_LOCAL_PATH + fn, image.numpy())\n",
    "    metadata = {\n",
    "      'imageGcsUri': GCS_PATH_FOR_DATA + fn,\n",
    "      'classificationAnnotation': {'displayName': class_names[label.numpy()]},\n",
    "      'dataItemResourceLabels': {'aiplatform.googleapis.com/ml_use': purpose}\n",
    "    }\n",
    "    json.dump(metadata, mf)\n",
    "    mf.write('\\n')\n",
    "    i += 1\n",
    "\n",
    "with open('metadata.jsonl', 'w') as mf:\n",
    "  save_images_write_metadata(cifar10['train'].take(40000), 'train', mf)\n",
    "  save_images_write_metadata(cifar10['train'].skip(40000), 'validation', mf)\n",
    "  save_images_write_metadata(cifar10['test'], 'test', mf)"
   ]
  }
 ],
 "metadata": {
  "environment": {
   "kernel": "python3",
   "name": "tf2-gpu.2-7.m87",
   "type": "gcloud",
   "uri": "gcr.io/deeplearning-platform-release/tf2-gpu.2-7:m87"
  },
  "kernelspec": {
   "display_name": "Python 3",
   "language": "python",
   "name": "python3"
  },
  "language_info": {
   "codemirror_mode": {
    "name": "ipython",
    "version": 3
   },
   "file_extension": ".py",
   "mimetype": "text/x-python",
   "name": "python",
   "nbconvert_exporter": "python",
   "pygments_lexer": "ipython3",
   "version": "3.7.12"
  }
 },
 "nbformat": 4,
 "nbformat_minor": 5
}
